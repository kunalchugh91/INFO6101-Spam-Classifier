{
 "cells": [
  {
   "cell_type": "markdown",
   "metadata": {},
   "source": [
    "In this part, we randomly partition our dataset into test-train splits. We then transform our train dataset to extract features and train a Multinomial Naive Bayes model. Then, we use the test dataset to calculate the accuracy of our prediction."
   ]
  },
  {
   "cell_type": "markdown",
   "metadata": {},
   "source": [
    "### If on Google Colab"
   ]
  },
  {
   "cell_type": "markdown",
   "metadata": {},
   "source": [
    "Execute the below cells only if running on Google Colab. They install the needed packages and download the \"structured.xlsx\" file from Google drive. "
   ]
  },
  {
   "cell_type": "code",
   "execution_count": 1,
   "metadata": {
    "colab": {
     "autoexec": {
      "startup": false,
      "wait_interval": 0
     },
     "base_uri": "https://localhost:8080/",
     "height": 297
    },
    "colab_type": "code",
    "executionInfo": {
     "elapsed": 4949,
     "status": "ok",
     "timestamp": 1533668665960,
     "user": {
      "displayName": "Kunal Chugh",
      "photoUrl": "https://lh3.googleusercontent.com/a/default-user=s128",
      "userId": "105461112688777743201"
     },
     "user_tz": 240
    },
    "id": "ryGdRct8wLj8",
    "outputId": "49040fe1-cc17-4bdb-fd1e-2acef6fc9a91"
   },
   "outputs": [
    {
     "name": "stdout",
     "output_type": "stream",
     "text": [
      "Requirement already satisfied: PyDrive in /usr/local/lib/python3.6/dist-packages (1.3.1)\r\n",
      "Requirement already satisfied: google-api-python-client>=1.2 in /usr/local/lib/python3.6/dist-packages (from PyDrive) (1.6.7)\n",
      "Requirement already satisfied: PyYAML>=3.0 in /usr/local/lib/python3.6/dist-packages (from PyDrive) (3.13)\n",
      "Requirement already satisfied: oauth2client>=4.0.0 in /usr/local/lib/python3.6/dist-packages (from PyDrive) (4.1.2)\n",
      "Requirement already satisfied: six<2dev,>=1.6.1 in /usr/local/lib/python3.6/dist-packages (from google-api-python-client>=1.2->PyDrive) (1.11.0)\n",
      "Requirement already satisfied: uritemplate<4dev,>=3.0.0 in /usr/local/lib/python3.6/dist-packages (from google-api-python-client>=1.2->PyDrive) (3.0.0)\n",
      "Requirement already satisfied: httplib2<1dev,>=0.9.2 in /usr/local/lib/python3.6/dist-packages (from google-api-python-client>=1.2->PyDrive) (0.11.3)\n",
      "Requirement already satisfied: rsa>=3.1.4 in /usr/local/lib/python3.6/dist-packages (from oauth2client>=4.0.0->PyDrive) (3.4.2)\n",
      "Requirement already satisfied: pyasn1>=0.1.7 in /usr/local/lib/python3.6/dist-packages (from oauth2client>=4.0.0->PyDrive) (0.4.4)\n",
      "Requirement already satisfied: pyasn1-modules>=0.0.5 in /usr/local/lib/python3.6/dist-packages (from oauth2client>=4.0.0->PyDrive) (0.2.2)\n",
      "Collecting xlrd\n",
      "\u001b[?25l  Downloading https://files.pythonhosted.org/packages/07/e6/e95c4eec6221bfd8528bcc4ea252a850bffcc4be88ebc367e23a1a84b0bb/xlrd-1.1.0-py2.py3-none-any.whl (108kB)\n",
      "\u001b[K    100% |████████████████████████████████| 112kB 4.2MB/s \n",
      "\u001b[?25hInstalling collected packages: xlrd\n",
      "Successfully installed xlrd-1.1.0\n"
     ]
    }
   ],
   "source": [
    "!pip install PyDrive\n",
    "!pip install xlrd"
   ]
  },
  {
   "cell_type": "code",
   "execution_count": 0,
   "metadata": {
    "colab": {
     "autoexec": {
      "startup": false,
      "wait_interval": 0
     }
    },
    "colab_type": "code",
    "id": "6c5hJ3rFwTBf"
   },
   "outputs": [],
   "source": [
    "import os\n",
    "from pydrive.auth import GoogleAuth\n",
    "from pydrive.drive import GoogleDrive\n",
    "from google.colab import auth\n",
    "from oauth2client.client import GoogleCredentials"
   ]
  },
  {
   "cell_type": "code",
   "execution_count": 0,
   "metadata": {
    "colab": {
     "autoexec": {
      "startup": false,
      "wait_interval": 0
     }
    },
    "colab_type": "code",
    "id": "kOchLLShwV0w"
   },
   "outputs": [],
   "source": [
    "auth.authenticate_user()\n",
    "gauth = GoogleAuth()\n",
    "gauth.credentials = GoogleCredentials.get_application_default()\n",
    "drive = GoogleDrive(gauth)"
   ]
  },
  {
   "cell_type": "code",
   "execution_count": 0,
   "metadata": {
    "colab": {
     "autoexec": {
      "startup": false,
      "wait_interval": 0
     }
    },
    "colab_type": "code",
    "id": "sTsUT9WEwVvC"
   },
   "outputs": [],
   "source": [
    "!rm -rf structured.xlsx\n",
    "download = drive.CreateFile({'id': '1oh_fic0-1N1xh4OlTvGMQ5BTKjOmUYKi'})\n",
    "download.GetContentFile('structured.xlsx')"
   ]
  },
  {
   "cell_type": "code",
   "execution_count": 0,
   "metadata": {
    "colab": {
     "autoexec": {
      "startup": false,
      "wait_interval": 0
     }
    },
    "colab_type": "code",
    "id": "M9wtJ1-vwVpR"
   },
   "outputs": [],
   "source": [
    "download3 = drive.CreateFile({'id': '1iFVW0RxqL1VNrIOrfJXrDkPHF8ewXH49'})\n",
    "download3.GetContentFile('spark-2.3.1-bin-hadoop2.7.tgz')"
   ]
  },
  {
   "cell_type": "code",
   "execution_count": 0,
   "metadata": {
    "colab": {
     "autoexec": {
      "startup": false,
      "wait_interval": 0
     }
    },
    "colab_type": "code",
    "id": "ZAb0XLxEwViq"
   },
   "outputs": [],
   "source": [
    "!apt-get install openjdk-8-jdk-headless -qq > /dev/null\n",
    "!tar xf spark-2.3.1-bin-hadoop2.7.tgz\n",
    "!pip install -q findspark"
   ]
  },
  {
   "cell_type": "markdown",
   "metadata": {},
   "source": [
    "Set environment variables for Java and Spark"
   ]
  },
  {
   "cell_type": "code",
   "execution_count": 0,
   "metadata": {
    "colab": {
     "autoexec": {
      "startup": false,
      "wait_interval": 0
     }
    },
    "colab_type": "code",
    "id": "P5dk3auhwVcN"
   },
   "outputs": [],
   "source": [
    "os.environ[\"JAVA_HOME\"] = \"/usr/lib/jvm/java-8-openjdk-amd64\"\n",
    "os.environ[\"SPARK_HOME\"] = \"/content/spark-2.3.1-bin-hadoop2.7\""
   ]
  },
  {
   "cell_type": "markdown",
   "metadata": {},
   "source": [
    "### If not on Google Colab"
   ]
  },
  {
   "cell_type": "markdown",
   "metadata": {},
   "source": [
    "If running locally, run from here."
   ]
  },
  {
   "cell_type": "code",
   "execution_count": 1,
   "metadata": {
    "colab": {
     "autoexec": {
      "startup": false,
      "wait_interval": 0
     }
    },
    "colab_type": "code",
    "id": "3r_Xb86YwVSo"
   },
   "outputs": [],
   "source": [
    "import pandas as pd\n",
    "import numpy as np\n",
    "import os\n",
    "from time import time\n",
    "from bs4 import BeautifulSoup\n",
    "import math"
   ]
  },
  {
   "cell_type": "markdown",
   "metadata": {},
   "source": [
    "We read the \"structured.xlsx\" file into a pandas dataframe."
   ]
  },
  {
   "cell_type": "code",
   "execution_count": 2,
   "metadata": {
    "colab": {
     "autoexec": {
      "startup": false,
      "wait_interval": 0
     }
    },
    "colab_type": "code",
    "id": "MJqeEU5HwLkK"
   },
   "outputs": [],
   "source": [
    "def conv(content):\n",
    "    '''\n",
    "    convert datatype to string or np.NaN\n",
    "    '''\n",
    "    # if content is NaN\n",
    "    if(content != content):\n",
    "        return np.NaN\n",
    "    # else\n",
    "    return str(content)\n",
    "    "
   ]
  },
  {
   "cell_type": "code",
   "execution_count": 3,
   "metadata": {
    "colab": {
     "autoexec": {
      "startup": false,
      "wait_interval": 0
     }
    },
    "colab_type": "code",
    "id": "f3U4aFaRwLkV"
   },
   "outputs": [],
   "source": [
    "converters = {'Spam':conv, 'Body':conv, 'Subject':conv, 'From':conv, 'To':conv, 'X-UIDL':conv, 'Message-Id':conv, 'Sender':conv}"
   ]
  },
  {
   "cell_type": "code",
   "execution_count": 4,
   "metadata": {
    "colab": {
     "autoexec": {
      "startup": false,
      "wait_interval": 0
     }
    },
    "colab_type": "code",
    "id": "pThgZ3F3wLkf"
   },
   "outputs": [],
   "source": [
    "df_final = pd.read_excel('structured.xlsx', sheet_name='Sheet1', index_col=None, converters=converters )"
   ]
  },
  {
   "cell_type": "code",
   "execution_count": null,
   "metadata": {
    "colab": {
     "autoexec": {
      "startup": false,
      "wait_interval": 0
     }
    },
    "colab_type": "code",
    "id": "Wj92ms0RwLkp"
   },
   "outputs": [],
   "source": []
  },
  {
   "cell_type": "code",
   "execution_count": null,
   "metadata": {
    "colab": {
     "autoexec": {
      "startup": false,
      "wait_interval": 0
     }
    },
    "colab_type": "code",
    "id": "dUx9X4FfwLk7"
   },
   "outputs": [],
   "source": []
  },
  {
   "cell_type": "code",
   "execution_count": null,
   "metadata": {
    "colab": {
     "autoexec": {
      "startup": false,
      "wait_interval": 0
     }
    },
    "colab_type": "code",
    "id": "IJBIFkeOwLlE"
   },
   "outputs": [],
   "source": []
  },
  {
   "cell_type": "code",
   "execution_count": null,
   "metadata": {
    "colab": {
     "autoexec": {
      "startup": false,
      "wait_interval": 0
     }
    },
    "colab_type": "code",
    "id": "aWkzmG-QwLlO"
   },
   "outputs": [],
   "source": []
  },
  {
   "cell_type": "code",
   "execution_count": null,
   "metadata": {
    "colab": {
     "autoexec": {
      "startup": false,
      "wait_interval": 0
     }
    },
    "colab_type": "code",
    "id": "JV_VzU-4wLlX"
   },
   "outputs": [],
   "source": []
  },
  {
   "cell_type": "markdown",
   "metadata": {
    "colab": {
     "autoexec": {
      "startup": false,
      "wait_interval": 0
     }
    },
    "colab_type": "code",
    "id": "N3rLroHLwLlm"
   },
   "source": [
    "## Engineering features from Email Headers"
   ]
  },
  {
   "cell_type": "markdown",
   "metadata": {
    "colab": {
     "autoexec": {
      "startup": false,
      "wait_interval": 0
     }
    },
    "colab_type": "code",
    "id": "SldECPm4wLlw"
   },
   "source": [
    "Email headers show the route an email has taken before arriving at its recipient. It contains important information like sender, recipient, message-id, date and time, subject etc. "
   ]
  },
  {
   "cell_type": "markdown",
   "metadata": {
    "colab": {
     "autoexec": {
      "startup": false,
      "wait_interval": 0
     }
    },
    "colab_type": "code",
    "id": "KKVpQ_a2wLl5"
   },
   "source": [
    "There are two reasons why spammers try to malform email headers.<br/>\n",
    "    1.They try to conceil their identity and real source of the email.<br/>\n",
    "    2.They try to conceil the fact that the email was part of a mass mailing effort. "
   ]
  },
  {
   "cell_type": "markdown",
   "metadata": {},
   "source": [
    "FEATURE1: Spammers will sometimes enter all recipients in the Bcc field, and the address in the 'From' field is used in the 'To' field. Creating a new column 'Feature1' where 1 indicates 'From' field is the same as 'To' field, 0 indicates otherwise."
   ]
  },
  {
   "cell_type": "code",
   "execution_count": 5,
   "metadata": {
    "colab": {
     "autoexec": {
      "startup": false,
      "wait_interval": 0
     },
     "base_uri": "https://localhost:8080/",
     "height": 173
    },
    "colab_type": "code",
    "executionInfo": {
     "elapsed": 452,
     "status": "ok",
     "timestamp": 1533668759354,
     "user": {
      "displayName": "Kunal Chugh",
      "photoUrl": "https://lh3.googleusercontent.com/a/default-user=s128",
      "userId": "105461112688777743201"
     },
     "user_tz": 240
    },
    "id": "MMrlaIx1wLmG",
    "outputId": "4a8757f4-768f-49f0-c65d-d374cd51e178"
   },
   "outputs": [
    {
     "data": {
      "text/html": [
       "<div>\n",
       "<style scoped>\n",
       "    .dataframe tbody tr th:only-of-type {\n",
       "        vertical-align: middle;\n",
       "    }\n",
       "\n",
       "    .dataframe tbody tr th {\n",
       "        vertical-align: top;\n",
       "    }\n",
       "\n",
       "    .dataframe thead th {\n",
       "        text-align: right;\n",
       "    }\n",
       "</style>\n",
       "<table border=\"1\" class=\"dataframe\">\n",
       "  <thead>\n",
       "    <tr style=\"text-align: right;\">\n",
       "      <th></th>\n",
       "      <th>From</th>\n",
       "      <th>To</th>\n",
       "      <th>Message-Id</th>\n",
       "      <th>Subject</th>\n",
       "      <th>Body</th>\n",
       "      <th>Spam</th>\n",
       "      <th>X-UIDL</th>\n",
       "      <th>Sender</th>\n",
       "      <th>Feature1</th>\n",
       "    </tr>\n",
       "  </thead>\n",
       "  <tbody>\n",
       "    <tr>\n",
       "      <th>0</th>\n",
       "      <td>aj881c &lt;aj881c@ix.netcom.com&gt;\\n</td>\n",
       "      <td>&lt;bagpipes@acadia.net&gt;\\n</td>\n",
       "      <td>&lt;19943672.886214@relay.comanche.denmark.eu&gt; M...</td>\n",
       "      <td>2-1\\n</td>\n",
       "      <td>email marketing works!!\\n\\nbull's eye gold is ...</td>\n",
       "      <td>Spam</td>\n",
       "      <td>NaN</td>\n",
       "      <td>NaN</td>\n",
       "      <td>0</td>\n",
       "    </tr>\n",
       "    <tr>\n",
       "      <th>1</th>\n",
       "      <td>iwbp@mailcity.com\\n</td>\n",
       "      <td>members@your.net\\n</td>\n",
       "      <td>&lt;&gt;\\n</td>\n",
       "      <td>Exclusive Internet Business, 1st Time Offered...</td>\n",
       "      <td>&gt;&gt;&gt;this is the most exciting breakthrough ever...</td>\n",
       "      <td>Spam</td>\n",
       "      <td>NaN</td>\n",
       "      <td>NaN</td>\n",
       "      <td>0</td>\n",
       "    </tr>\n",
       "    <tr>\n",
       "      <th>2</th>\n",
       "      <td>am74rt &lt;am74rt@worldnet.att.net&gt;\\n</td>\n",
       "      <td>&lt;badams@eastky.com&gt;\\n</td>\n",
       "      <td>&lt;19943672.886214@relay.comanche.denmark.eu&gt; T...</td>\n",
       "      <td>2-17\\n</td>\n",
       "      <td>email marketing works!!\\n\\nbull's eye gold is ...</td>\n",
       "      <td>Spam</td>\n",
       "      <td>NaN</td>\n",
       "      <td>NaN</td>\n",
       "      <td>0</td>\n",
       "    </tr>\n",
       "    <tr>\n",
       "      <th>3</th>\n",
       "      <td>\"D.Reynolds\" &lt;subwiz1@friendlyserver.com&gt;\\n</td>\n",
       "      <td>NaN</td>\n",
       "      <td>&lt;199802161222.EAA24869@net1.aoci.com&gt;\\n</td>\n",
       "      <td>ADV: FREE DOWNLOAD:Register your web site to ...</td>\n",
       "      <td>free download.register your web site to over 7...</td>\n",
       "      <td>Spam</td>\n",
       "      <td>NaN</td>\n",
       "      <td>NaN</td>\n",
       "      <td>0</td>\n",
       "    </tr>\n",
       "    <tr>\n",
       "      <th>4</th>\n",
       "      <td>carlover@goplay.com\\n</td>\n",
       "      <td>carlovers@america.com\\n</td>\n",
       "      <td>&lt;&gt;\\n</td>\n",
       "      <td>AUTOMOBILE OPPORTUNITY\\n</td>\n",
       "      <td>do you love cars?\\n\\nwant your own business?\\n...</td>\n",
       "      <td>Spam</td>\n",
       "      <td>NaN</td>\n",
       "      <td>NaN</td>\n",
       "      <td>0</td>\n",
       "    </tr>\n",
       "  </tbody>\n",
       "</table>\n",
       "</div>"
      ],
      "text/plain": [
       "                                           From  \\\n",
       "0               aj881c <aj881c@ix.netcom.com>\\n   \n",
       "1                           iwbp@mailcity.com\\n   \n",
       "2            am74rt <am74rt@worldnet.att.net>\\n   \n",
       "3   \"D.Reynolds\" <subwiz1@friendlyserver.com>\\n   \n",
       "4                         carlover@goplay.com\\n   \n",
       "\n",
       "                                To  \\\n",
       "0          <bagpipes@acadia.net>\\n   \n",
       "1               members@your.net\\n   \n",
       "2            <badams@eastky.com>\\n   \n",
       "3                              NaN   \n",
       "4          carlovers@america.com\\n   \n",
       "\n",
       "                                          Message-Id  \\\n",
       "0   <19943672.886214@relay.comanche.denmark.eu> M...   \n",
       "1                                               <>\\n   \n",
       "2   <19943672.886214@relay.comanche.denmark.eu> T...   \n",
       "3            <199802161222.EAA24869@net1.aoci.com>\\n   \n",
       "4                                               <>\\n   \n",
       "\n",
       "                                             Subject  \\\n",
       "0                                              2-1\\n   \n",
       "1   Exclusive Internet Business, 1st Time Offered...   \n",
       "2                                             2-17\\n   \n",
       "3   ADV: FREE DOWNLOAD:Register your web site to ...   \n",
       "4                           AUTOMOBILE OPPORTUNITY\\n   \n",
       "\n",
       "                                                Body  Spam X-UIDL Sender  \\\n",
       "0  email marketing works!!\\n\\nbull's eye gold is ...  Spam    NaN    NaN   \n",
       "1  >>>this is the most exciting breakthrough ever...  Spam    NaN    NaN   \n",
       "2  email marketing works!!\\n\\nbull's eye gold is ...  Spam    NaN    NaN   \n",
       "3  free download.register your web site to over 7...  Spam    NaN    NaN   \n",
       "4  do you love cars?\\n\\nwant your own business?\\n...  Spam    NaN    NaN   \n",
       "\n",
       "   Feature1  \n",
       "0         0  \n",
       "1         0  \n",
       "2         0  \n",
       "3         0  \n",
       "4         0  "
      ]
     },
     "execution_count": 5,
     "metadata": {},
     "output_type": "execute_result"
    }
   ],
   "source": [
    "# Feature1 -> From same as To. If yes -> 1, else 0\n",
    "df_final['Feature1'] = 0\n",
    "df_final.loc[df_final['From'] == df_final['To'], 'Feature1'] = 1\n",
    "df_final.head()"
   ]
  },
  {
   "cell_type": "markdown",
   "metadata": {},
   "source": [
    "FEATURE2: Again, because spammers send out emails by filling the 'Bcc' field, they sometimes leave the 'To' field empty or with an invalid string. Creating a new column 'Feature2' where 1 indicates invalid or NaN 'To' field, 0 indicates otherwise."
   ]
  },
  {
   "cell_type": "markdown",
   "metadata": {},
   "source": [
    "The method defined below splits the passed string around the ',' character, to get individual email addresses, \n",
    "which are stripped off of the new line chars. Method can handle email address strings like \n",
    "`\"Tomas Jacobs\" <RickyAmes@aol.com>` also. Regex is then used to check format correctness"
   ]
  },
  {
   "cell_type": "code",
   "execution_count": 6,
   "metadata": {
    "colab": {
     "autoexec": {
      "startup": false,
      "wait_interval": 0
     }
    },
    "colab_type": "code",
    "id": "iGjz3BYHwLmX"
   },
   "outputs": [],
   "source": [
    "import re\n",
    "def isValidEmailFormat(emails):\n",
    "    \"\"\"The method splits the passed string around the ',' character, to get individual \n",
    "    email addresses, which are stripped off of the new line chars. Method can handle email address \n",
    "    strings like  \"Tomas Jacobs\" <RickyAmes@aol.com> also. Regex is then used to check format \n",
    "    correctness\"\"\"\n",
    "    for email in str(emails).split(','):\n",
    "        if(email.isspace() or len(email) == 0):\n",
    "            continue\n",
    "        \n",
    "        # strip new line chars\n",
    "        email = re.sub(r'(\\n+)', r' ', str(email)).strip()\n",
    "        #print(email)\n",
    "        \n",
    "        # handle both \"Tomas Jacobs\" <RickyAmes@aol.com> or <RickyAmes@aol.com>\n",
    "        if(re.match(r\"(.+)<(.+)>|<(.+)>\", email)):\n",
    "            email = email[email.find(\"<\")+1:-1]\n",
    "            #print(0, email)\n",
    "            \n",
    "        if(len(email) > 7):\n",
    "            if(re.match(\"^.+@([?)[a-zA-Z0-9-.]+.([a-zA-Z]{2,3}|[0-9]{1,3})(]?))$\", email) != None):\n",
    "                #print('continue')\n",
    "                continue\n",
    "            else:\n",
    "                #print('1')\n",
    "                return 1\n",
    "        else:\n",
    "            return 1\n",
    "        \n",
    "    return 0"
   ]
  },
  {
   "cell_type": "code",
   "execution_count": 7,
   "metadata": {
    "colab": {
     "autoexec": {
      "startup": false,
      "wait_interval": 0
     },
     "base_uri": "https://localhost:8080/",
     "height": 231150
    },
    "colab_type": "code",
    "executionInfo": {
     "elapsed": 3046,
     "status": "ok",
     "timestamp": 1533668771585,
     "user": {
      "displayName": "Kunal Chugh",
      "photoUrl": "https://lh3.googleusercontent.com/a/default-user=s128",
      "userId": "105461112688777743201"
     },
     "user_tz": 240
    },
    "id": "ITkJr7e_wLm4",
    "outputId": "b9527707-019a-45a2-f49f-4c9cb3e14451"
   },
   "outputs": [
    {
     "data": {
      "text/html": [
       "<div>\n",
       "<style scoped>\n",
       "    .dataframe tbody tr th:only-of-type {\n",
       "        vertical-align: middle;\n",
       "    }\n",
       "\n",
       "    .dataframe tbody tr th {\n",
       "        vertical-align: top;\n",
       "    }\n",
       "\n",
       "    .dataframe thead th {\n",
       "        text-align: right;\n",
       "    }\n",
       "</style>\n",
       "<table border=\"1\" class=\"dataframe\">\n",
       "  <thead>\n",
       "    <tr style=\"text-align: right;\">\n",
       "      <th></th>\n",
       "      <th>Feature2</th>\n",
       "      <th>To</th>\n",
       "    </tr>\n",
       "  </thead>\n",
       "  <tbody>\n",
       "    <tr>\n",
       "      <th>0</th>\n",
       "      <td>0</td>\n",
       "      <td>&lt;bagpipes@acadia.net&gt;\\n</td>\n",
       "    </tr>\n",
       "    <tr>\n",
       "      <th>1</th>\n",
       "      <td>0</td>\n",
       "      <td>members@your.net\\n</td>\n",
       "    </tr>\n",
       "    <tr>\n",
       "      <th>2</th>\n",
       "      <td>0</td>\n",
       "      <td>&lt;badams@eastky.com&gt;\\n</td>\n",
       "    </tr>\n",
       "    <tr>\n",
       "      <th>3</th>\n",
       "      <td>1</td>\n",
       "      <td>NaN</td>\n",
       "    </tr>\n",
       "    <tr>\n",
       "      <th>4</th>\n",
       "      <td>0</td>\n",
       "      <td>carlovers@america.com\\n</td>\n",
       "    </tr>\n",
       "  </tbody>\n",
       "</table>\n",
       "</div>"
      ],
      "text/plain": [
       "   Feature2                               To\n",
       "0         0          <bagpipes@acadia.net>\\n\n",
       "1         0               members@your.net\\n\n",
       "2         0            <badams@eastky.com>\\n\n",
       "3         1                              NaN\n",
       "4         0          carlovers@america.com\\n"
      ]
     },
     "execution_count": 7,
     "metadata": {},
     "output_type": "execute_result"
    }
   ],
   "source": [
    "# Feature2 -> is the To column na or invalid ? 1->invalid, 0->valid\n",
    "df_final['Feature2'] = 0\n",
    "df_final['Feature2'] = df_final['To'].map(isValidEmailFormat)\n",
    "df_final.loc[df_final['To'].isna(),'Feature2'] = 1\n",
    "df_final[['Feature2','To']].head()"
   ]
  },
  {
   "cell_type": "code",
   "execution_count": null,
   "metadata": {},
   "outputs": [],
   "source": []
  },
  {
   "cell_type": "code",
   "execution_count": 8,
   "metadata": {
    "colab": {
     "autoexec": {
      "startup": false,
      "wait_interval": 0
     },
     "base_uri": "https://localhost:8080/",
     "height": 1949
    },
    "colab_type": "code",
    "executionInfo": {
     "elapsed": 450,
     "status": "ok",
     "timestamp": 1533668801276,
     "user": {
      "displayName": "Kunal Chugh",
      "photoUrl": "https://lh3.googleusercontent.com/a/default-user=s128",
      "userId": "105461112688777743201"
     },
     "user_tz": 240
    },
    "id": "z4LZuGKQwLnJ",
    "outputId": "754c34e7-f9f7-4ca8-e96a-eca64304af92"
   },
   "outputs": [],
   "source": [
    "#df_final[df_final['To'].notna() & df_final['Feature2'] == 1][['To','Feature2']]"
   ]
  },
  {
   "cell_type": "code",
   "execution_count": null,
   "metadata": {
    "colab": {
     "autoexec": {
      "startup": false,
      "wait_interval": 0
     }
    },
    "colab_type": "code",
    "id": "jlqtP88MwLnX"
   },
   "outputs": [],
   "source": []
  },
  {
   "cell_type": "code",
   "execution_count": null,
   "metadata": {
    "colab": {
     "autoexec": {
      "startup": false,
      "wait_interval": 0
     }
    },
    "colab_type": "code",
    "id": "T1VtQD22wLnk"
   },
   "outputs": [],
   "source": []
  },
  {
   "cell_type": "code",
   "execution_count": null,
   "metadata": {
    "colab": {
     "autoexec": {
      "startup": false,
      "wait_interval": 0
     }
    },
    "colab_type": "code",
    "id": "ChqoyTdXwLnr"
   },
   "outputs": [],
   "source": []
  },
  {
   "cell_type": "code",
   "execution_count": null,
   "metadata": {
    "colab": {
     "autoexec": {
      "startup": false,
      "wait_interval": 0
     }
    },
    "colab_type": "code",
    "id": "yrg3RmecwLnz"
   },
   "outputs": [],
   "source": []
  },
  {
   "cell_type": "code",
   "execution_count": 9,
   "metadata": {
    "colab": {
     "autoexec": {
      "startup": false,
      "wait_interval": 0
     }
    },
    "colab_type": "code",
    "id": "eMOKaUT0wLn6"
   },
   "outputs": [],
   "source": [
    "import re\n",
    "def isValidMessageID(mid):\n",
    "    '''\n",
    "    checks for valid domain in message id where 0 is valid and 1 is invalid\n",
    "    '''\n",
    "    for email in str(mid).split('\\n'):\n",
    "        if(email.isspace() or len(email) == 0 or email.find('@') < 0):\n",
    "            continue\n",
    "            \n",
    "        email = email.strip()\n",
    "        #print(email)\n",
    "        \n",
    "        if(re.match(r\"(.+)?<<(.+)@(.+)>>(.+)?\", email)):\n",
    "            email = email[email.find(\"<<\")+1:email.rfind(\">>\")]\n",
    "            #print(0, email)\n",
    "        \n",
    "        if(re.match(r\"(.+)?<(.+)@(.+)>(.+)?\", email)):\n",
    "            email = email[email.find(\"<\")+1:email.rfind(\">\")]\n",
    "            #print(0, email)\n",
    "            \n",
    "        if(len(email) > 7):\n",
    "            if(re.match(\"^.+@([?)[a-zA-Z0-9-.]+.([a-zA-Z]{2,3}|[0-9]{1,3})(]?))$\", email) != None):\n",
    "                return 0\n",
    "            else:\n",
    "                continue\n",
    "        else:\n",
    "            continue\n",
    "        \n",
    "    return 1"
   ]
  },
  {
   "cell_type": "markdown",
   "metadata": {
    "colab": {
     "autoexec": {
      "startup": false,
      "wait_interval": 0
     }
    },
    "colab_type": "code",
    "id": "hXvX2jFRwLoB"
   },
   "source": [
    "FEATURE3: Since the 'Message-Id' contains information about where the email is coming from, in spam mails, it is typically missing or malformed. Message-Ids are of the form xxx@domain.com. The method below checks the correctness of the Message-Id format. Creating a new column 'Feature3' where 1 indicates Message-ID malformed or missing, 0 indicates otherwise. "
   ]
  },
  {
   "cell_type": "code",
   "execution_count": 10,
   "metadata": {
    "colab": {
     "autoexec": {
      "startup": false,
      "wait_interval": 0
     },
     "base_uri": "https://localhost:8080/",
     "height": 176047
    },
    "colab_type": "code",
    "executionInfo": {
     "elapsed": 2916,
     "status": "ok",
     "timestamp": 1533668819596,
     "user": {
      "displayName": "Kunal Chugh",
      "photoUrl": "https://lh3.googleusercontent.com/a/default-user=s128",
      "userId": "105461112688777743201"
     },
     "user_tz": 240
    },
    "id": "N0w6L-cqwLoI",
    "outputId": "32edcb61-d606-4075-cace-6d64584c029d"
   },
   "outputs": [
    {
     "data": {
      "text/html": [
       "<div>\n",
       "<style scoped>\n",
       "    .dataframe tbody tr th:only-of-type {\n",
       "        vertical-align: middle;\n",
       "    }\n",
       "\n",
       "    .dataframe tbody tr th {\n",
       "        vertical-align: top;\n",
       "    }\n",
       "\n",
       "    .dataframe thead th {\n",
       "        text-align: right;\n",
       "    }\n",
       "</style>\n",
       "<table border=\"1\" class=\"dataframe\">\n",
       "  <thead>\n",
       "    <tr style=\"text-align: right;\">\n",
       "      <th></th>\n",
       "      <th>Feature3</th>\n",
       "      <th>Message-Id</th>\n",
       "    </tr>\n",
       "  </thead>\n",
       "  <tbody>\n",
       "    <tr>\n",
       "      <th>0</th>\n",
       "      <td>0</td>\n",
       "      <td>&lt;19943672.886214@relay.comanche.denmark.eu&gt; M...</td>\n",
       "    </tr>\n",
       "    <tr>\n",
       "      <th>1</th>\n",
       "      <td>1</td>\n",
       "      <td>&lt;&gt;\\n</td>\n",
       "    </tr>\n",
       "    <tr>\n",
       "      <th>2</th>\n",
       "      <td>0</td>\n",
       "      <td>&lt;19943672.886214@relay.comanche.denmark.eu&gt; T...</td>\n",
       "    </tr>\n",
       "    <tr>\n",
       "      <th>3</th>\n",
       "      <td>0</td>\n",
       "      <td>&lt;199802161222.EAA24869@net1.aoci.com&gt;\\n</td>\n",
       "    </tr>\n",
       "    <tr>\n",
       "      <th>4</th>\n",
       "      <td>1</td>\n",
       "      <td>&lt;&gt;\\n</td>\n",
       "    </tr>\n",
       "  </tbody>\n",
       "</table>\n",
       "</div>"
      ],
      "text/plain": [
       "   Feature3                                         Message-Id\n",
       "0         0   <19943672.886214@relay.comanche.denmark.eu> M...\n",
       "1         1                                               <>\\n\n",
       "2         0   <19943672.886214@relay.comanche.denmark.eu> T...\n",
       "3         0            <199802161222.EAA24869@net1.aoci.com>\\n\n",
       "4         1                                               <>\\n"
      ]
     },
     "execution_count": 10,
     "metadata": {},
     "output_type": "execute_result"
    }
   ],
   "source": [
    "# Feature3 -> is the Message-Id column na or invalid ? 1->invalid, 0->valid\n",
    "df_final['Feature3'] = 0\n",
    "df_final['Feature3'] = df_final['Message-Id'].map(isValidMessageID)\n",
    "df_final.loc[df_final['Message-Id'].isna(),'Feature3'] = 1\n",
    "df_final[['Feature3','Message-Id']].head()"
   ]
  },
  {
   "cell_type": "markdown",
   "metadata": {},
   "source": [
    "Displaying Message-Id values that are malformed."
   ]
  },
  {
   "cell_type": "code",
   "execution_count": 11,
   "metadata": {},
   "outputs": [
    {
     "data": {
      "text/plain": [
       "1                           <>\\n\n",
       "4                           <>\\n\n",
       "5       Mach10 1.1 fxpromo.com\\n\n",
       "10     <199803250408.UAA03361>\\n\n",
       "13                           NaN\n",
       "Name: Message-Id, dtype: object"
      ]
     },
     "execution_count": 11,
     "metadata": {},
     "output_type": "execute_result"
    }
   ],
   "source": [
    "df_final.loc[df_final['Feature3'] == 1]['Message-Id'].head()"
   ]
  },
  {
   "cell_type": "markdown",
   "metadata": {},
   "source": [
    "FEATURE4: The 'X-UIDL' header is intended to stop the recepient's mail server from downloading multiple copies of the mail once the mail is received. Normally, X-UIDL is stripped once the mail is received. Spammers' intentionally add the X-UIDL, so that mail servers download multiple copies of the mail, increasing chances of it being read. Creating a new column 'Feature4', where 1 indicates X-UIDL not empty, 0 indicates otherwise."
   ]
  },
  {
   "cell_type": "code",
   "execution_count": 12,
   "metadata": {
    "colab": {
     "autoexec": {
      "startup": false,
      "wait_interval": 0
     },
     "base_uri": "https://localhost:8080/",
     "height": 225
    },
    "colab_type": "code",
    "executionInfo": {
     "elapsed": 439,
     "status": "ok",
     "timestamp": 1533668852316,
     "user": {
      "displayName": "Kunal Chugh",
      "photoUrl": "https://lh3.googleusercontent.com/a/default-user=s128",
      "userId": "105461112688777743201"
     },
     "user_tz": 240
    },
    "id": "packLmkiwLoS",
    "outputId": "5d8908fb-bb7b-4f3c-fd08-d16f9da714d8"
   },
   "outputs": [
    {
     "data": {
      "text/html": [
       "<div>\n",
       "<style scoped>\n",
       "    .dataframe tbody tr th:only-of-type {\n",
       "        vertical-align: middle;\n",
       "    }\n",
       "\n",
       "    .dataframe tbody tr th {\n",
       "        vertical-align: top;\n",
       "    }\n",
       "\n",
       "    .dataframe thead th {\n",
       "        text-align: right;\n",
       "    }\n",
       "</style>\n",
       "<table border=\"1\" class=\"dataframe\">\n",
       "  <thead>\n",
       "    <tr style=\"text-align: right;\">\n",
       "      <th></th>\n",
       "      <th>Feature4</th>\n",
       "      <th>X-UIDL</th>\n",
       "    </tr>\n",
       "  </thead>\n",
       "  <tbody>\n",
       "    <tr>\n",
       "      <th>0</th>\n",
       "      <td>0</td>\n",
       "      <td>NaN</td>\n",
       "    </tr>\n",
       "    <tr>\n",
       "      <th>1</th>\n",
       "      <td>0</td>\n",
       "      <td>NaN</td>\n",
       "    </tr>\n",
       "    <tr>\n",
       "      <th>2</th>\n",
       "      <td>0</td>\n",
       "      <td>NaN</td>\n",
       "    </tr>\n",
       "    <tr>\n",
       "      <th>3</th>\n",
       "      <td>0</td>\n",
       "      <td>NaN</td>\n",
       "    </tr>\n",
       "    <tr>\n",
       "      <th>4</th>\n",
       "      <td>0</td>\n",
       "      <td>NaN</td>\n",
       "    </tr>\n",
       "  </tbody>\n",
       "</table>\n",
       "</div>"
      ],
      "text/plain": [
       "   Feature4 X-UIDL\n",
       "0         0    NaN\n",
       "1         0    NaN\n",
       "2         0    NaN\n",
       "3         0    NaN\n",
       "4         0    NaN"
      ]
     },
     "execution_count": 12,
     "metadata": {},
     "output_type": "execute_result"
    }
   ],
   "source": [
    "# Feature4, is the X-UIDL header not empty or na ? 1->not empty, 0->empty \n",
    "df_final['Feature4'] = 0\n",
    "df_final.loc[df_final['X-UIDL'].notna(), 'Feature4'] = 1\n",
    "df_final.loc[df_final['X-UIDL'].isna(), 'Feature4'] = 0\n",
    "df_final[['Feature4', 'X-UIDL']].head()"
   ]
  },
  {
   "cell_type": "markdown",
   "metadata": {},
   "source": [
    "Displaying rows where X-UIDL is not empty."
   ]
  },
  {
   "cell_type": "code",
   "execution_count": 13,
   "metadata": {},
   "outputs": [
    {
     "data": {
      "text/plain": [
       "9      c89dd4e061ba173523703cf25c3133a2\\n\n",
       "11     763cf6e5123c1287a83f12d7e99c60c9\\n\n",
       "16                  10293287_192832.222\\n\n",
       "22     f2c3e4bf7654f32bfd17a6c54dc32f1d\\n\n",
       "24     11111111111111111111111111111111\\n\n",
       "Name: X-UIDL, dtype: object"
      ]
     },
     "execution_count": 13,
     "metadata": {},
     "output_type": "execute_result"
    }
   ],
   "source": [
    "df_final.loc[df_final['Feature4']==1]['X-UIDL'].head()"
   ]
  },
  {
   "cell_type": "code",
   "execution_count": null,
   "metadata": {},
   "outputs": [],
   "source": []
  },
  {
   "cell_type": "code",
   "execution_count": null,
   "metadata": {
    "colab": {
     "autoexec": {
      "startup": false,
      "wait_interval": 0
     }
    },
    "colab_type": "code",
    "id": "XqiDfr4zwLpv"
   },
   "outputs": [],
   "source": []
  },
  {
   "cell_type": "markdown",
   "metadata": {
    "colab": {
     "autoexec": {
      "startup": false,
      "wait_interval": 0
     }
    },
    "colab_type": "code",
    "id": "hcIVwPO0wLqI"
   },
   "source": [
    "FEATURE5: Now, we process the body to extract features that distinguish spam from ham. Spammers will typically use certain words (eg. free, limited offer, click here) to catch the attention of their recipients. Overuse of capitals and punctuation marks are also a marked characteristic of spam. Also, spammers will intentionally mis-spell words (eg. w4rning for warning), to bypass spam filters. So, a quantity like 'percent mis-spelt email' may make a good feature for detecting spam. "
   ]
  },
  {
   "cell_type": "markdown",
   "metadata": {
    "colab": {
     "autoexec": {
      "startup": false,
      "wait_interval": 0
     }
    },
    "colab_type": "code",
    "id": "yDHwdu46wLqP"
   },
   "source": [
    "We will try to leverage the fact that spammers use certain words often in their emails. First, we create a pyspark dataframe from our pandas dataframe. "
   ]
  },
  {
   "cell_type": "code",
   "execution_count": 14,
   "metadata": {
    "colab": {
     "autoexec": {
      "startup": false,
      "wait_interval": 0
     }
    },
    "colab_type": "code",
    "id": "KO0RIaKVwLqa"
   },
   "outputs": [],
   "source": [
    "import findspark\n",
    "findspark.init()\n",
    "import pyspark\n",
    "from pyspark.ml.feature import HashingTF, IDF, IDFModel, Tokenizer, RegexTokenizer, StopWordsRemover\n",
    "from pyspark.sql import SparkSession\n",
    "\n",
    "spark = SparkSession.builder.getOrCreate()"
   ]
  },
  {
   "cell_type": "code",
   "execution_count": 15,
   "metadata": {
    "colab": {
     "autoexec": {
      "startup": false,
      "wait_interval": 0
     }
    },
    "colab_type": "code",
    "id": "EjiSF43_wLqk"
   },
   "outputs": [],
   "source": [
    "# Now, we create a Spark, Pandas dataframe of features from df_final\n",
    "# Features include TFIDF vector, vector of misspellings count per email, punctuation count per email "
   ]
  },
  {
   "cell_type": "code",
   "execution_count": 16,
   "metadata": {
    "colab": {
     "autoexec": {
      "startup": false,
      "wait_interval": 0
     }
    },
    "colab_type": "code",
    "id": "AiGps5pswLqt"
   },
   "outputs": [],
   "source": [
    "import re\n",
    "# clean a string off punctuations and additional whitespace, new line characters.\n",
    "def processString(body):\n",
    "    body = body.replace(\"'\", \"\")\n",
    "    body = re.sub(r\"[^\\w\\s]|_\", \" \", body)\n",
    "    body = re.sub(\"[\\s+]\", \" \", body)\n",
    "    return body"
   ]
  },
  {
   "cell_type": "markdown",
   "metadata": {
    "colab": {
     "autoexec": {
      "startup": false,
      "wait_interval": 0
     },
     "base_uri": "https://localhost:8080/",
     "height": 1092
    },
    "colab_type": "code",
    "executionInfo": {
     "elapsed": 470,
     "status": "ok",
     "timestamp": 1533668939920,
     "user": {
      "displayName": "Kunal Chugh",
      "photoUrl": "https://lh3.googleusercontent.com/a/default-user=s128",
      "userId": "105461112688777743201"
     },
     "user_tz": 240
    },
    "id": "-WRp8oMowLq0",
    "outputId": "179f654d-6cf3-4528-ec86-cee709fccaac"
   },
   "source": [
    "Right now, the email body is in it's raw form. We process it to remove punctuation, redundant white space and trim it."
   ]
  },
  {
   "cell_type": "code",
   "execution_count": 17,
   "metadata": {
    "colab": {
     "autoexec": {
      "startup": false,
      "wait_interval": 0
     }
    },
    "colab_type": "code",
    "id": "AAKrff53wLq8"
   },
   "outputs": [],
   "source": [
    "# Feature 5 - TFIDF\n",
    "body = df_final['Body']\n",
    "body = body.map(processString, na_action='ignore')"
   ]
  },
  {
   "cell_type": "markdown",
   "metadata": {},
   "source": [
    "Convert to pandas dataframe"
   ]
  },
  {
   "cell_type": "code",
   "execution_count": 18,
   "metadata": {
    "colab": {
     "autoexec": {
      "startup": false,
      "wait_interval": 0
     },
     "base_uri": "https://localhost:8080/",
     "height": 202
    },
    "colab_type": "code",
    "executionInfo": {
     "elapsed": 491,
     "status": "ok",
     "timestamp": 1533668945995,
     "user": {
      "displayName": "Kunal Chugh",
      "photoUrl": "https://lh3.googleusercontent.com/a/default-user=s128",
      "userId": "105461112688777743201"
     },
     "user_tz": 240
    },
    "id": "BDd_b5w9wLrD",
    "outputId": "5167c8a5-3cd7-4646-b773-1ffbe0a419ca"
   },
   "outputs": [
    {
     "data": {
      "text/html": [
       "<div>\n",
       "<style scoped>\n",
       "    .dataframe tbody tr th:only-of-type {\n",
       "        vertical-align: middle;\n",
       "    }\n",
       "\n",
       "    .dataframe tbody tr th {\n",
       "        vertical-align: top;\n",
       "    }\n",
       "\n",
       "    .dataframe thead th {\n",
       "        text-align: right;\n",
       "    }\n",
       "</style>\n",
       "<table border=\"1\" class=\"dataframe\">\n",
       "  <thead>\n",
       "    <tr style=\"text-align: right;\">\n",
       "      <th></th>\n",
       "      <th>Body</th>\n",
       "      <th>RawFeature1</th>\n",
       "      <th>RawFeature2</th>\n",
       "      <th>RawFeature3</th>\n",
       "      <th>RawFeature4</th>\n",
       "      <th>Spam</th>\n",
       "    </tr>\n",
       "  </thead>\n",
       "  <tbody>\n",
       "    <tr>\n",
       "      <th>0</th>\n",
       "      <td>email marketing works    bulls eye gold is the...</td>\n",
       "      <td>0</td>\n",
       "      <td>0</td>\n",
       "      <td>0</td>\n",
       "      <td>0</td>\n",
       "      <td>Spam</td>\n",
       "    </tr>\n",
       "    <tr>\n",
       "      <th>1</th>\n",
       "      <td>this is the most exciting breakthrough ever...</td>\n",
       "      <td>0</td>\n",
       "      <td>0</td>\n",
       "      <td>1</td>\n",
       "      <td>0</td>\n",
       "      <td>Spam</td>\n",
       "    </tr>\n",
       "    <tr>\n",
       "      <th>2</th>\n",
       "      <td>email marketing works    bulls eye gold is the...</td>\n",
       "      <td>0</td>\n",
       "      <td>0</td>\n",
       "      <td>0</td>\n",
       "      <td>0</td>\n",
       "      <td>Spam</td>\n",
       "    </tr>\n",
       "    <tr>\n",
       "      <th>3</th>\n",
       "      <td>free download register your web site to over 7...</td>\n",
       "      <td>0</td>\n",
       "      <td>1</td>\n",
       "      <td>0</td>\n",
       "      <td>0</td>\n",
       "      <td>Spam</td>\n",
       "    </tr>\n",
       "    <tr>\n",
       "      <th>4</th>\n",
       "      <td>do you love cars   want your own business   th...</td>\n",
       "      <td>0</td>\n",
       "      <td>0</td>\n",
       "      <td>1</td>\n",
       "      <td>0</td>\n",
       "      <td>Spam</td>\n",
       "    </tr>\n",
       "  </tbody>\n",
       "</table>\n",
       "</div>"
      ],
      "text/plain": [
       "                                                Body  RawFeature1  \\\n",
       "0  email marketing works    bulls eye gold is the...            0   \n",
       "1     this is the most exciting breakthrough ever...            0   \n",
       "2  email marketing works    bulls eye gold is the...            0   \n",
       "3  free download register your web site to over 7...            0   \n",
       "4  do you love cars   want your own business   th...            0   \n",
       "\n",
       "   RawFeature2  RawFeature3  RawFeature4  Spam  \n",
       "0            0            0            0  Spam  \n",
       "1            0            1            0  Spam  \n",
       "2            0            0            0  Spam  \n",
       "3            1            0            0  Spam  \n",
       "4            0            1            0  Spam  "
      ]
     },
     "execution_count": 18,
     "metadata": {},
     "output_type": "execute_result"
    }
   ],
   "source": [
    "pddf = pd.DataFrame(body, columns=['Body'])\n",
    "pddf['RawFeature1'] = df_final['Feature1']\n",
    "pddf['RawFeature2'] = df_final['Feature2']\n",
    "pddf['RawFeature3'] = df_final['Feature3']\n",
    "pddf['RawFeature4'] = df_final['Feature4']\n",
    "pddf['Spam'] = df_final['Spam']\n",
    "pddf.head()"
   ]
  },
  {
   "cell_type": "markdown",
   "metadata": {
    "colab": {
     "autoexec": {
      "startup": false,
      "wait_interval": 0
     }
    },
    "colab_type": "code",
    "id": "FFo5frWPwLrL"
   },
   "source": [
    "Before creating the spark dataframe, we replace all NaNs with empty string. Our spark dataframe now contains body, individual features 1-4 and the label(spam or ham). "
   ]
  },
  {
   "cell_type": "code",
   "execution_count": 19,
   "metadata": {
    "colab": {
     "autoexec": {
      "startup": false,
      "wait_interval": 0
     },
     "base_uri": "https://localhost:8080/",
     "height": 173
    },
    "colab_type": "code",
    "executionInfo": {
     "elapsed": 6851,
     "status": "ok",
     "timestamp": 1533668957499,
     "user": {
      "displayName": "Kunal Chugh",
      "photoUrl": "https://lh3.googleusercontent.com/a/default-user=s128",
      "userId": "105461112688777743201"
     },
     "user_tz": 240
    },
    "id": "G9wHfFNSwLrR",
    "outputId": "e03de357-9615-466c-f36f-8ea94855c267"
   },
   "outputs": [
    {
     "name": "stdout",
     "output_type": "stream",
     "text": [
      "+--------------------+-----------+-----------+-----------+-----------+----+\n",
      "|                Body|RawFeature1|RawFeature2|RawFeature3|RawFeature4|Spam|\n",
      "+--------------------+-----------+-----------+-----------+-----------+----+\n",
      "|email marketing w...|          0|          0|          0|          0|Spam|\n",
      "|   this is the mo...|          0|          0|          1|          0|Spam|\n",
      "|email marketing w...|          0|          0|          0|          0|Spam|\n",
      "+--------------------+-----------+-----------+-----------+-----------+----+\n",
      "only showing top 3 rows\n",
      "\n"
     ]
    }
   ],
   "source": [
    "pddf.fillna(\"\", inplace=True)\n",
    "df = spark.createDataFrame(pddf)\n",
    "df.show(3)"
   ]
  },
  {
   "cell_type": "markdown",
   "metadata": {},
   "source": [
    "Using spark StringIndexer to index the label column. 0.0 indicates spam and 1.0 indicates ham."
   ]
  },
  {
   "cell_type": "code",
   "execution_count": 20,
   "metadata": {
    "colab": {
     "autoexec": {
      "startup": false,
      "wait_interval": 0
     },
     "base_uri": "https://localhost:8080/",
     "height": 173
    },
    "colab_type": "code",
    "executionInfo": {
     "elapsed": 2817,
     "status": "ok",
     "timestamp": 1533668962514,
     "user": {
      "displayName": "Kunal Chugh",
      "photoUrl": "https://lh3.googleusercontent.com/a/default-user=s128",
      "userId": "105461112688777743201"
     },
     "user_tz": 240
    },
    "id": "I-kw_XAdwLrm",
    "outputId": "e0af64f8-dc42-4a41-e359-888aab553eea"
   },
   "outputs": [
    {
     "name": "stdout",
     "output_type": "stream",
     "text": [
      "+--------------------+-----------+-----------+-----------+-----------+----+-----+\n",
      "|                Body|RawFeature1|RawFeature2|RawFeature3|RawFeature4|Spam|label|\n",
      "+--------------------+-----------+-----------+-----------+-----------+----+-----+\n",
      "|email marketing w...|          0|          0|          0|          0|Spam|  0.0|\n",
      "|   this is the mo...|          0|          0|          1|          0|Spam|  0.0|\n",
      "|email marketing w...|          0|          0|          0|          0|Spam|  0.0|\n",
      "+--------------------+-----------+-----------+-----------+-----------+----+-----+\n",
      "only showing top 3 rows\n",
      "\n"
     ]
    }
   ],
   "source": [
    "from pyspark.ml.feature import StringIndexer\n",
    "stringIndexer = StringIndexer(inputCol='Spam', outputCol='label')\n",
    "df = stringIndexer.fit(df).transform(df)\n",
    "df.show(3)"
   ]
  },
  {
   "cell_type": "markdown",
   "metadata": {},
   "source": [
    "Using RegexTokenizer to tokenize the Body. This breaks the body into chunks around non-word delimiters (\\\\W)."
   ]
  },
  {
   "cell_type": "code",
   "execution_count": 21,
   "metadata": {
    "colab": {
     "autoexec": {
      "startup": false,
      "wait_interval": 0
     }
    },
    "colab_type": "code",
    "id": "Y4H64SF2wLr4"
   },
   "outputs": [],
   "source": [
    "regexTokenizer = RegexTokenizer(inputCol='Body', outputCol='Body_Tokens', pattern='\\\\W')"
   ]
  },
  {
   "cell_type": "code",
   "execution_count": 22,
   "metadata": {
    "colab": {
     "autoexec": {
      "startup": false,
      "wait_interval": 0
     },
     "base_uri": "https://localhost:8080/",
     "height": 35
    },
    "colab_type": "code",
    "executionInfo": {
     "elapsed": 400,
     "status": "ok",
     "timestamp": 1533668969217,
     "user": {
      "displayName": "Kunal Chugh",
      "photoUrl": "https://lh3.googleusercontent.com/a/default-user=s128",
      "userId": "105461112688777743201"
     },
     "user_tz": 240
    },
    "id": "QKenWGyJwLsB",
    "outputId": "b000e7df-1d18-411b-cf0e-482a325aab1c"
   },
   "outputs": [
    {
     "data": {
      "text/plain": [
       "Column<b'Body_Tokens'>"
      ]
     },
     "execution_count": 22,
     "metadata": {},
     "output_type": "execute_result"
    }
   ],
   "source": [
    "df_tokenized = regexTokenizer.transform(df)\n",
    "df_tokenized['Body_Tokens']"
   ]
  },
  {
   "cell_type": "code",
   "execution_count": 23,
   "metadata": {
    "colab": {
     "autoexec": {
      "startup": false,
      "wait_interval": 0
     },
     "base_uri": "https://localhost:8080/",
     "height": 173
    },
    "colab_type": "code",
    "executionInfo": {
     "elapsed": 539,
     "status": "ok",
     "timestamp": 1533668987706,
     "user": {
      "displayName": "Kunal Chugh",
      "photoUrl": "https://lh3.googleusercontent.com/a/default-user=s128",
      "userId": "105461112688777743201"
     },
     "user_tz": 240
    },
    "id": "CxnAf6mrwLsT",
    "outputId": "68edf801-e785-41f9-8e61-b49afd4be07c"
   },
   "outputs": [
    {
     "name": "stdout",
     "output_type": "stream",
     "text": [
      "+--------------------+-----------+-----------+-----------+-----------+----+-----+--------------------+\n",
      "|                Body|RawFeature1|RawFeature2|RawFeature3|RawFeature4|Spam|label|         Body_Tokens|\n",
      "+--------------------+-----------+-----------+-----------+-----------+----+-----+--------------------+\n",
      "|email marketing w...|          0|          0|          0|          0|Spam|  0.0|[email, marketing...|\n",
      "|   this is the mo...|          0|          0|          1|          0|Spam|  0.0|[this, is, the, m...|\n",
      "|email marketing w...|          0|          0|          0|          0|Spam|  0.0|[email, marketing...|\n",
      "+--------------------+-----------+-----------+-----------+-----------+----+-----+--------------------+\n",
      "only showing top 3 rows\n",
      "\n"
     ]
    }
   ],
   "source": [
    "df_tokenized.show(3)"
   ]
  },
  {
   "cell_type": "markdown",
   "metadata": {},
   "source": [
    "Using StopWordsRemover to filter out meaningless stop words."
   ]
  },
  {
   "cell_type": "code",
   "execution_count": 24,
   "metadata": {
    "colab": {
     "autoexec": {
      "startup": false,
      "wait_interval": 0
     },
     "base_uri": "https://localhost:8080/",
     "height": 208
    },
    "colab_type": "code",
    "executionInfo": {
     "elapsed": 807,
     "status": "ok",
     "timestamp": 1533668990688,
     "user": {
      "displayName": "Kunal Chugh",
      "photoUrl": "https://lh3.googleusercontent.com/a/default-user=s128",
      "userId": "105461112688777743201"
     },
     "user_tz": 240
    },
    "id": "W889A30twLs2",
    "outputId": "2d3f919e-9ce4-4371-dcc5-9bf4677a83a8"
   },
   "outputs": [
    {
     "name": "stdout",
     "output_type": "stream",
     "text": [
      "+--------------------+-----------+-----------+-----------+-----------+----+-----+--------------------+--------------------+\n",
      "|                Body|RawFeature1|RawFeature2|RawFeature3|RawFeature4|Spam|label|         Body_Tokens|        Body_Tokens2|\n",
      "+--------------------+-----------+-----------+-----------+-----------+----+-----+--------------------+--------------------+\n",
      "|email marketing w...|          0|          0|          0|          0|Spam|  0.0|[email, marketing...|[email, marketing...|\n",
      "|   this is the mo...|          0|          0|          1|          0|Spam|  0.0|[this, is, the, m...|[exciting, breakt...|\n",
      "|email marketing w...|          0|          0|          0|          0|Spam|  0.0|[email, marketing...|[email, marketing...|\n",
      "|free download reg...|          0|          1|          0|          0|Spam|  0.0|[free, download, ...|[free, download, ...|\n",
      "|do you love cars ...|          0|          0|          1|          0|Spam|  0.0|[do, you, love, c...|[love, cars, want...|\n",
      "+--------------------+-----------+-----------+-----------+-----------+----+-----+--------------------+--------------------+\n",
      "only showing top 5 rows\n",
      "\n"
     ]
    }
   ],
   "source": [
    "stopWordsRemover = StopWordsRemover(inputCol=\"Body_Tokens\", outputCol=\"Body_Tokens2\")\n",
    "df_tokenized = stopWordsRemover.transform(df_tokenized)\n",
    "df_tokenized.show(5)"
   ]
  },
  {
   "cell_type": "code",
   "execution_count": null,
   "metadata": {
    "colab": {
     "autoexec": {
      "startup": false,
      "wait_interval": 0
     },
     "base_uri": "https://localhost:8080/",
     "height": 35
    },
    "colab_type": "code",
    "executionInfo": {
     "elapsed": 419,
     "status": "ok",
     "timestamp": 1533668993376,
     "user": {
      "displayName": "Kunal Chugh",
      "photoUrl": "https://lh3.googleusercontent.com/a/default-user=s128",
      "userId": "105461112688777743201"
     },
     "user_tz": 240
    },
    "id": "HqvPXGRzwLs_",
    "outputId": "c95d00ff-bd8b-4b91-9495-b6d9928fa786"
   },
   "outputs": [],
   "source": []
  },
  {
   "cell_type": "code",
   "execution_count": null,
   "metadata": {
    "colab": {
     "autoexec": {
      "startup": false,
      "wait_interval": 0
     },
     "base_uri": "https://localhost:8080/",
     "height": 35
    },
    "colab_type": "code",
    "executionInfo": {
     "elapsed": 1006,
     "status": "ok",
     "timestamp": 1533668997856,
     "user": {
      "displayName": "Kunal Chugh",
      "photoUrl": "https://lh3.googleusercontent.com/a/default-user=s128",
      "userId": "105461112688777743201"
     },
     "user_tz": 240
    },
    "id": "3STrGegewLtH",
    "outputId": "b639b704-3427-4d39-9c16-60f18282df90"
   },
   "outputs": [],
   "source": []
  },
  {
   "cell_type": "markdown",
   "metadata": {
    "colab": {
     "autoexec": {
      "startup": false,
      "wait_interval": 0
     },
     "base_uri": "https://localhost:8080/",
     "height": 2080
    },
    "colab_type": "code",
    "executionInfo": {
     "elapsed": 525,
     "status": "ok",
     "timestamp": 1533669000486,
     "user": {
      "displayName": "Kunal Chugh",
      "photoUrl": "https://lh3.googleusercontent.com/a/default-user=s128",
      "userId": "105461112688777743201"
     },
     "user_tz": 240
    },
    "id": "77pEVqafwLtX",
    "outputId": "ff350622-1f9e-446d-e5c0-d802c833f812"
   },
   "source": [
    "TF-IDF in spark is divided into HashingTF and then IDF. Applying HashingTF to create term frequencies from \"Body_Tokens2\" column into \"TermFreqs\" column."
   ]
  },
  {
   "cell_type": "code",
   "execution_count": 25,
   "metadata": {
    "colab": {
     "autoexec": {
      "startup": false,
      "wait_interval": 0
     }
    },
    "colab_type": "code",
    "id": "r-_JmaKywLtf"
   },
   "outputs": [],
   "source": [
    "hashingTF = HashingTF(inputCol=\"Body_Tokens2\", outputCol=\"TermFreqs\", numFeatures=20)\n",
    "df3 = hashingTF.transform(df_tokenized)"
   ]
  },
  {
   "cell_type": "code",
   "execution_count": 26,
   "metadata": {
    "colab": {
     "autoexec": {
      "startup": false,
      "wait_interval": 0
     },
     "base_uri": "https://localhost:8080/",
     "height": 173
    },
    "colab_type": "code",
    "executionInfo": {
     "elapsed": 505,
     "status": "ok",
     "timestamp": 1533669005888,
     "user": {
      "displayName": "Kunal Chugh",
      "photoUrl": "https://lh3.googleusercontent.com/a/default-user=s128",
      "userId": "105461112688777743201"
     },
     "user_tz": 240
    },
    "id": "WrXAC1V5wLtq",
    "outputId": "6ca837a0-1236-4cd8-d01a-9ffe5a4befdd"
   },
   "outputs": [
    {
     "data": {
      "text/plain": [
       "['Body',\n",
       " 'RawFeature1',\n",
       " 'RawFeature2',\n",
       " 'RawFeature3',\n",
       " 'RawFeature4',\n",
       " 'Spam',\n",
       " 'label',\n",
       " 'Body_Tokens',\n",
       " 'Body_Tokens2',\n",
       " 'TermFreqs']"
      ]
     },
     "execution_count": 26,
     "metadata": {},
     "output_type": "execute_result"
    }
   ],
   "source": [
    "df3.columns"
   ]
  },
  {
   "cell_type": "markdown",
   "metadata": {},
   "source": [
    "Here, we create an IDF model and fit it over \"TermFreqs\" column. A new column \"RawFeature5\" is created that contains the TF-IDF vector for every email row. "
   ]
  },
  {
   "cell_type": "code",
   "execution_count": 27,
   "metadata": {
    "colab": {
     "autoexec": {
      "startup": false,
      "wait_interval": 0
     },
     "base_uri": "https://localhost:8080/",
     "height": 228
    },
    "colab_type": "code",
    "executionInfo": {
     "elapsed": 4410,
     "status": "ok",
     "timestamp": 1533669012694,
     "user": {
      "displayName": "Kunal Chugh",
      "photoUrl": "https://lh3.googleusercontent.com/a/default-user=s128",
      "userId": "105461112688777743201"
     },
     "user_tz": 240
    },
    "id": "oyI3hlQkwLtv",
    "outputId": "3e67ac2e-359e-4842-8295-25b321a73e93"
   },
   "outputs": [
    {
     "name": "stdout",
     "output_type": "stream",
     "text": [
      "+--------------------+-----------+-----------+-----------+-----------+----+-----+--------------------+--------------------+--------------------+--------------------+\n",
      "|                Body|RawFeature1|RawFeature2|RawFeature3|RawFeature4|Spam|label|         Body_Tokens|        Body_Tokens2|           TermFreqs|         RawFeature5|\n",
      "+--------------------+-----------+-----------+-----------+-----------+----+-----+--------------------+--------------------+--------------------+--------------------+\n",
      "|email marketing w...|          0|          0|          0|          0|Spam|  0.0|[email, marketing...|[email, marketing...|(20,[0,1,2,3,4,5,...|(20,[0,1,2,3,4,5,...|\n",
      "|   this is the mo...|          0|          0|          1|          0|Spam|  0.0|[this, is, the, m...|[exciting, breakt...|(20,[0,1,2,3,4,5,...|(20,[0,1,2,3,4,5,...|\n",
      "|email marketing w...|          0|          0|          0|          0|Spam|  0.0|[email, marketing...|[email, marketing...|(20,[0,1,2,3,4,5,...|(20,[0,1,2,3,4,5,...|\n",
      "|free download reg...|          0|          1|          0|          0|Spam|  0.0|[free, download, ...|[free, download, ...|(20,[0,1,2,3,4,5,...|(20,[0,1,2,3,4,5,...|\n",
      "|do you love cars ...|          0|          0|          1|          0|Spam|  0.0|[do, you, love, c...|[love, cars, want...|(20,[0,1,2,3,4,5,...|(20,[0,1,2,3,4,5,...|\n",
      "+--------------------+-----------+-----------+-----------+-----------+----+-----+--------------------+--------------------+--------------------+--------------------+\n",
      "only showing top 5 rows\n",
      "\n"
     ]
    }
   ],
   "source": [
    "idfModel = IDF(inputCol=\"TermFreqs\", outputCol=\"RawFeature5\").fit(df3)\n",
    "df4 = idfModel.transform(df3)\n",
    "df4.show(5)"
   ]
  },
  {
   "cell_type": "markdown",
   "metadata": {},
   "source": [
    "Spark VectorAssembler is a transformer that combines a list of raw features into a single feature vector."
   ]
  },
  {
   "cell_type": "code",
   "execution_count": 28,
   "metadata": {
    "colab": {
     "autoexec": {
      "startup": false,
      "wait_interval": 0
     }
    },
    "colab_type": "code",
    "id": "ihWH_78wwLt1"
   },
   "outputs": [],
   "source": [
    "from pyspark.ml.feature import VectorAssembler\n",
    "vectorAssembler = VectorAssembler(inputCols=['RawFeature1', 'RawFeature2', 'RawFeature3', 'RawFeature4','RawFeature5'], outputCol='Features')"
   ]
  },
  {
   "cell_type": "code",
   "execution_count": 29,
   "metadata": {
    "colab": {
     "autoexec": {
      "startup": false,
      "wait_interval": 0
     },
     "base_uri": "https://localhost:8080/",
     "height": 176
    },
    "colab_type": "code",
    "executionInfo": {
     "elapsed": 1145,
     "status": "ok",
     "timestamp": 1533669018986,
     "user": {
      "displayName": "Kunal Chugh",
      "photoUrl": "https://lh3.googleusercontent.com/a/default-user=s128",
      "userId": "105461112688777743201"
     },
     "user_tz": 240
    },
    "id": "XmFPie2QwLt9",
    "outputId": "f8f88586-d952-4c2f-ace6-3aa476699a3b"
   },
   "outputs": [
    {
     "name": "stdout",
     "output_type": "stream",
     "text": [
      "+--------------------+-----------+-----------+-----------+-----------+----+-----+--------------------+--------------------+--------------------+--------------------+--------------------+\n",
      "|                Body|RawFeature1|RawFeature2|RawFeature3|RawFeature4|Spam|label|         Body_Tokens|        Body_Tokens2|           TermFreqs|         RawFeature5|            Features|\n",
      "+--------------------+-----------+-----------+-----------+-----------+----+-----+--------------------+--------------------+--------------------+--------------------+--------------------+\n",
      "|email marketing w...|          0|          0|          0|          0|Spam|  0.0|[email, marketing...|[email, marketing...|(20,[0,1,2,3,4,5,...|(20,[0,1,2,3,4,5,...|[0.0,0.0,0.0,0.0,...|\n",
      "|   this is the mo...|          0|          0|          1|          0|Spam|  0.0|[this, is, the, m...|[exciting, breakt...|(20,[0,1,2,3,4,5,...|(20,[0,1,2,3,4,5,...|[0.0,0.0,1.0,0.0,...|\n",
      "+--------------------+-----------+-----------+-----------+-----------+----+-----+--------------------+--------------------+--------------------+--------------------+--------------------+\n",
      "only showing top 2 rows\n",
      "\n"
     ]
    }
   ],
   "source": [
    "df5 = vectorAssembler.transform(df4)\n",
    "df5.show(2)"
   ]
  },
  {
   "cell_type": "code",
   "execution_count": null,
   "metadata": {},
   "outputs": [],
   "source": []
  },
  {
   "cell_type": "code",
   "execution_count": 30,
   "metadata": {
    "colab": {
     "autoexec": {
      "startup": false,
      "wait_interval": 0
     },
     "base_uri": "https://localhost:8080/",
     "height": 35
    },
    "colab_type": "code",
    "executionInfo": {
     "elapsed": 499,
     "status": "ok",
     "timestamp": 1533669021648,
     "user": {
      "displayName": "Kunal Chugh",
      "photoUrl": "https://lh3.googleusercontent.com/a/default-user=s128",
      "userId": "105461112688777743201"
     },
     "user_tz": 240
    },
    "id": "7m9Fx8lxwLuE",
    "outputId": "bf2b0550-abb1-4678-b04a-9eb18d69fe9b"
   },
   "outputs": [
    {
     "data": {
      "text/plain": [
       "['RawFeature1', 'Spam', 'label', 'Features']"
      ]
     },
     "execution_count": 30,
     "metadata": {},
     "output_type": "execute_result"
    }
   ],
   "source": [
    "# Keeping only columns that we need\n",
    "df6 = df5.drop('Body', 'RawFeature2', 'RawFeature2', 'RawFeature3','RawFeature4','Body_Tokens','Body_Tokens2','TermFreqs','RawFeature5')\n",
    "df6.columns"
   ]
  },
  {
   "cell_type": "code",
   "execution_count": 31,
   "metadata": {
    "colab": {
     "autoexec": {
      "startup": false,
      "wait_interval": 0
     },
     "base_uri": "https://localhost:8080/",
     "height": 208
    },
    "colab_type": "code",
    "executionInfo": {
     "elapsed": 451,
     "status": "ok",
     "timestamp": 1533669028320,
     "user": {
      "displayName": "Kunal Chugh",
      "photoUrl": "https://lh3.googleusercontent.com/a/default-user=s128",
      "userId": "105461112688777743201"
     },
     "user_tz": 240
    },
    "id": "8luLwoZkwLuR",
    "outputId": "635516dd-2c57-423a-f256-1688c94a3601"
   },
   "outputs": [
    {
     "data": {
      "text/plain": [
       "['RawFeature1', 'Spam', 'label', 'Features']"
      ]
     },
     "execution_count": 31,
     "metadata": {},
     "output_type": "execute_result"
    }
   ],
   "source": [
    "df6.columns"
   ]
  },
  {
   "cell_type": "markdown",
   "metadata": {},
   "source": [
    "Splitting the spark dataframe randomly into 75% train and 25% test dataframes."
   ]
  },
  {
   "cell_type": "code",
   "execution_count": 32,
   "metadata": {
    "colab": {
     "autoexec": {
      "startup": false,
      "wait_interval": 0
     }
    },
    "colab_type": "code",
    "id": "AKfOortewLul"
   },
   "outputs": [],
   "source": [
    "df6_train, df6_test = df6.randomSplit([3.0, 1.0], 24)"
   ]
  },
  {
   "cell_type": "markdown",
   "metadata": {},
   "source": [
    "Using Multinomial Naive Bayes model and training it over train dataset."
   ]
  },
  {
   "cell_type": "code",
   "execution_count": 33,
   "metadata": {
    "colab": {
     "autoexec": {
      "startup": false,
      "wait_interval": 0
     }
    },
    "colab_type": "code",
    "id": "aYSY3txuwLuy"
   },
   "outputs": [],
   "source": [
    "from pyspark.ml.classification import NaiveBayes"
   ]
  },
  {
   "cell_type": "code",
   "execution_count": 34,
   "metadata": {
    "colab": {
     "autoexec": {
      "startup": false,
      "wait_interval": 0
     }
    },
    "colab_type": "code",
    "id": "SE56RydcwLu4"
   },
   "outputs": [],
   "source": [
    "nb = NaiveBayes(smoothing=1.0, modelType='multinomial', featuresCol='Features')"
   ]
  },
  {
   "cell_type": "code",
   "execution_count": 35,
   "metadata": {
    "colab": {
     "autoexec": {
      "startup": false,
      "wait_interval": 0
     }
    },
    "colab_type": "code",
    "id": "ZSmFxtpRwLvI"
   },
   "outputs": [],
   "source": [
    "NBModel = nb.fit(df6_train)"
   ]
  },
  {
   "cell_type": "markdown",
   "metadata": {
    "colab": {
     "autoexec": {
      "startup": false,
      "wait_interval": 0
     }
    },
    "colab_type": "code",
    "id": "FudKlkj6wLvT"
   },
   "source": [
    "Testing the trained model over test dataset."
   ]
  },
  {
   "cell_type": "code",
   "execution_count": 36,
   "metadata": {
    "colab": {
     "autoexec": {
      "startup": false,
      "wait_interval": 0
     }
    },
    "colab_type": "code",
    "id": "JlDdFUcpwLvi"
   },
   "outputs": [],
   "source": [
    "predictions = NBModel.transform(df6_test)"
   ]
  },
  {
   "cell_type": "markdown",
   "metadata": {},
   "source": [
    "Calculating the accuracy of our model."
   ]
  },
  {
   "cell_type": "code",
   "execution_count": 37,
   "metadata": {
    "colab": {
     "autoexec": {
      "startup": false,
      "wait_interval": 0
     }
    },
    "colab_type": "code",
    "id": "h0hYLWF_wLvv"
   },
   "outputs": [],
   "source": [
    "correct = predictions[predictions['label'] == predictions['prediction']]\n",
    "incorrect = predictions[predictions['label'] != predictions['prediction']]"
   ]
  },
  {
   "cell_type": "code",
   "execution_count": 38,
   "metadata": {
    "colab": {
     "autoexec": {
      "startup": false,
      "wait_interval": 0
     },
     "base_uri": "https://localhost:8080/",
     "height": 35
    },
    "colab_type": "code",
    "executionInfo": {
     "elapsed": 4117,
     "status": "ok",
     "timestamp": 1533669066708,
     "user": {
      "displayName": "Kunal Chugh",
      "photoUrl": "https://lh3.googleusercontent.com/a/default-user=s128",
      "userId": "105461112688777743201"
     },
     "user_tz": 240
    },
    "id": "7DO0VXozwLv8",
    "outputId": "c1a3d0b3-8065-4c37-fa4c-df888f331a68"
   },
   "outputs": [
    {
     "name": "stdout",
     "output_type": "stream",
     "text": [
      "Correct predictions:  898\n",
      "Incorrect predictions:  328\n"
     ]
    }
   ],
   "source": [
    "print('Correct predictions: ', correct.count())\n",
    "print('Incorrect predictions: ', incorrect.count())"
   ]
  },
  {
   "cell_type": "code",
   "execution_count": 39,
   "metadata": {
    "colab": {
     "autoexec": {
      "startup": false,
      "wait_interval": 0
     },
     "base_uri": "https://localhost:8080/",
     "height": 35
    },
    "colab_type": "code",
    "executionInfo": {
     "elapsed": 581,
     "status": "ok",
     "timestamp": 1533669069392,
     "user": {
      "displayName": "Kunal Chugh",
      "photoUrl": "https://lh3.googleusercontent.com/a/default-user=s128",
      "userId": "105461112688777743201"
     },
     "user_tz": 240
    },
    "id": "zmrpALiTwLwB",
    "outputId": "8925422d-a8d9-49eb-a0dd-8bd8a1ed7cc4"
   },
   "outputs": [
    {
     "name": "stdout",
     "output_type": "stream",
     "text": [
      "Accuracy in %:  73.2463295269168\n"
     ]
    }
   ],
   "source": [
    "print('Accuracy in %: ', (correct.count() * 100.) / (correct.count() + incorrect.count()))"
   ]
  },
  {
   "cell_type": "code",
   "execution_count": null,
   "metadata": {
    "colab": {
     "autoexec": {
      "startup": false,
      "wait_interval": 0
     },
     "base_uri": "https://localhost:8080/",
     "height": 35
    },
    "colab_type": "code",
    "executionInfo": {
     "elapsed": 1086,
     "status": "ok",
     "timestamp": 1533669115895,
     "user": {
      "displayName": "Kunal Chugh",
      "photoUrl": "https://lh3.googleusercontent.com/a/default-user=s128",
      "userId": "105461112688777743201"
     },
     "user_tz": 240
    },
    "id": "uFKjYUVuwLwM",
    "outputId": "1fad0c9c-df87-4fd6-994c-3786e714905a"
   },
   "outputs": [],
   "source": []
  },
  {
   "cell_type": "markdown",
   "metadata": {},
   "source": [
    "Another feature that is WIP is 'percent mis-spelt words'. We can use the pattern.en package's suggest method to check if a word is mis-spelt or no. This could be applied over all tokenized words of an email. Divided by length of the email, it results in 'percent mis-spelt words'. "
   ]
  },
  {
   "cell_type": "markdown",
   "metadata": {
    "colab_type": "text",
    "id": "g53FLxsywLwU"
   },
   "source": [
    "## Feature 6 Engineering -> Percent Misspellings -> Work In Progress"
   ]
  },
  {
   "cell_type": "code",
   "execution_count": 40,
   "metadata": {
    "colab": {
     "autoexec": {
      "startup": false,
      "wait_interval": 0
     }
    },
    "colab_type": "code",
    "id": "07xitWrpwLwW"
   },
   "outputs": [
    {
     "data": {
      "text/plain": [
       "'\\ndf_tokenized = df_tokenized.sample(0.005)\\ndf_tokenized.show()'"
      ]
     },
     "execution_count": 40,
     "metadata": {},
     "output_type": "execute_result"
    }
   ],
   "source": [
    "\"\"\"\n",
    "df_tokenized = df_tokenized.sample(0.005)\n",
    "df_tokenized.show()\"\"\""
   ]
  },
  {
   "cell_type": "code",
   "execution_count": 41,
   "metadata": {
    "colab": {
     "autoexec": {
      "startup": false,
      "wait_interval": 0
     }
    },
    "colab_type": "code",
    "id": "HRE8LT10wLwb"
   },
   "outputs": [
    {
     "data": {
      "text/plain": [
       "'df_tokenized.count()'"
      ]
     },
     "execution_count": 41,
     "metadata": {},
     "output_type": "execute_result"
    }
   ],
   "source": [
    "\"\"\"df_tokenized.count()\"\"\""
   ]
  },
  {
   "cell_type": "code",
   "execution_count": 43,
   "metadata": {
    "colab": {
     "autoexec": {
      "startup": false,
      "wait_interval": 0
     }
    },
    "colab_type": "code",
    "id": "DvG99sNFwLwf"
   },
   "outputs": [
    {
     "data": {
      "text/plain": [
       "\"# Feature5 -> Percent of misspellings in mail body\\nfrom pattern.en import spelling\\nspelling.suggest('wrng')\""
      ]
     },
     "execution_count": 43,
     "metadata": {},
     "output_type": "execute_result"
    }
   ],
   "source": [
    "\"\"\"# Feature5 -> Percent of misspellings in mail body\n",
    "from pattern.en import spelling\n",
    "spelling.suggest('wrng')\"\"\""
   ]
  },
  {
   "cell_type": "code",
   "execution_count": null,
   "metadata": {
    "colab": {
     "autoexec": {
      "startup": false,
      "wait_interval": 0
     }
    },
    "colab_type": "code",
    "id": "o1eS_sCOwLwk"
   },
   "outputs": [],
   "source": [
    "\"\"\"from functools import reduce\n",
    "from pattern.en import spelling\n",
    "percentSpelling = []\n",
    "def getPercentMisspelled(wordList):\n",
    "    print(wordList)\n",
    "    f = lambda x,y: int(x)+1 if spelling.suggest(y)[0][0] != y else int(x)\n",
    "    e = float(reduce(f, wordList, 0)/len(wordList))\n",
    "    percentSpelling.append(e)\"\"\""
   ]
  },
  {
   "cell_type": "code",
   "execution_count": null,
   "metadata": {
    "colab": {
     "autoexec": {
      "startup": false,
      "wait_interval": 0
     }
    },
    "colab_type": "code",
    "id": "hwcDsUezwLwu"
   },
   "outputs": [],
   "source": [
    "#r1 = df_tokenized.first()['Body2']"
   ]
  },
  {
   "cell_type": "code",
   "execution_count": null,
   "metadata": {
    "colab": {
     "autoexec": {
      "startup": false,
      "wait_interval": 0
     }
    },
    "colab_type": "code",
    "id": "jjt15dKmwLwz"
   },
   "outputs": [],
   "source": [
    "#getPercentMisspelled(r1)"
   ]
  },
  {
   "cell_type": "code",
   "execution_count": null,
   "metadata": {
    "colab": {
     "autoexec": {
      "startup": false,
      "wait_interval": 0
     }
    },
    "colab_type": "code",
    "id": "z_T0KzalwLw4"
   },
   "outputs": [],
   "source": [
    "\"\"\"df_tokenized\"\"\""
   ]
  },
  {
   "cell_type": "code",
   "execution_count": null,
   "metadata": {
    "colab": {
     "autoexec": {
      "startup": false,
      "wait_interval": 0
     }
    },
    "colab_type": "code",
    "id": "3lTjYZ1mwLxB"
   },
   "outputs": [],
   "source": [
    "\"\"\"from pyspark.sql.functions import udf\n",
    "from pyspark.sql.types import FloatType\n",
    "#myudf = udf(getPercentMisspelled, FloatType())\"\"\""
   ]
  },
  {
   "cell_type": "code",
   "execution_count": null,
   "metadata": {
    "colab": {
     "autoexec": {
      "startup": false,
      "wait_interval": 0
     }
    },
    "colab_type": "code",
    "id": "oMyYBBhdwLxG"
   },
   "outputs": [],
   "source": [
    "#c = myudf(df_tokenized.Body2)"
   ]
  },
  {
   "cell_type": "code",
   "execution_count": null,
   "metadata": {
    "colab": {
     "autoexec": {
      "startup": false,
      "wait_interval": 0
     }
    },
    "colab_type": "code",
    "id": "Bv8h7CsmwLxU"
   },
   "outputs": [],
   "source": [
    "#df_tokenized = df_tokenized.withColumn('Feature5', c)"
   ]
  }
 ],
 "metadata": {
  "colab": {
   "collapsed_sections": [
    "g53FLxsywLwU"
   ],
   "default_view": {},
   "name": "Part 3 - Feature Extraction, Prediction.ipynb",
   "provenance": [],
   "version": "0.3.2",
   "views": {}
  },
  "kernelspec": {
   "display_name": "Python 3",
   "language": "python",
   "name": "python3"
  },
  "language_info": {
   "codemirror_mode": {
    "name": "ipython",
    "version": 3
   },
   "file_extension": ".py",
   "mimetype": "text/x-python",
   "name": "python",
   "nbconvert_exporter": "python",
   "pygments_lexer": "ipython3",
   "version": "3.6.4"
  }
 },
 "nbformat": 4,
 "nbformat_minor": 1
}
