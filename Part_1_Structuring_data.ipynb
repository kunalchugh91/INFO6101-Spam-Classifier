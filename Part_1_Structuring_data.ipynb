{
 "cells": [
  {
   "cell_type": "markdown",
   "metadata": {},
   "source": [
    "Our data is from 2 source zip files named trec07 and 1998. They are unstructured text files, that contain email headers, subject and body. In this part, we parse through the text files, convert into a structured pandas dataset, and save it as \"structured.xlsx\""
   ]
  },
  {
   "cell_type": "markdown",
   "metadata": {},
   "source": [
    "### If on Google Colab"
   ]
  },
  {
   "cell_type": "markdown",
   "metadata": {},
   "source": [
    "Execute the following cells only if running on Google Colab, to install the needed packages and download the datasets from Google drive."
   ]
  },
  {
   "cell_type": "code",
   "execution_count": 1,
   "metadata": {
    "colab": {
     "autoexec": {
      "startup": false,
      "wait_interval": 0
     },
     "base_uri": "https://localhost:8080/",
     "height": 436
    },
    "colab_type": "code",
    "executionInfo": {
     "elapsed": 6365,
     "status": "ok",
     "timestamp": 1533664315722,
     "user": {
      "displayName": "Kunal Chugh",
      "photoUrl": "https://lh3.googleusercontent.com/a/default-user=s128",
      "userId": "105461112688777743201"
     },
     "user_tz": 240
    },
    "id": "a6uMIT4cwD4j",
    "outputId": "754f25d1-7d33-49bf-cde7-af0250f09ee9"
   },
   "outputs": [
    {
     "name": "stdout",
     "output_type": "stream",
     "text": [
      "Collecting PyDrive\n",
      "\u001b[?25l  Downloading https://files.pythonhosted.org/packages/52/e0/0e64788e5dd58ce2d6934549676243dc69d982f198524be9b99e9c2a4fd5/PyDrive-1.3.1.tar.gz (987kB)\n",
      "\u001b[K    100% |████████████████████████████████| 993kB 9.1MB/s \n",
      "\u001b[?25hRequirement already satisfied: google-api-python-client>=1.2 in /usr/local/lib/python3.6/dist-packages (from PyDrive) (1.6.7)\n",
      "Requirement already satisfied: oauth2client>=4.0.0 in /usr/local/lib/python3.6/dist-packages (from PyDrive) (4.1.2)\n",
      "Requirement already satisfied: PyYAML>=3.0 in /usr/local/lib/python3.6/dist-packages (from PyDrive) (3.13)\n",
      "Requirement already satisfied: six<2dev,>=1.6.1 in /usr/local/lib/python3.6/dist-packages (from google-api-python-client>=1.2->PyDrive) (1.11.0)\n",
      "Requirement already satisfied: uritemplate<4dev,>=3.0.0 in /usr/local/lib/python3.6/dist-packages (from google-api-python-client>=1.2->PyDrive) (3.0.0)\n",
      "Requirement already satisfied: httplib2<1dev,>=0.9.2 in /usr/local/lib/python3.6/dist-packages (from google-api-python-client>=1.2->PyDrive) (0.11.3)\n",
      "Requirement already satisfied: pyasn1>=0.1.7 in /usr/local/lib/python3.6/dist-packages (from oauth2client>=4.0.0->PyDrive) (0.4.4)\n",
      "Requirement already satisfied: pyasn1-modules>=0.0.5 in /usr/local/lib/python3.6/dist-packages (from oauth2client>=4.0.0->PyDrive) (0.2.2)\n",
      "Requirement already satisfied: rsa>=3.1.4 in /usr/local/lib/python3.6/dist-packages (from oauth2client>=4.0.0->PyDrive) (3.4.2)\n",
      "Building wheels for collected packages: PyDrive\n",
      "  Running setup.py bdist_wheel for PyDrive ... \u001b[?25l-\b \b\\\b \bdone\n",
      "\u001b[?25h  Stored in directory: /content/.cache/pip/wheels/fa/d2/9a/d3b6b506c2da98289e5d417215ce34b696db856643bad779f4\n",
      "Successfully built PyDrive\n",
      "Installing collected packages: PyDrive\n",
      "Successfully installed PyDrive-1.3.1\n",
      "Collecting XlsxWriter\n",
      "\u001b[?25l  Downloading https://files.pythonhosted.org/packages/33/50/136b801d106fcebb2428a764e5c599e020d8227a3623db078e05eb4793a5/XlsxWriter-1.0.5-py2.py3-none-any.whl (142kB)\n",
      "\u001b[K    100% |████████████████████████████████| 143kB 5.5MB/s \n",
      "\u001b[?25hInstalling collected packages: XlsxWriter\n",
      "Successfully installed XlsxWriter-1.0.5\n"
     ]
    }
   ],
   "source": [
    "!pip install PyDrive\n",
    "!pip install XlsxWriter"
   ]
  },
  {
   "cell_type": "code",
   "execution_count": 0,
   "metadata": {
    "colab": {
     "autoexec": {
      "startup": false,
      "wait_interval": 0
     }
    },
    "colab_type": "code",
    "collapsed": true,
    "id": "5w9kyi-Owdjg"
   },
   "outputs": [],
   "source": [
    "import os\n",
    "from pydrive.auth import GoogleAuth\n",
    "from pydrive.drive import GoogleDrive\n",
    "from google.colab import auth\n",
    "from oauth2client.client import GoogleCredentials"
   ]
  },
  {
   "cell_type": "markdown",
   "metadata": {},
   "source": [
    "Authenticate PyDrive API to access Google drive"
   ]
  },
  {
   "cell_type": "code",
   "execution_count": 0,
   "metadata": {
    "colab": {
     "autoexec": {
      "startup": false,
      "wait_interval": 0
     }
    },
    "colab_type": "code",
    "collapsed": true,
    "id": "unueWOhowD43"
   },
   "outputs": [],
   "source": [
    "auth.authenticate_user()\n",
    "gauth = GoogleAuth()\n",
    "gauth.credentials = GoogleCredentials.get_application_default()\n",
    "drive = GoogleDrive(gauth)"
   ]
  },
  {
   "cell_type": "markdown",
   "metadata": {},
   "source": [
    "Now, we download and untar the two datasets, 1998 and trec07p, that we are going to work with."
   ]
  },
  {
   "cell_type": "code",
   "execution_count": 0,
   "metadata": {
    "colab": {
     "autoexec": {
      "startup": false,
      "wait_interval": 0
     }
    },
    "colab_type": "code",
    "collapsed": true,
    "id": "c3CwhwpUwD5B"
   },
   "outputs": [],
   "source": [
    "download = drive.CreateFile({'id': '1QtoxpJmd1lys7c7LaYXiOjbzMdMOpeVX'})\n",
    "download.GetContentFile('1998.tar')"
   ]
  },
  {
   "cell_type": "code",
   "execution_count": 0,
   "metadata": {
    "colab": {
     "autoexec": {
      "startup": false,
      "wait_interval": 0
     }
    },
    "colab_type": "code",
    "collapsed": true,
    "id": "okWdQLFkwD5K"
   },
   "outputs": [],
   "source": [
    "download2 = drive.CreateFile({'id': '1xaJL1eoccrCyS45xgF23dVY_KCER-oAD'})\n",
    "download2.GetContentFile('trec07p.tar')"
   ]
  },
  {
   "cell_type": "code",
   "execution_count": 0,
   "metadata": {
    "colab": {
     "autoexec": {
      "startup": false,
      "wait_interval": 0
     }
    },
    "colab_type": "code",
    "collapsed": true,
    "id": "vNH5FFCZwD5T"
   },
   "outputs": [],
   "source": [
    "!tar xf 1998.tar\n",
    "!tar xf trec07p.tar"
   ]
  },
  {
   "cell_type": "markdown",
   "metadata": {},
   "source": [
    "### If not on Google Colab"
   ]
  },
  {
   "cell_type": "markdown",
   "metadata": {},
   "source": [
    "If running locally, make sure to have the 1998 dataset and trec07p dataset in the same directory as this notebook."
   ]
  },
  {
   "cell_type": "code",
   "execution_count": 1,
   "metadata": {
    "colab": {
     "autoexec": {
      "startup": false,
      "wait_interval": 0
     }
    },
    "colab_type": "code",
    "id": "cTAkOdrowD5d"
   },
   "outputs": [],
   "source": [
    "import os\n",
    "import pandas as pd\n",
    "import numpy as np\n",
    "from bs4 import BeautifulSoup"
   ]
  },
  {
   "cell_type": "markdown",
   "metadata": {},
   "source": [
    "NotHeaders contains a list of words that do not qualify as an email header"
   ]
  },
  {
   "cell_type": "code",
   "execution_count": 2,
   "metadata": {
    "colab": {
     "autoexec": {
      "startup": false,
      "wait_interval": 0
     }
    },
    "colab_type": "code",
    "id": "M_vkyYW8wD5m"
   },
   "outputs": [],
   "source": [
    "notHeaders = ['A',\n",
    " 'A.normal2{color',\n",
    " 'A.normal{color',\n",
    " 'A.over{color',\n",
    " 'ATT',\n",
    " 'Action',\n",
    " 'Added',\n",
    " 'Address',\n",
    " 'An',\n",
    " 'Asunto',\n",
    " 'Author',\n",
    " 'Auto-Submitted',\n",
    " 'BATCH',\n",
    " 'Betreff',\n",
    " 'Beurteilung',\n",
    " 'Bookmark',\n",
    " 'Brma',\n",
    " 'BrmaSmtpAuthUser',\n",
    " 'C',\n",
    " 'Call',\n",
    " 'Cancel-Lock',\n",
    " 'Carlson',\n",
    " 'Caveats',\n",
    " 'Changeset',\n",
    " 'Cia1iis',\n",
    " 'Cited',\n",
    " 'Classification',\n",
    " 'Comment',\n",
    " 'Company',\n",
    " 'Complaints',\n",
    " 'Congratulations',\n",
    " 'Contact',\n",
    " 'Copyright',\n",
    " 'Corp.<http',\n",
    " 'Corporation<http',\n",
    " 'Credibility',\n",
    " 'Date-warning',\n",
    " 'Datum',\n",
    " 'De',\n",
    " 'Details',\n",
    " 'De\\xa0',\n",
    " 'Diagnostic-Code',\n",
    " 'Dinah',\n",
    " 'Envoyé\\xa0',\n",
    " 'FATAL',\n",
    " 'FDA',\n",
    " 'FONT-SIZE',\n",
    " 'Featuring',\n",
    " 'Fixes',\n",
    " 'Gesendet',\n",
    " 'Hash',\n",
    " 'Hinweis',\n",
    " 'ISIN',\n",
    " 'Importance',\n",
    " 'Inc.<http',\n",
    " 'Index',\n",
    " 'Jabber-ID',\n",
    " 'Jim',\n",
    " 'John',\n",
    " 'Kopia',\n",
    " 'LINE-HEIGHT',\n",
    " 'List-Help',\n",
    " 'Log',\n",
    " 'London',\n",
    " 'Lookup',\n",
    " 'MOTD',\n",
    " 'Mail-Followup-To',\n",
    " 'Managed-by',\n",
    " 'Market',\n",
    " 'Metze',\n",
    " 'Modified',\n",
    " 'NOTE',\n",
    " 'Name',\n",
    " 'Napster<http',\n",
    " 'Newshawk',\n",
    " 'Notice',\n",
    " 'Number',\n",
    " 'OTC',\n",
    " 'Objet\\xa0',\n",
    " 'Old-Return-Path',\n",
    " 'OpenPGP',\n",
    " 'Organisation',\n",
    " 'Organization',\n",
    " 'PADDING-BOTTOM',\n",
    " 'PHONE',\n",
    " 'Package',\n",
    " 'Page',\n",
    " 'Para',\n",
    " 'Phone',\n",
    " 'Posted',\n",
    " 'Precedence',\n",
    " 'President',\n",
    " 'Priority',\n",
    " 'Products',\n",
    " 'Pubdate',\n",
    " 'Publicitate',\n",
    " 'REF',\n",
    " 'RT-Ticket',\n",
    " 'Rangel',\n",
    " 'Received-SPF',\n",
    " 'References',\n",
    " 'Reminder',\n",
    " 'Removed',\n",
    " 'Reporting-MTA',\n",
    " 'S.umbol',\n",
    " 'Sent',\n",
    " 'Severity',\n",
    " 'Site',\n",
    " 'Skickat',\n",
    " 'Source',\n",
    " 'Spoken',\n",
    " 'Sym8oL',\n",
    " 'Symbol',\n",
    " 'Sys.putenv(\"http_proxy\"=\"http',\n",
    " 'TELEPHONE',\n",
    " 'Talk',\n",
    " 'Tel',\n",
    " 'Teste',\n",
    " 'Ticker',\n",
    " 'Till',\n",
    " 'Timing',\n",
    " 'Tname',\n",
    " 'Try',\n",
    " 'Type',\n",
    " 'UEI',\n",
    " 'URL',\n",
    " 'Visit',\n",
    " 'Von',\n",
    " 'WASHINGTON',\n",
    " 'WKN',\n",
    " 'Webpage',\n",
    " 'Website',\n",
    "'A.RVTS2',\n",
    " 'ASTIG',\n",
    " 'AXIS',\n",
    " 'Ambieen',\n",
    " 'Anova',\n",
    " 'Below',\n",
    " 'CARGO',\n",
    " 'CNN',\n",
    " 'CNNMoney',\n",
    " 'City',\n",
    " 'Clinton',\n",
    " 'Collins',\n",
    " 'Given',\n",
    " 'HEADLINES',\n",
    " 'IRAN',\n",
    " 'Iterations',\n",
    " 'Juego!<o',\n",
    " 'Kernel',\n",
    " 'L<Parrot',\n",
    " 'Parrot',\n",
    " 'Price']"
   ]
  },
  {
   "cell_type": "markdown",
   "metadata": {},
   "source": [
    "Since many email body fields contain HTML markup too, we define a method that filters out visible text from HTML content."
   ]
  },
  {
   "cell_type": "code",
   "execution_count": 3,
   "metadata": {
    "colab": {
     "autoexec": {
      "startup": false,
      "wait_interval": 0
     }
    },
    "colab_type": "code",
    "id": "A535Ms1OwD5v"
   },
   "outputs": [],
   "source": [
    "def parseTextFromHTML(body):\n",
    "    '''\n",
    "    eliminate HTML markup tags and return only content\n",
    "    '''\n",
    "    body = body.lower()\n",
    "    htmlstartindex = body.find('<html>')\n",
    "    htmlendindex = body.find('</html>')\n",
    "    \n",
    "    #if(htmlstartindex == -1 or htmlendindex == -1):\n",
    "        #return body\n",
    "    \n",
    "    htmlcontent = body#[htmlstartindex:htmlendindex+7]\n",
    "    soup = BeautifulSoup(htmlcontent, 'html.parser')\n",
    "    [s.extract() for s in soup(['style', 'script'])]\n",
    "    return soup.getText().strip()\n",
    "    #return body[:htmlstartindex] + soup.getText().strip() + body[htmlendindex+7:]"
   ]
  },
  {
   "cell_type": "code",
   "execution_count": 4,
   "metadata": {
    "colab": {
     "autoexec": {
      "startup": false,
      "wait_interval": 0
     },
     "base_uri": "https://localhost:8080/",
     "height": 35
    },
    "colab_type": "code",
    "executionInfo": {
     "elapsed": 687,
     "status": "ok",
     "timestamp": 1533664405384,
     "user": {
      "displayName": "Kunal Chugh",
      "photoUrl": "https://lh3.googleusercontent.com/a/default-user=s128",
      "userId": "105461112688777743201"
     },
     "user_tz": 240
    },
    "id": "9Hf6z5AZwD5_",
    "outputId": "dde09c4c-d9d3-445d-fd39-521f372c87cd"
   },
   "outputs": [
    {
     "data": {
      "text/plain": [
       "''"
      ]
     },
     "execution_count": 4,
     "metadata": {},
     "output_type": "execute_result"
    }
   ],
   "source": [
    "\"\"\"# parse the email file(spam or ham) to create a pandas dataframe\n",
    "def getDFFromEmail(path, spam):\n",
    "    l = []\n",
    "    precurrkv = []\n",
    "    sufcurrkv = []\n",
    "    count = 0\n",
    "    body = False\n",
    "    try:\n",
    "        stream = open(path, errors='strict', encoding='UTF-8')\n",
    "        stream.readlines()\n",
    "        stream.seek(0)\n",
    "        print(\"Using UTF-8 encoding\")\n",
    "    except (Exception):\n",
    "        print(\"Using ANSI encoding\")\n",
    "        stream = open(path, errors='strict', encoding='ANSI')\n",
    "        stream.readlines()\n",
    "        stream.seek(0)\n",
    "        \n",
    "    for line in stream:\n",
    "        if(line.startswith('<DOCTYPE')):\n",
    "            continue\n",
    "            \n",
    "        colonIndex = line.find(\":\")\n",
    "        \n",
    "        if(count > 15 and not body):\n",
    "            body = True\n",
    "            l.append(precurrkv)\n",
    "            \n",
    "        if(line[0].isupper() and line.find(' ',0,colonIndex)<0 and colonIndex >= 0 and colonIndex < 30 and not body \n",
    "           and line[:colonIndex] not in notHeaders):\n",
    "            count = 0\n",
    "            if(len(sufcurrkv) > 0 and len(precurrkv) > 0):\n",
    "                precurrkv[1] = \"\".join((precurrkv[1], \"\".join(sufcurrkv)))\n",
    "                l.append(precurrkv)\n",
    "            elif(len(precurrkv) > 0):\n",
    "                l.append(precurrkv)\n",
    "            precurrkv = line.split(sep=\":\", maxsplit=1)\n",
    "            sufcurrkv.clear()\n",
    "\n",
    "        elif(str(line[0:2]).isspace() and not body):\n",
    "            count += 1\n",
    "            sufcurrkv.append(line)\n",
    "        elif(str(line).startswith('>') and not body):\n",
    "            body = True\n",
    "            sufcurrkv = [''.join((':'.join(precurrkv), \"\".join(sufcurrkv)))]\n",
    "        else:\n",
    "            #count += 1\n",
    "            sufcurrkv.append(line)\n",
    "\n",
    "    l.append([\"Body\", parseTextFromHTML(\"\".join(sufcurrkv))])\n",
    "    l.append([\"Spam\", 'Spam' if spam else 'Ham'])\n",
    "    l.append([\"Tname\", path])\n",
    "\n",
    "    d = pd.DataFrame(np.array(l)).drop_duplicates(subset=0)\n",
    "    return d    \"\"\"\n",
    "\"\"\"\"\"\""
   ]
  },
  {
   "cell_type": "markdown",
   "metadata": {},
   "source": [
    "We define a method that parses an email text file represented by the path parameter and returns a pandas dataframe."
   ]
  },
  {
   "cell_type": "code",
   "execution_count": 5,
   "metadata": {
    "colab": {
     "autoexec": {
      "startup": false,
      "wait_interval": 0
     }
    },
    "colab_type": "code",
    "id": "PzMaIOF0wD6V"
   },
   "outputs": [],
   "source": [
    "# parse the email file(spam or ham) to create a pandas dataframe\n",
    "from collections import deque\n",
    "from codecs import open\n",
    "def getDFFromEmail(path, spam):\n",
    "    '''\n",
    "    path is path to file\n",
    "    spam is a boolean indicating spam or ham (not spam)\n",
    "    returns a dataframe containing email fields and their values for given path's file\n",
    "    '''\n",
    "    l = dict() #used for parsing text into dict of keys and values\n",
    "    precurrkv = []  #list of keys, for eg in Sender : Vighnesh, here sender is key and Vighnesh is value\n",
    "    sufcurrkv = deque() #list of values\n",
    "    count = 0 #character index of read line\n",
    "    body = False #indicates that body has started\n",
    "  \n",
    "#figure out the correct encoding using try except\n",
    "    try:\n",
    "        stream = open(path, errors='strict')\n",
    "        stream.readlines()\n",
    "        stream.seek(0)\n",
    "        #print(\"Using UTF-8 encoding\")\n",
    "    except (Exception):\n",
    "        try:\n",
    "            #print(\"Using ISO-8859-1 encoding\")\n",
    "            stream = open(path, errors='strict', encoding='iso-8859-1')\n",
    "            stream.readlines()\n",
    "            stream.seek(0)\n",
    "        except (Exception):\n",
    "            return \"\"\n",
    "        \n",
    "\n",
    "    for line in stream:\n",
    "        #skip doctype statements\n",
    "        if(line.startswith('<DOCTYPE')):\n",
    "            continue\n",
    "            \n",
    "        colonIndex = line.find(\":\")\n",
    "        \n",
    "        #line is part of body\n",
    "        if(count > 15 and not body):\n",
    "            body = True\n",
    "\n",
    "        #check if new email header has been read\n",
    "        # first letter isupper for header,no spaces in header,colonIndex is within bounds and header is not in notHeaders\n",
    "        if(line[0].isupper() and line.find(' ',0,colonIndex)<0 and colonIndex >= 0 and colonIndex < 30 and not body \n",
    "           and line[:colonIndex] not in notHeaders):\n",
    "            count = 0 #reset index to 0\n",
    "            #append value to key in dictionary\n",
    "            if(sufcurrkv and len(precurrkv) > 0):\n",
    "                fieldname = sufcurrkv.popleft()\n",
    "                l[fieldname] = [''.join(sufcurrkv)]\n",
    "            \n",
    "            precurrkv = line.split(sep=\":\", maxsplit=1)\n",
    "            sufcurrkv.clear()\n",
    "            sufcurrkv.extend(precurrkv)\n",
    "\n",
    "        #read line is part of previous header\n",
    "        elif(str(line[0:2]).isspace() and not body):\n",
    "            count += 1\n",
    "            sufcurrkv.append(line)\n",
    "            \n",
    "        # > indicates previous email characters, thus body has started\n",
    "        elif(str(line).startswith('>') and not body):\n",
    "            body = True\n",
    "            sufcurrkv.append(line)\n",
    "            \n",
    "        # body has started\n",
    "        else:\n",
    "            #count += 1\n",
    "            sufcurrkv.append(line)\n",
    "\n",
    "    #create keys and values for body, spam and filename\n",
    "    fieldname = sufcurrkv.popleft()\n",
    "    l[fieldname] = sufcurrkv.popleft()    \n",
    "    l[\"Body\"] = [parseTextFromHTML(\"\".join(sufcurrkv))]\n",
    "    l[\"Spam\"] = ['Spam'] if spam else ['Ham']\n",
    "    l[\"Tname\"] = [path]\n",
    "\n",
    "    d = pd.DataFrame(l)\n",
    "    return d.T.reset_index()    "
   ]
  },
  {
   "cell_type": "markdown",
   "metadata": {
    "colab": {
     "autoexec": {
      "startup": false,
      "wait_interval": 0
     }
    },
    "colab_type": "code",
    "id": "avSUa9I6wD67"
   },
   "source": [
    "We define a generator for the 1998 dataset that iterates over all email text files in a directory and yields resulting dataframes."
   ]
  },
  {
   "cell_type": "code",
   "execution_count": 6,
   "metadata": {
    "colab": {
     "autoexec": {
      "startup": false,
      "wait_interval": 0
     }
    },
    "colab_type": "code",
    "id": "PrwouKRpwD7E"
   },
   "outputs": [],
   "source": [
    "# iterate over all files in the directory to create the dataframes\n",
    "def getAllDFFromDirectory(directorypath):\n",
    "    '''\n",
    "    directorypath is path to 1998 dataset directory\n",
    "    '''\n",
    "    for filename in os.listdir(directorypath):\n",
    "        #print(\"Getting DF for \"+\"\".join((directorypath, filename)))\n",
    "        if(filename.startswith(\"spm\")):\n",
    "            yield getDFFromEmail(\"\".join((directorypath, filename)), True)\n",
    "        elif(filename.count(\"msg\") > 0):\n",
    "            yield getDFFromEmail(\"\".join((directorypath, filename)), False)\n",
    "        else:\n",
    "            yield getDFFromEmail(\"\".join((directorypath, filename)), True)"
   ]
  },
  {
   "cell_type": "code",
   "execution_count": 7,
   "metadata": {
    "colab": {
     "autoexec": {
      "startup": false,
      "wait_interval": 0
     }
    },
    "colab_type": "code",
    "id": "MMNJrPkRwD7L"
   },
   "outputs": [],
   "source": [
    "from functools import reduce\n",
    "\n",
    "# create dataframes from all directories from that contain spam or ham email text files"
   ]
  },
  {
   "cell_type": "code",
   "execution_count": 8,
   "metadata": {
    "colab": {
     "autoexec": {
      "startup": false,
      "wait_interval": 0
     },
     "base_uri": "https://localhost:8080/",
     "height": 1369
    },
    "colab_type": "code",
    "executionInfo": {
     "elapsed": 817,
     "status": "ok",
     "timestamp": 1533664414553,
     "user": {
      "displayName": "Kunal Chugh",
      "photoUrl": "https://lh3.googleusercontent.com/a/default-user=s128",
      "userId": "105461112688777743201"
     },
     "user_tz": 240
    },
    "id": "szLfI1OUwD7X",
    "outputId": "a239602a-defb-4fb8-8004-4b68483dba3c"
   },
   "outputs": [],
   "source": [
    "directorypath = \"1998/1998/03/\"\n",
    "dfs = [i for i in getAllDFFromDirectory(directorypath) if(isinstance(i,pd.DataFrame))]"
   ]
  },
  {
   "cell_type": "markdown",
   "metadata": {},
   "source": [
    "We define a generator for the trec07p dataset that iterates over all email text files in a directory and yields dataframes."
   ]
  },
  {
   "cell_type": "code",
   "execution_count": 9,
   "metadata": {
    "colab": {
     "autoexec": {
      "startup": false,
      "wait_interval": 0
     }
    },
    "colab_type": "code",
    "id": "OtvAUr5DwD7n"
   },
   "outputs": [],
   "source": [
    "# iterate over all files in the directory to create the dataframes\n",
    "def getAllDFFromDirectory2(directorypath, target):\n",
    "    '''\n",
    "    passes filename and target(spam or ham) to getDFFromEmail function explained above\n",
    "    '''\n",
    "    for i,filename in enumerate(os.listdir(directorypath)[:5000]):\n",
    "        #print(\"Getting DF for \"+\"\".join((directorypath, filename)))\n",
    "        \n",
    "        if(target[i] == 'spam'):\n",
    "            yield getDFFromEmail(\"\".join((directorypath, filename)), True)\n",
    "        else:\n",
    "            yield getDFFromEmail(\"\".join((directorypath, filename)), False)"
   ]
  },
  {
   "cell_type": "code",
   "execution_count": 10,
   "metadata": {
    "colab": {
     "autoexec": {
      "startup": false,
      "wait_interval": 0
     },
     "base_uri": "https://localhost:8080/",
     "height": 173368
    },
    "colab_type": "code",
    "executionInfo": {
     "elapsed": 32871,
     "status": "ok",
     "timestamp": 1533664449548,
     "user": {
      "displayName": "Kunal Chugh",
      "photoUrl": "https://lh3.googleusercontent.com/a/default-user=s128",
      "userId": "105461112688777743201"
     },
     "user_tz": 240
    },
    "id": "MXLznmHiwD7x",
    "outputId": "9840ab15-1e84-4a3f-b144-d7d78bc0e623"
   },
   "outputs": [
    {
     "name": "stdout",
     "output_type": "stream",
     "text": [
      "75419\n"
     ]
    }
   ],
   "source": [
    "def getTrec07Target():\n",
    "    '''\n",
    "    index file has target(spam or ham) and path to data\n",
    "    '''\n",
    "    for line in open(\"trec07p/trec07p/full/index\"):\n",
    "        yield line.split(\" \")[0]\n",
    "\n",
    "target = [i for i in getTrec07Target()]\n",
    "print(len(target))\n",
    "\n",
    "directorypath = \"trec07p/trec07p/data/\"\n",
    "dfs2 = [i for i in getAllDFFromDirectory2(directorypath, target) if(isinstance(i,pd.DataFrame))]"
   ]
  },
  {
   "cell_type": "code",
   "execution_count": null,
   "metadata": {
    "colab": {
     "autoexec": {
      "startup": false,
      "wait_interval": 0
     }
    },
    "colab_type": "code",
    "id": "GccDBKfowD76"
   },
   "outputs": [],
   "source": []
  },
  {
   "cell_type": "code",
   "execution_count": null,
   "metadata": {
    "colab": {
     "autoexec": {
      "startup": false,
      "wait_interval": 0
     }
    },
    "colab_type": "code",
    "id": "XZA5aKaWwD8C"
   },
   "outputs": [],
   "source": []
  },
  {
   "cell_type": "code",
   "execution_count": null,
   "metadata": {
    "colab": {
     "autoexec": {
      "startup": false,
      "wait_interval": 0
     }
    },
    "colab_type": "code",
    "id": "6tajj1WWwD8K"
   },
   "outputs": [],
   "source": []
  },
  {
   "cell_type": "code",
   "execution_count": 11,
   "metadata": {
    "colab": {
     "autoexec": {
      "startup": false,
      "wait_interval": 0
     }
    },
    "colab_type": "code",
    "id": "B9mHxF9MwD8R"
   },
   "outputs": [],
   "source": [
    "# Test for number of columns in dataframes\n",
    "#dfs2.map(lambda df: df.shape[0])\n",
    "#[i for i in zip(map(lambda df: df.shape[0],dfs2), range(len(dfs2))) if(i[0]>40)]\n"
   ]
  },
  {
   "cell_type": "markdown",
   "metadata": {},
   "source": [
    "Use functools.reduce to merge all resulting dataframes into a single dataframe representing all emails."
   ]
  },
  {
   "cell_type": "code",
   "execution_count": 12,
   "metadata": {
    "colab": {
     "autoexec": {
      "startup": false,
      "wait_interval": 0
     }
    },
    "colab_type": "code",
    "id": "B-CJBV_AwD8b"
   },
   "outputs": [],
   "source": [
    "df_final = reduce(lambda left,right: pd.merge(left,right,how='outer',on='index'), dfs+dfs2)"
   ]
  },
  {
   "cell_type": "code",
   "execution_count": 13,
   "metadata": {
    "colab": {
     "autoexec": {
      "startup": false,
      "wait_interval": 0
     }
    },
    "colab_type": "code",
    "id": "7ZqwK41UwD8k"
   },
   "outputs": [],
   "source": [
    "df_final = df_final.set_index('index').T"
   ]
  },
  {
   "cell_type": "code",
   "execution_count": 14,
   "metadata": {
    "colab": {
     "autoexec": {
      "startup": false,
      "wait_interval": 0
     }
    },
    "colab_type": "code",
    "id": "PxlzXUiOwD8v"
   },
   "outputs": [],
   "source": [
    "df_final['index'] = [i for i in range(df_final.shape[0])]\n",
    "df_final.set_index('index', inplace=True)"
   ]
  },
  {
   "cell_type": "code",
   "execution_count": 15,
   "metadata": {
    "colab": {
     "autoexec": {
      "startup": false,
      "wait_interval": 0
     },
     "base_uri": "https://localhost:8080/",
     "height": 594
    },
    "colab_type": "code",
    "executionInfo": {
     "elapsed": 539,
     "status": "ok",
     "timestamp": 1533664791966,
     "user": {
      "displayName": "Kunal Chugh",
      "photoUrl": "https://lh3.googleusercontent.com/a/default-user=s128",
      "userId": "105461112688777743201"
     },
     "user_tz": 240
    },
    "id": "Vym60nQWwD82",
    "outputId": "d0e2ef8d-39a0-42e3-c6d7-c72d0e871c38"
   },
   "outputs": [
    {
     "data": {
      "text/html": [
       "<div>\n",
       "<style scoped>\n",
       "    .dataframe tbody tr th:only-of-type {\n",
       "        vertical-align: middle;\n",
       "    }\n",
       "\n",
       "    .dataframe tbody tr th {\n",
       "        vertical-align: top;\n",
       "    }\n",
       "\n",
       "    .dataframe thead th {\n",
       "        text-align: right;\n",
       "    }\n",
       "</style>\n",
       "<table border=\"1\" class=\"dataframe\">\n",
       "  <thead>\n",
       "    <tr style=\"text-align: right;\">\n",
       "      <th>index</th>\n",
       "      <th>Return-Path</th>\n",
       "      <th>Delivered-To</th>\n",
       "      <th>Received</th>\n",
       "      <th>From</th>\n",
       "      <th>To</th>\n",
       "      <th>Message-Id</th>\n",
       "      <th>Reply-To</th>\n",
       "      <th>Subject</th>\n",
       "      <th>Mime-Version</th>\n",
       "      <th>Content-Type</th>\n",
       "      <th>...</th>\n",
       "      <th>X-PMX-Version-Mac</th>\n",
       "      <th>X-PerlMx-Spam</th>\n",
       "      <th>X-Sagator-Scanner</th>\n",
       "      <th>X-Sagator-ID</th>\n",
       "      <th>Nos</th>\n",
       "      <th>X-AuditID</th>\n",
       "      <th>Content-Language</th>\n",
       "      <th>SINGAPORE</th>\n",
       "      <th>X-imss-approveListMatch</th>\n",
       "      <th>X-twelveapples.com-MsgID</th>\n",
       "    </tr>\n",
       "    <tr>\n",
       "      <th>index</th>\n",
       "      <th></th>\n",
       "      <th></th>\n",
       "      <th></th>\n",
       "      <th></th>\n",
       "      <th></th>\n",
       "      <th></th>\n",
       "      <th></th>\n",
       "      <th></th>\n",
       "      <th></th>\n",
       "      <th></th>\n",
       "      <th></th>\n",
       "      <th></th>\n",
       "      <th></th>\n",
       "      <th></th>\n",
       "      <th></th>\n",
       "      <th></th>\n",
       "      <th></th>\n",
       "      <th></th>\n",
       "      <th></th>\n",
       "      <th></th>\n",
       "      <th></th>\n",
       "    </tr>\n",
       "  </thead>\n",
       "  <tbody>\n",
       "    <tr>\n",
       "      <th>0</th>\n",
       "      <td>&lt;aj881c@ix.netcom.com&gt;\\n</td>\n",
       "      <td>bait@mikhail.qcc.sk.ca\\n</td>\n",
       "      <td>from local.nethost.org(really [24553/24554]) ...</td>\n",
       "      <td>aj881c &lt;aj881c@ix.netcom.com&gt;\\n</td>\n",
       "      <td>&lt;bagpipes@acadia.net&gt;\\n</td>\n",
       "      <td>&lt;19943672.886214@relay.comanche.denmark.eu&gt; M...</td>\n",
       "      <td>aj881c@ix.netcom.com\\nAuthenticated sender is...</td>\n",
       "      <td>2-1\\n</td>\n",
       "      <td>1.0\\n</td>\n",
       "      <td>text/plain; charset=\"us-ascii\"\\n</td>\n",
       "      <td>...</td>\n",
       "      <td>NaN</td>\n",
       "      <td>NaN</td>\n",
       "      <td>NaN</td>\n",
       "      <td>NaN</td>\n",
       "      <td>NaN</td>\n",
       "      <td>NaN</td>\n",
       "      <td>NaN</td>\n",
       "      <td>NaN</td>\n",
       "      <td>NaN</td>\n",
       "      <td>NaN</td>\n",
       "    </tr>\n",
       "    <tr>\n",
       "      <th>1</th>\n",
       "      <td>&lt;iwbp@mailcity.com&gt;\\n</td>\n",
       "      <td>bait@mikhail.qcc.sk.ca\\n</td>\n",
       "      <td>from mail.hic.net (1Cust113.tnt8.lax3.da.uu.n...</td>\n",
       "      <td>iwbp@mailcity.com\\n</td>\n",
       "      <td>members@your.net\\n</td>\n",
       "      <td>NaN</td>\n",
       "      <td>NaN</td>\n",
       "      <td>Exclusive Internet Business, 1st Time Offered...</td>\n",
       "      <td>NaN</td>\n",
       "      <td>NaN</td>\n",
       "      <td>...</td>\n",
       "      <td>NaN</td>\n",
       "      <td>NaN</td>\n",
       "      <td>NaN</td>\n",
       "      <td>NaN</td>\n",
       "      <td>NaN</td>\n",
       "      <td>NaN</td>\n",
       "      <td>NaN</td>\n",
       "      <td>NaN</td>\n",
       "      <td>NaN</td>\n",
       "      <td>NaN</td>\n",
       "    </tr>\n",
       "    <tr>\n",
       "      <th>2</th>\n",
       "      <td>&lt;am74rt@worldnet.att.net&gt;\\n</td>\n",
       "      <td>bait@mikhail.qcc.sk.ca\\n</td>\n",
       "      <td>from local.nethost.org(really [24553/24554]) ...</td>\n",
       "      <td>am74rt &lt;am74rt@worldnet.att.net&gt;\\n</td>\n",
       "      <td>&lt;badams@eastky.com&gt;\\n</td>\n",
       "      <td>&lt;19943672.886214@relay.comanche.denmark.eu&gt; T...</td>\n",
       "      <td>am74rt@worldnet.att.net\\n\\nAuthenticated send...</td>\n",
       "      <td>2-17\\n</td>\n",
       "      <td>1.0\\n</td>\n",
       "      <td>text/plain; charset=\"us-ascii\"\\n</td>\n",
       "      <td>...</td>\n",
       "      <td>NaN</td>\n",
       "      <td>NaN</td>\n",
       "      <td>NaN</td>\n",
       "      <td>NaN</td>\n",
       "      <td>NaN</td>\n",
       "      <td>NaN</td>\n",
       "      <td>NaN</td>\n",
       "      <td>NaN</td>\n",
       "      <td>NaN</td>\n",
       "      <td>NaN</td>\n",
       "    </tr>\n",
       "    <tr>\n",
       "      <th>3</th>\n",
       "      <td>&lt;subwiz1@friendlyserver.com&gt;\\n</td>\n",
       "      <td>bait@mikhail.qcc.sk.ca\\n</td>\n",
       "      <td>from subwiz1@friendlyserver.com œby net1.aoci...</td>\n",
       "      <td>\"D.Reynolds\" &lt;subwiz1@friendlyserver.com&gt;\\n</td>\n",
       "      <td>NaN</td>\n",
       "      <td>&lt;199802161222.EAA24869@net1.aoci.com&gt;\\n</td>\n",
       "      <td>subwiz1@friendlyserver.com\\n</td>\n",
       "      <td>ADV: FREE DOWNLOAD:Register your web site to ...</td>\n",
       "      <td>NaN</td>\n",
       "      <td>NaN</td>\n",
       "      <td>...</td>\n",
       "      <td>NaN</td>\n",
       "      <td>NaN</td>\n",
       "      <td>NaN</td>\n",
       "      <td>NaN</td>\n",
       "      <td>NaN</td>\n",
       "      <td>NaN</td>\n",
       "      <td>NaN</td>\n",
       "      <td>NaN</td>\n",
       "      <td>NaN</td>\n",
       "      <td>NaN</td>\n",
       "    </tr>\n",
       "    <tr>\n",
       "      <th>4</th>\n",
       "      <td>&lt;carlover@goplay.com&gt;\\n</td>\n",
       "      <td>bait@mikhail.qcc.sk.ca\\n</td>\n",
       "      <td>from mail.anet-chi.com (1Cust245.tnt13.atl2.d...</td>\n",
       "      <td>carlover@goplay.com\\n</td>\n",
       "      <td>carlovers@america.com\\n</td>\n",
       "      <td>NaN</td>\n",
       "      <td>NaN</td>\n",
       "      <td>AUTOMOBILE OPPORTUNITY\\n</td>\n",
       "      <td>NaN</td>\n",
       "      <td>NaN</td>\n",
       "      <td>...</td>\n",
       "      <td>NaN</td>\n",
       "      <td>NaN</td>\n",
       "      <td>NaN</td>\n",
       "      <td>NaN</td>\n",
       "      <td>NaN</td>\n",
       "      <td>NaN</td>\n",
       "      <td>NaN</td>\n",
       "      <td>NaN</td>\n",
       "      <td>NaN</td>\n",
       "      <td>NaN</td>\n",
       "    </tr>\n",
       "  </tbody>\n",
       "</table>\n",
       "<p>5 rows × 485 columns</p>\n",
       "</div>"
      ],
      "text/plain": [
       "index                      Return-Path               Delivered-To  \\\n",
       "index                                                               \n",
       "0             <aj881c@ix.netcom.com>\\n   bait@mikhail.qcc.sk.ca\\n   \n",
       "1                <iwbp@mailcity.com>\\n   bait@mikhail.qcc.sk.ca\\n   \n",
       "2          <am74rt@worldnet.att.net>\\n   bait@mikhail.qcc.sk.ca\\n   \n",
       "3       <subwiz1@friendlyserver.com>\\n   bait@mikhail.qcc.sk.ca\\n   \n",
       "4              <carlover@goplay.com>\\n   bait@mikhail.qcc.sk.ca\\n   \n",
       "\n",
       "index                                           Received  \\\n",
       "index                                                      \n",
       "0       from local.nethost.org(really [24553/24554]) ...   \n",
       "1       from mail.hic.net (1Cust113.tnt8.lax3.da.uu.n...   \n",
       "2       from local.nethost.org(really [24553/24554]) ...   \n",
       "3       from subwiz1@friendlyserver.com œby net1.aoci...   \n",
       "4       from mail.anet-chi.com (1Cust245.tnt13.atl2.d...   \n",
       "\n",
       "index                                          From  \\\n",
       "index                                                 \n",
       "0                   aj881c <aj881c@ix.netcom.com>\\n   \n",
       "1                               iwbp@mailcity.com\\n   \n",
       "2                am74rt <am74rt@worldnet.att.net>\\n   \n",
       "3       \"D.Reynolds\" <subwiz1@friendlyserver.com>\\n   \n",
       "4                             carlover@goplay.com\\n   \n",
       "\n",
       "index                               To  \\\n",
       "index                                    \n",
       "0              <bagpipes@acadia.net>\\n   \n",
       "1                   members@your.net\\n   \n",
       "2                <badams@eastky.com>\\n   \n",
       "3                                  NaN   \n",
       "4              carlovers@america.com\\n   \n",
       "\n",
       "index                                         Message-Id  \\\n",
       "index                                                      \n",
       "0       <19943672.886214@relay.comanche.denmark.eu> M...   \n",
       "1                                                    NaN   \n",
       "2       <19943672.886214@relay.comanche.denmark.eu> T...   \n",
       "3                <199802161222.EAA24869@net1.aoci.com>\\n   \n",
       "4                                                    NaN   \n",
       "\n",
       "index                                           Reply-To  \\\n",
       "index                                                      \n",
       "0       aj881c@ix.netcom.com\\nAuthenticated sender is...   \n",
       "1                                                    NaN   \n",
       "2       am74rt@worldnet.att.net\\n\\nAuthenticated send...   \n",
       "3                           subwiz1@friendlyserver.com\\n   \n",
       "4                                                    NaN   \n",
       "\n",
       "index                                            Subject Mime-Version  \\\n",
       "index                                                                   \n",
       "0                                                  2-1\\n        1.0\\n   \n",
       "1       Exclusive Internet Business, 1st Time Offered...          NaN   \n",
       "2                                                 2-17\\n        1.0\\n   \n",
       "3       ADV: FREE DOWNLOAD:Register your web site to ...          NaN   \n",
       "4                               AUTOMOBILE OPPORTUNITY\\n          NaN   \n",
       "\n",
       "index                       Content-Type           ...             \\\n",
       "index                                              ...              \n",
       "0       text/plain; charset=\"us-ascii\"\\n           ...              \n",
       "1                                    NaN           ...              \n",
       "2       text/plain; charset=\"us-ascii\"\\n           ...              \n",
       "3                                    NaN           ...              \n",
       "4                                    NaN           ...              \n",
       "\n",
       "index X-PMX-Version-Mac X-PerlMx-Spam X-Sagator-Scanner X-Sagator-ID  Nos  \\\n",
       "index                                                                       \n",
       "0                   NaN           NaN               NaN          NaN  NaN   \n",
       "1                   NaN           NaN               NaN          NaN  NaN   \n",
       "2                   NaN           NaN               NaN          NaN  NaN   \n",
       "3                   NaN           NaN               NaN          NaN  NaN   \n",
       "4                   NaN           NaN               NaN          NaN  NaN   \n",
       "\n",
       "index X-AuditID Content-Language SINGAPORE X-imss-approveListMatch  \\\n",
       "index                                                                \n",
       "0           NaN              NaN       NaN                     NaN   \n",
       "1           NaN              NaN       NaN                     NaN   \n",
       "2           NaN              NaN       NaN                     NaN   \n",
       "3           NaN              NaN       NaN                     NaN   \n",
       "4           NaN              NaN       NaN                     NaN   \n",
       "\n",
       "index X-twelveapples.com-MsgID  \n",
       "index                           \n",
       "0                          NaN  \n",
       "1                          NaN  \n",
       "2                          NaN  \n",
       "3                          NaN  \n",
       "4                          NaN  \n",
       "\n",
       "[5 rows x 485 columns]"
      ]
     },
     "execution_count": 15,
     "metadata": {},
     "output_type": "execute_result"
    }
   ],
   "source": [
    "df_final.head()"
   ]
  },
  {
   "cell_type": "markdown",
   "metadata": {
    "colab": {
     "autoexec": {
      "startup": false,
      "wait_interval": 0
     }
    },
    "colab_type": "code",
    "id": "fLxUqwF4wD9J"
   },
   "source": [
    "Notice that some of the columns are duplicates, for eg. 'Message-Id', 'Message-ID' & 'Message-id', so we define a method to combine these duplicate columns."
   ]
  },
  {
   "cell_type": "code",
   "execution_count": 16,
   "metadata": {
    "colab": {
     "autoexec": {
      "startup": false,
      "wait_interval": 0
     }
    },
    "colab_type": "code",
    "id": "Gzm_x6SRwD9T"
   },
   "outputs": [],
   "source": [
    "def combineDuplicateColumns(df_final, colNames):\n",
    "    '''\n",
    "    combines all colNames to 1 and drops duplicate columns\n",
    "    '''\n",
    "    originalCol = ''\n",
    "    for i,duplicateCol in enumerate(colNames):\n",
    "        if(i == 0):\n",
    "            originalCol = duplicateCol\n",
    "            continue\n",
    "        \n",
    "        df_final.loc[df_final[originalCol].isna(), originalCol] = df_final.loc[df_final[originalCol].isna()][duplicateCol]\n",
    "    \n",
    "    \n",
    "    df_final.drop(labels=colNames[1:], axis=1, inplace=True)"
   ]
  },
  {
   "cell_type": "code",
   "execution_count": 17,
   "metadata": {
    "colab": {
     "autoexec": {
      "startup": false,
      "wait_interval": 0
     }
    },
    "colab_type": "code",
    "id": "JjrKI56nwD9g"
   },
   "outputs": [],
   "source": [
    "# Combine duplicate columns\n",
    "combineDuplicateColumns(df_final, ['Message-Id', 'Message-ID', 'Message-id'])\n",
    "combineDuplicateColumns(df_final, ['Reply-To', 'Reply-to'])\n",
    "combineDuplicateColumns(df_final, ['Mime-Version', 'MIME-version', 'MIME-Version'])\n",
    "combineDuplicateColumns(df_final, ['Content-Type', 'Content-type'])\n",
    "combineDuplicateColumns(df_final, ['Content-Transfer-Encoding', 'Content-transfer-encoding'])\n",
    "combineDuplicateColumns(df_final, ['Error-To', 'Errors-To', 'Errors-to'])\n",
    "combineDuplicateColumns(df_final, ['Content-Length','Content-length'])"
   ]
  },
  {
   "cell_type": "markdown",
   "metadata": {
    "colab": {
     "autoexec": {
      "startup": false,
      "wait_interval": 0
     }
    },
    "colab_type": "code",
    "id": "yjzJYRQ1wD94"
   },
   "source": [
    "Now that all duplicate columns are eliminated, lets display all columns of our final dataframe."
   ]
  },
  {
   "cell_type": "code",
   "execution_count": 18,
   "metadata": {
    "colab": {
     "autoexec": {
      "startup": false,
      "wait_interval": 0
     },
     "base_uri": "https://localhost:8080/",
     "height": 3432
    },
    "colab_type": "code",
    "executionInfo": {
     "elapsed": 485,
     "status": "ok",
     "timestamp": 1533664800726,
     "user": {
      "displayName": "Kunal Chugh",
      "photoUrl": "https://lh3.googleusercontent.com/a/default-user=s128",
      "userId": "105461112688777743201"
     },
     "user_tz": 240
    },
    "id": "WiUQTp-BwD-C",
    "outputId": "dd0cba36-8f5a-4879-ae03-646d92f0c471"
   },
   "outputs": [
    {
     "data": {
      "text/plain": [
       "array(['Account', 'Addressee', 'Amount', 'Approved-By', 'Architecture',\n",
       "       'Army', 'Arrival-Date', 'Association', 'Attn',\n",
       "       'Authentication-Results', 'Availability', 'Bcc', 'Body', 'Boxer',\n",
       "       'BroadcastJobID', 'BroadcastRecipientID', 'CC', 'COMM', 'COMMENTS',\n",
       "       'Cc', 'Cialis', 'Coefficients', 'Comments', 'Conf', 'Content-Base',\n",
       "       'Content-Class', 'Content-Description', 'Content-Disposition',\n",
       "       'Content-ID', 'Content-Language', 'Content-Length',\n",
       "       'Content-Location', 'Content-MD5', 'Content-Transfer-Encoding',\n",
       "       'Content-Type', 'Content-class', 'Content-description',\n",
       "       'Content-disposition', 'Content-language', 'Copied',\n",
       "       'DKIM-Signature', 'DSN', 'Date', 'Delivered-To', 'Design',\n",
       "       'Development', 'Disposition-Notification-To', 'Dobbs',\n",
       "       'DomainKey-Signature', 'DomainKey-Status', 'E-Mail', 'E-mail',\n",
       "       'EMAIL', 'ERROR', 'EXTRAS.</span></font><o', 'Email', 'Error',\n",
       "       'Error-To', 'FACT', 'FROM', 'Fax', 'Final-Recipient', 'From',\n",
       "       'Frutas</font></span><o', 'Från', 'Help', 'Hi', 'Importante',\n",
       "       'In-Reply-To', 'In-reply-to', 'Introducción', 'Last-Attempt-Date',\n",
       "       'Lines', 'List-Archive', 'List-Id', 'List-Owner', 'List-Post',\n",
       "       'List-Software', 'List-Subscribe', 'List-Unsubscribe', 'Locale',\n",
       "       'Mailing-List', 'Message', 'Message-Id', 'Message-Type',\n",
       "       'Mime-Version', 'Mime-version', 'Mob', 'Newsgroups', 'Nos', 'Note',\n",
       "       'O<http', 'Offer', 'Office', 'Original-recipient', 'P.S', 'PS',\n",
       "       'Paisaje</span></font><o', 'Password', 'Ph', 'Proposition',\n",
       "       'Questions', 'RT-Attachment', 'RT-Originator', 'Re', 'Received',\n",
       "       'Received-From-MTA', 'Recommended<br>-', 'Records', 'Remote-MTA',\n",
       "       'Reply-To', 'Resent-Cc', 'Resent-Date', 'Resent-From',\n",
       "       'Resent-Message-ID', 'Resent-Message-Id', 'Resent-Sender',\n",
       "       'Resent-To', 'Result', 'Return-Path', 'SINGAPORE', 'SOURCE',\n",
       "       'Salones</font></span><o', 'Sender', 'Shell', 'Shop', 'Size',\n",
       "       'Software', 'Solution', 'Spam', 'Status', 'Subject', 'Tel.',\n",
       "       'Telephone', 'Thread-Index', 'Thread-Topic', 'Thread-index',\n",
       "       'Tname', 'To', 'Técnicas</span></font><o', 'United', 'Unlock',\n",
       "       'User-Agent', 'Version', 'Versions', 'Warning', 'Web', 'WebSVN',\n",
       "       'Will-Retry-Until', 'X-AOL-IP', 'X-ASG-Debug-ID',\n",
       "       'X-ASG-Orig-Subj', 'X-ASG-Whitelist', 'X-Accept-Language',\n",
       "       'X-Accutrak', 'X-Anti-Virus', 'X-AntiAbuse', 'X-AntiVirus',\n",
       "       'X-Antispam-ID', 'X-Antivirus', 'X-Antivirus-Scanner',\n",
       "       'X-Antivirus-Status', 'X-Apparently-To', 'X-AtHome-MailScanner',\n",
       "       'X-Attachments', 'X-AuditID', 'X-Auth', 'X-Auth-bits',\n",
       "       'X-Authenticated', 'X-Authenticated-User', 'X-Authentication-Info',\n",
       "       'X-Authentication-Warning', 'X-Barracuda-Bayes',\n",
       "       'X-Barracuda-Connect', 'X-Barracuda-Encrypted',\n",
       "       'X-Barracuda-Spam-Report', 'X-Barracuda-Spam-Score',\n",
       "       'X-Barracuda-Spam-Status', 'X-Barracuda-Start-Time',\n",
       "       'X-Barracuda-URL', 'X-Barracuda-Virus-Scanned', 'X-BeenThere',\n",
       "       'X-BigFish', 'X-BitDefender-Scanner', 'X-Bogosity',\n",
       "       'X-Brightmail-Tracker', 'X-Brightmail-scanned',\n",
       "       'X-BrightmailFiltered', 'X-Bulkmail', 'X-CGUID',\n",
       "       'X-CanItPRO-Stream', 'X-Canit-Stats-ID', 'X-Chzlrs',\n",
       "       'X-ClamAntiVirus-Scanner', 'X-Client-Addr', 'X-Client-Sender',\n",
       "       'X-Comment', 'X-Complaints-To', 'X-Content-Filtered-By',\n",
       "       'X-Country-Chain', 'X-DCC-POPInternet-Metrics',\n",
       "       'X-DCC-scarlet.be-Metrics', 'X-DSNContext', 'X-Debian-PR-Keywords',\n",
       "       'X-Debian-PR-Message', 'X-Debian-PR-Package', 'X-Debian-PR-Source',\n",
       "       'X-Declude-Fail', 'X-Declude-Note', 'X-Declude-RefID',\n",
       "       'X-Declude-Scan', 'X-Declude-Sender', 'X-Declude-Spoolname',\n",
       "       'X-Destination-ID', 'X-ELNK-Trace', 'X-EmailedTo',\n",
       "       'X-Enigmail-Supports', 'X-Enigmail-Version', 'X-Env-Sender',\n",
       "       'X-Envelope-From', 'X-Envelope-from', 'X-FB05-MailScanner',\n",
       "       'X-FB05-MailScanner-From', 'X-FB05-MailScanner-SpamCheck',\n",
       "       'X-FHCRC-SCANNED', 'X-Face', 'X-Firewall-Bypass', 'X-Forwarded',\n",
       "       'X-Fraunhofer-Email-Policy', 'X-From_', 'X-GMX-Antivirus',\n",
       "       'X-Gmane-NNTP-Posting-Host', 'X-Google-Sender-Auth', 'X-Greylist',\n",
       "       'X-Handler', 'X-Header', 'X-Header-CompanyDBUserName',\n",
       "       'X-Header-MasterId', 'X-Header-Versions', 'X-Http_host', 'X-ID',\n",
       "       'X-IP', 'X-ImpeachBushNow', 'X-ImpeachBushNow-Information',\n",
       "       'X-Injected-Via-Gmane', 'X-IronPort-AV',\n",
       "       'X-IronPort-Anti-Spam-Filtered', 'X-IronPort-Anti-Spam-Result',\n",
       "       'X-IronPortListener', 'X-Ironport-Seen', 'X-JobId',\n",
       "       'X-Junkmail-SD-Raw', 'X-Junkmail-Status', 'X-KTL-Spam-Score',\n",
       "       'X-KTL-Spam-Status', 'X-Kaspersky-Antivirus', 'X-LYRIS-Message-Id',\n",
       "       'X-Library', 'X-List-Owner-Address', 'X-List-Software',\n",
       "       'X-Loom-IP', 'X-Loop', 'X-MASF', 'X-MB-Message-Source',\n",
       "       'X-MB-Message-Type', 'X-ME-UUID', 'X-MIME-Autoconverted',\n",
       "       'X-MIMEOLE', 'X-MIMETrack', 'X-MS-Has-Attach',\n",
       "       'X-MS-TNEF-Correlator', 'X-MSMail-Priority', 'X-MSSL-MailScanner',\n",
       "       'X-MSSL-MailScanner-SpamCheck', 'X-MailScanner-NOCS',\n",
       "       'X-MailScanner-NOCS-From', 'X-MailScanner-NOCS-SpamCheck',\n",
       "       'X-Mailer', 'X-Mailer-Version', 'X-Mailing-List',\n",
       "       'X-Mailing-List-Name', 'X-MailingID', 'X-Mailman-Approved-At',\n",
       "       'X-Mailman-Version', 'X-Major', 'X-Message-ID', 'X-Message-Id',\n",
       "       'X-Message-Info', 'X-Miltered', 'X-MimeOLE', 'X-Mimeole',\n",
       "       'X-Msg-Ref', 'X-MundosAparte-MailScanner', 'X-NAIMIME-Disclaimer',\n",
       "       'X-NAIMIME-Modified', 'X-Nabble-From', 'X-NetMagic-MailScanner',\n",
       "       'X-NetMagic-MailScanner-From', 'X-Newsreader', 'X-Nominal',\n",
       "       'X-OB-Received', 'X-ORBL', 'X-Old-Spam-Check-By',\n",
       "       'X-Old-Spam-Status', 'X-Operating-System', 'X-Orcpt',\n",
       "       'X-Original-Date', 'X-Original-To', 'X-OriginalArrivalTime',\n",
       "       'X-Originating-Email', 'X-Originating-IP', 'X-Originating-Ip',\n",
       "       'X-Originating-Pythagoras-IP', 'X-Originating-Server',\n",
       "       'X-OriginatingIP', 'X-PGP-Key', 'X-PGP-Key-Fingerprint',\n",
       "       'X-PGP-Key-ID', 'X-PMFLAGS', 'X-PMX-Version', 'X-PMX-Version-Mac',\n",
       "       'X-PPLU', 'X-PPS', 'X-PTS-Keyword', 'X-PTS-Package',\n",
       "       'X-PerlMx-Spam', 'X-Poco-Status', 'X-Poco-UID', 'X-Post-From',\n",
       "       'X-Posted-By', 'X-Priority', 'X-Proofpoint-Spam-Reason',\n",
       "       'X-Proofpoint-Virus-Version', 'X-Provags-ID',\n",
       "       'X-Public-Key-Fingerprint', 'X-Public-Key-ID', 'X-Public-Key-URL',\n",
       "       'X-QUOTATION', 'X-RAV-AntiVirus', 'X-RAV-Antivirus',\n",
       "       'X-RPI-SA-Score', 'X-RT-Loop-Prevention', 'X-RT-NewTicket',\n",
       "       'X-RT-Original-Encoding', 'X-RZG-AUTH', 'X-RZG-CLASS-ID',\n",
       "       'X-Rc-Spam', 'X-Rc-Virus', 'X-Received', 'X-Recipient',\n",
       "       'X-RedirectStatus', 'X-Report-Abuse-At', 'X-Report-Abuse-Info',\n",
       "       'X-SBRS', 'X-SBRS-GW1', 'X-SMFBL', 'X-SMHeaderMap', 'X-SPF-AUTH',\n",
       "       'X-SPLN-ID', 'X-ST-MF-Message-Resent', 'X-Sagator-ID',\n",
       "       'X-Sagator-Scanner', 'X-Sasl-Enc', 'X-Sasl-enc',\n",
       "       'X-Scan-Signature', 'X-Scanned', 'X-Scanned-By', 'X-Scanned-On',\n",
       "       'X-Scanner', 'X-Sender', 'X-Sender-Ip', 'X-SenderIP',\n",
       "       'X-Sensitivity', 'X-Sequence', 'X-Server-Uuid', 'X-Sieve',\n",
       "       'X-SmartMax-AuthUser', 'X-Source', 'X-Source-Args', 'X-Source-Dir',\n",
       "       'X-Spam', 'X-Spam-Check-By', 'X-Spam-Checker-Version',\n",
       "       'X-Spam-Flag', 'X-Spam-Level', 'X-Spam-Score', 'X-Spam-Status',\n",
       "       'X-SpamTest-Info', 'X-SpamTest-Version', 'X-Spamfilter-host',\n",
       "       'X-Speed', 'X-StarScan-Version', 'X-Status', 'X-Subscription',\n",
       "       'X-TM-AS-Product-Ver', 'X-TM-AS-Result', 'X-TPG-Antivirus',\n",
       "       'X-Terra-Hash', 'X-Terra-Karma', 'X-To', 'X-UCL-MailScanner',\n",
       "       'X-UCL-MailScanner-From', 'X-UCL-MailScanner-Information',\n",
       "       'X-UGUID', 'X-UIDL', 'X-UNB-MailScanner-Information',\n",
       "       'X-UNB-SpamDetails', 'X-UNB-VirusScanner', 'X-URL',\n",
       "       'X-USANET-Auth', 'X-USANET-MsgId', 'X-USANET-Source', 'X-USER_IP',\n",
       "       'X-UUID', 'X-Uidl', 'X-Unsubscribe', 'X-Useless-Header',\n",
       "       'X-UserId', 'X-Userid', 'X-Uwash-Spam', 'X-Verification',\n",
       "       'X-VirtualServer', 'X-VirtualServerGroup', 'X-Virus',\n",
       "       'X-Virus-Checked', 'X-Virus-Infected', 'X-Virus-Scanned',\n",
       "       'X-Virus-Status', 'X-Virus-checked', 'X-VirusChecked', 'X-WSS-ID',\n",
       "       'X-Webmail-User', 'X-X-QUOTATION', 'X-X-Sender',\n",
       "       'X-XaM3-API-Version', 'X-Y-GMX-Trusted', 'X-YMail-OSG',\n",
       "       'X-Yahoo-Forwarded', 'X-Yahoo-Newman-Id',\n",
       "       'X-Yahoo-Newman-Property', 'X-YahooFilteredBulk',\n",
       "       'X-bandanestring.com-MsgID', 'X-bellebolder.com-MsgID',\n",
       "       'X-doormobiles.com-MsgID', 'X-eid', 'X-imss-approveListMatch',\n",
       "       'X-imss-result', 'X-imss-scanInfo', 'X-imss-scores',\n",
       "       'X-imss-settings', 'X-imss-tmaseResult', 'X-imss-version',\n",
       "       'X-keyrockrolling.com-MsgID', 'X-lookedleftlast.com-MsgID',\n",
       "       'X-mailed-to', 'X-mailer', 'X-nicktalktime.com-MsgID',\n",
       "       'X-notifreq', 'X-pair-Authenticated', 'X-pid', 'X-pstn-addresses',\n",
       "       'X-pstn-levels', 'X-pstn-settings', 'X-remove',\n",
       "       'X-samstandingsoon.com-MsgID', 'X-twelveapples.com-MsgID',\n",
       "       'X-user', 'XAuthentication-Warning', 'XMessage-Id', 'X_Id',\n",
       "       'Xanaax', 'Z-USANET-MsgId', 'À\\xa0', 'Ämne', 'ÏêÇéÇëµÇÂ½;http//'],\n",
       "      dtype=object)"
      ]
     },
     "execution_count": 18,
     "metadata": {},
     "output_type": "execute_result"
    }
   ],
   "source": [
    "# Check for more duplicate columns\n",
    "np.sort(df_final.columns.values)"
   ]
  },
  {
   "cell_type": "markdown",
   "metadata": {
    "colab": {
     "autoexec": {
      "startup": false,
      "wait_interval": 0
     }
    },
    "colab_type": "code",
    "id": "9EoWxAffwD-Q"
   },
   "source": [
    "Let's keep the columns that we need and eliminate the rest."
   ]
  },
  {
   "cell_type": "code",
   "execution_count": 19,
   "metadata": {
    "colab": {
     "autoexec": {
      "startup": false,
      "wait_interval": 0
     },
     "base_uri": "https://localhost:8080/",
     "height": 69
    },
    "colab_type": "code",
    "executionInfo": {
     "elapsed": 399,
     "status": "ok",
     "timestamp": 1533664802524,
     "user": {
      "displayName": "Kunal Chugh",
      "photoUrl": "https://lh3.googleusercontent.com/a/default-user=s128",
      "userId": "105461112688777743201"
     },
     "user_tz": 240
    },
    "id": "tkL0QGqjwD-a",
    "outputId": "48f1647e-3902-4e79-c0a2-9148bccde66c"
   },
   "outputs": [
    {
     "data": {
      "text/plain": [
       "Index(['From', 'To', 'Message-Id', 'Subject', 'Body', 'Spam', 'X-UIDL',\n",
       "       'Sender'],\n",
       "      dtype='object', name='index')"
      ]
     },
     "execution_count": 19,
     "metadata": {},
     "output_type": "execute_result"
    }
   ],
   "source": [
    "#From, To, Body, Subject, Message-Id, X-UIDL, Sender, Spam\n",
    "c1 = df_final.columns\n",
    "c2 = pd.Index(['Spam', 'Body', 'Subject', 'From', 'To', 'Message-Id', 'X-UIDL', 'Sender'])\n",
    "c1 = c1.difference(c2)\n",
    "\n",
    "df_new = df_final.drop(labels=c1.format(), axis=1, inplace=False)\n",
    "df_new.columns"
   ]
  },
  {
   "cell_type": "markdown",
   "metadata": {},
   "source": [
    "Here is our final dataframe. We now have data in a structured format. Saving it as \"structured.xlsx\". "
   ]
  },
  {
   "cell_type": "code",
   "execution_count": 20,
   "metadata": {},
   "outputs": [
    {
     "data": {
      "text/html": [
       "<div>\n",
       "<style scoped>\n",
       "    .dataframe tbody tr th:only-of-type {\n",
       "        vertical-align: middle;\n",
       "    }\n",
       "\n",
       "    .dataframe tbody tr th {\n",
       "        vertical-align: top;\n",
       "    }\n",
       "\n",
       "    .dataframe thead th {\n",
       "        text-align: right;\n",
       "    }\n",
       "</style>\n",
       "<table border=\"1\" class=\"dataframe\">\n",
       "  <thead>\n",
       "    <tr style=\"text-align: right;\">\n",
       "      <th>index</th>\n",
       "      <th>From</th>\n",
       "      <th>To</th>\n",
       "      <th>Message-Id</th>\n",
       "      <th>Subject</th>\n",
       "      <th>Body</th>\n",
       "      <th>Spam</th>\n",
       "      <th>X-UIDL</th>\n",
       "      <th>Sender</th>\n",
       "    </tr>\n",
       "    <tr>\n",
       "      <th>index</th>\n",
       "      <th></th>\n",
       "      <th></th>\n",
       "      <th></th>\n",
       "      <th></th>\n",
       "      <th></th>\n",
       "      <th></th>\n",
       "      <th></th>\n",
       "      <th></th>\n",
       "    </tr>\n",
       "  </thead>\n",
       "  <tbody>\n",
       "    <tr>\n",
       "      <th>0</th>\n",
       "      <td>aj881c &lt;aj881c@ix.netcom.com&gt;\\n</td>\n",
       "      <td>&lt;bagpipes@acadia.net&gt;\\n</td>\n",
       "      <td>&lt;19943672.886214@relay.comanche.denmark.eu&gt; M...</td>\n",
       "      <td>2-1\\n</td>\n",
       "      <td>email marketing works!!\\n\\nbull's eye gold is ...</td>\n",
       "      <td>Spam</td>\n",
       "      <td>NaN</td>\n",
       "      <td>NaN</td>\n",
       "    </tr>\n",
       "    <tr>\n",
       "      <th>1</th>\n",
       "      <td>iwbp@mailcity.com\\n</td>\n",
       "      <td>members@your.net\\n</td>\n",
       "      <td>&lt;&gt;\\n</td>\n",
       "      <td>Exclusive Internet Business, 1st Time Offered...</td>\n",
       "      <td>&gt;&gt;&gt;this is the most exciting breakthrough ever...</td>\n",
       "      <td>Spam</td>\n",
       "      <td>NaN</td>\n",
       "      <td>NaN</td>\n",
       "    </tr>\n",
       "    <tr>\n",
       "      <th>2</th>\n",
       "      <td>am74rt &lt;am74rt@worldnet.att.net&gt;\\n</td>\n",
       "      <td>&lt;badams@eastky.com&gt;\\n</td>\n",
       "      <td>&lt;19943672.886214@relay.comanche.denmark.eu&gt; T...</td>\n",
       "      <td>2-17\\n</td>\n",
       "      <td>email marketing works!!\\n\\nbull's eye gold is ...</td>\n",
       "      <td>Spam</td>\n",
       "      <td>NaN</td>\n",
       "      <td>NaN</td>\n",
       "    </tr>\n",
       "    <tr>\n",
       "      <th>3</th>\n",
       "      <td>\"D.Reynolds\" &lt;subwiz1@friendlyserver.com&gt;\\n</td>\n",
       "      <td>NaN</td>\n",
       "      <td>&lt;199802161222.EAA24869@net1.aoci.com&gt;\\n</td>\n",
       "      <td>ADV: FREE DOWNLOAD:Register your web site to ...</td>\n",
       "      <td>free download.register your web site to over 7...</td>\n",
       "      <td>Spam</td>\n",
       "      <td>NaN</td>\n",
       "      <td>NaN</td>\n",
       "    </tr>\n",
       "    <tr>\n",
       "      <th>4</th>\n",
       "      <td>carlover@goplay.com\\n</td>\n",
       "      <td>carlovers@america.com\\n</td>\n",
       "      <td>&lt;&gt;\\n</td>\n",
       "      <td>AUTOMOBILE OPPORTUNITY\\n</td>\n",
       "      <td>do you love cars?\\n\\nwant your own business?\\n...</td>\n",
       "      <td>Spam</td>\n",
       "      <td>NaN</td>\n",
       "      <td>NaN</td>\n",
       "    </tr>\n",
       "  </tbody>\n",
       "</table>\n",
       "</div>"
      ],
      "text/plain": [
       "index                                          From  \\\n",
       "index                                                 \n",
       "0                   aj881c <aj881c@ix.netcom.com>\\n   \n",
       "1                               iwbp@mailcity.com\\n   \n",
       "2                am74rt <am74rt@worldnet.att.net>\\n   \n",
       "3       \"D.Reynolds\" <subwiz1@friendlyserver.com>\\n   \n",
       "4                             carlover@goplay.com\\n   \n",
       "\n",
       "index                               To  \\\n",
       "index                                    \n",
       "0              <bagpipes@acadia.net>\\n   \n",
       "1                   members@your.net\\n   \n",
       "2                <badams@eastky.com>\\n   \n",
       "3                                  NaN   \n",
       "4              carlovers@america.com\\n   \n",
       "\n",
       "index                                         Message-Id  \\\n",
       "index                                                      \n",
       "0       <19943672.886214@relay.comanche.denmark.eu> M...   \n",
       "1                                                   <>\\n   \n",
       "2       <19943672.886214@relay.comanche.denmark.eu> T...   \n",
       "3                <199802161222.EAA24869@net1.aoci.com>\\n   \n",
       "4                                                   <>\\n   \n",
       "\n",
       "index                                            Subject  \\\n",
       "index                                                      \n",
       "0                                                  2-1\\n   \n",
       "1       Exclusive Internet Business, 1st Time Offered...   \n",
       "2                                                 2-17\\n   \n",
       "3       ADV: FREE DOWNLOAD:Register your web site to ...   \n",
       "4                               AUTOMOBILE OPPORTUNITY\\n   \n",
       "\n",
       "index                                               Body  Spam X-UIDL Sender  \n",
       "index                                                                         \n",
       "0      email marketing works!!\\n\\nbull's eye gold is ...  Spam    NaN    NaN  \n",
       "1      >>>this is the most exciting breakthrough ever...  Spam    NaN    NaN  \n",
       "2      email marketing works!!\\n\\nbull's eye gold is ...  Spam    NaN    NaN  \n",
       "3      free download.register your web site to over 7...  Spam    NaN    NaN  \n",
       "4      do you love cars?\\n\\nwant your own business?\\n...  Spam    NaN    NaN  "
      ]
     },
     "execution_count": 20,
     "metadata": {},
     "output_type": "execute_result"
    }
   ],
   "source": [
    "df_new.head()"
   ]
  },
  {
   "cell_type": "code",
   "execution_count": 21,
   "metadata": {
    "colab": {
     "autoexec": {
      "startup": false,
      "wait_interval": 0
     },
     "base_uri": "https://localhost:8080/",
     "height": 57099
    },
    "colab_type": "code",
    "executionInfo": {
     "elapsed": 3679,
     "status": "ok",
     "timestamp": 1533664806617,
     "user": {
      "displayName": "Kunal Chugh",
      "photoUrl": "https://lh3.googleusercontent.com/a/default-user=s128",
      "userId": "105461112688777743201"
     },
     "user_tz": 240
    },
    "id": "7N8wiLhdwD-n",
    "outputId": "4d5d69fe-1a18-46d2-c816-c9006d11fcf6"
   },
   "outputs": [
    {
     "name": "stderr",
     "output_type": "stream",
     "text": [
      "C:\\Users\\kunal\\Anaconda3\\lib\\site-packages\\xlsxwriter\\worksheet.py:830: UserWarning: Ignoring URL 'http://fromgeneva.blogspot.com/2007/04/pre-development-agenda-meeting-\n",
      "in.html\n",
      "\n",
      "pre-development%20agenda%20meeting%20in%20singapore\n",
      "\n",
      "fromgeneva\n",
      "thiru%20balasubramaniam\n",
      "16%20april%202007\n",
      "\n",
      "the%20government%20of%20singapore%20will%20host%20a%20pre-development%20agenda%20meeting\n",
      "from%2030%20may%20to%201%20june%202007.%20the%20meeting%20is%20being%20convened%20by%20the\n",
      "intellectual%20property%20office%20of%20singapore%20(ipos)%20with%20invitations%20being\n",
      "signed%20by%20ms.%20liew%20woon%20yin,%20director-general%20(ipos).\n",
      "\n",
      "according%20to%20the%20invitation%20which%20was%20sent%20out%20on%2029%20march%202007,%20the\n",
      "singaporean%20government%20is%20encouraged%20by%20positive%20outcomes%20achieved%20in\n",
      "the%203rd%20session%20of%20the%20provisional%20committee%20on%20proposals%20related%20to%20a\n",
      "wipo%20development%20agenda%20(pcda).%20in%20order%20to%20%22ensure%20that%20the%20pcda\n",
      "succeeds%20in%20its%20endeavor,%20to%20submit%20a%20report%20to%20the%20general%20assembly,\n",
      "later%20this%20year%22,%20singapore%20considers%20it%20imperative%20that%20the%2071\n",
      "proposals%20on%20the%20table%20(including%20establishing%20a%20treaty%20on%20access%20to\n",
      "knowledge%20and%20fostering%20discussion%20on%20a%20medical%20r&d%20treaty),%20be\n",
      "%22examined%20intensively%20and%20a%20proper%20understanding%20developed%22%20prior%20to\n",
      "the%204th%20session%20of%20the%20pcda%20which%20takes%20places%20from%2011-15%20june%202007%20in\n",
      "geneva,%20switzerland.%20this%20initiative%20appears%20similar%20in%20spirit%20to%20the\n",
      "new%20delhi%20pre-development%20agenda%20of%20february%202007%20where%20key\n",
      "stakeholders%20were%20invited%20to%20frame%20a%20common%20consensus.%20it%20remains%20to%20be\n",
      "seen%20how%20this%20informal%20meeting%20of%20selected%20governments%20will%20tackle%20the\n",
      "thornier%20elements%20of%20annex%20b%20of%2071%20proposals%20related%20to%20a%20development\n",
      "agenda.\n",
      "\n",
      "the%20importance%20attached%20to%20achieving%20a%20favorable%20result%20at%20the%20pcda\n",
      "meeting%20in%20june%20is%20evidenced%20by%20singapore's%20remark%20in%20the%20invitation\n",
      "letter%20that%20the\n",
      "\n",
      "%20%20%20%20%20process%20to%20establish%20a%20wipo%20development%20agenda%20has%20attracted\n",
      "considerable%20attention%20the%20world%20over%20and%20has%20raised%20the%20expectation%20of\n",
      "the%20world%20ip%20community,%20particularly%20developing%20countries.\n",
      "\n",
      "\n",
      "\n",
      "as%20the%20singapore%20informal%20is%20intended%20to%20be%20representative,%20invitations\n",
      "have%20been%20extended%20to%20developing%20and%20industrialized%20countries%20and\n",
      "transition%20economies.%20in%20order%20to%20achieve%20geographic%20balance,%20it%20is\n",
      "understood%20that%20the%20regional%20coordinator%20will%20be%20requested%20to%20nominate\n",
      "representatives%20(either%20at%20the%20capital%20level%20or%20the%20geneva%20level)%20to\n",
      "attend%20the%20meeting.%20it%20appears%20that%20wipo%20will%20fund%20the%20travel%20monies\n",
      "for%20officials%20from%20developing%20countries%20and%20transition%20countries.%20since\n",
      "this%20meeting%20%22informal%22,%20it%20is%20unlikely%20that%20there%20will%20be%20any\n",
      "representation%20from%20ngos%20although%20this%20is%20not%20explicilty%20mentioned%20in\n",
      "the%20invitation%20letter.%20as%20the%20future%20success%20of%20the%20development%20agenda\n",
      "is%20at%20stake%20at%20the%20june%20pcda%20meeting,%20the%20bar%20is%20set%20high%20for%20the\n",
      "singapore%20informal%20to%20pave%20the%20way%20for%20wipo%20to%20truly%20integrate%20the\n",
      "development%20dimension.\n",
      "\n",
      "---------------------------------\n",
      "thiru%20balasubramaniam\n",
      "geneva%20representative\n",
      "knowledge%20ecology%20international%20(kei)\n",
      "voice%20+41.22.791.6727\n",
      "fax%20+41.22.723.2988\n",
      "mobile%20+41%2076%20508%200997\n",
      "thiru@keionline.org\n",
      "\n",
      "_______________________________________________\n",
      "ip-health%20mailing%20list\n",
      "ip-health@lists.essential.org\n",
      "http://lists.essential.org/mailman/listinfo/ip-health' with link or location/anchor > 255 characters since it exceeds Excel's limit for URLS\n",
      "  force_unicode(url))\n",
      "C:\\Users\\kunal\\Anaconda3\\lib\\site-packages\\xlsxwriter\\worksheet.py:830: UserWarning: Ignoring URL 'http://www.speedest-net.com/n/\n",
      ";)\n",
      "\n",
      "\n",
      "but%20they%20also%20fear%20discussing%20the%20institution%20because%20of%20the%20severe%20=\n",
      "penalties%20for%20criticising%20members%20of%20the%20royal%20family.\n",
      "australia%20has%20seen%20a%20rise%20in%20the%20number%20of%20hiv%20cases%20in%20recent%20years%20she%20=\n",
      "says%20they%20can%20range%20from%20blanket%20bans%20to%20refusal%20in%20certain%20categories,%20=\n",
      "such%20as%20residency%20or%20right%20to%20work.%20despite%20heavy%20criticism,%20it%20recently%20=\n",
      "took%20the%20decision%20to%20block%20access%20to%20the%20videosharing%20website%20youtube%20=\n",
      "because%20it%20contained%20clips%20which%20were%20deemed%20offensive%20to%20the%20king.\n",
      "in%20rome%20and%20milan%20wholesale%20distributors%20of%20goods%20made%20in%20china%20occupy%20=\n",
      "entire%20quarters%20of%20the%20two%20cities.%20all%20power%20in%20the%20secretive%20state%20=\n",
      "rests%20with%20the%20country's%20reclusive%20leader,%20kim%20jong%20il.%20the%20two%20men%20are%20=\n",
      "expected%20to%20go%20head-to-head%20in%20a%20second%20round%20on%208%20may,%20although%20the%20=\n",
      "final%20results%20of%20the%20first%20round%20will%20not%20be%20known%20until%20early%20next%20=\n",
      "week.%20and%20japan's%20domination%20of%20our%20island%20wasn't%20as%20bloody%20as%20in%20other%20=\n",
      "parts%20of%20the%20japanese%20empire.%20the%20iaea%20is%20likely%20to%20be%20allowed%20a%20=\n",
      "technical%20role%20to%20verify%20the%20shut%20down%20of%20the%20reactor%20at%20yongbyon.\n",
      "japan's%20troops%20have%20started%20to%20join%20international%20missions%20mr%20abe%20has%20=\n",
      "made%20constitutional%20change%20one%20of%20his%20top%20policy%20goals%20since%20being%20=\n",
      "elected%20in%202006.%20i%20couldn't%20imagine%20living%20outside%20this%20village.\n",
      "the%20case%20against%20jufer%20highlights%20the%20strict%20laws%20in%20thailand%20that%20=\n",
      "forbid%20any%20criticism%20of%20the%20monarchy.%20%22singapore's%20politics%20are%20reserved%20=\n",
      "for%20singaporeans.\n",
      "people%20in%20taiwan%20have%20mixed%20feelings%20for%20japan.%20it%20is%20a%20reminder%20that%20=\n",
      "north%20korea%20wants%20to%20keep%20the%20iaea%20at%20arms%20length%20and%20conduct%20the%20=\n",
      "serious%20business%20only%20with%20the%20us.\n",
      "the%20majority%20of%20china's%20repressed%20teenagers,%20who%20are%20desperately%20trying%20=\n",
      "to%20find%20a%20target%20for%20their%20anger%20and%20frustration,%20would%20not%20miss%20this%20=\n",
      "chance.' with link or location/anchor > 255 characters since it exceeds Excel's limit for URLS\n",
      "  force_unicode(url))\n",
      "C:\\Users\\kunal\\Anaconda3\\lib\\site-packages\\xlsxwriter\\worksheet.py:830: UserWarning: Ignoring URL 'http://www.bangkokpost.com/news/17apr2007_news04.php\n",
      "\n",
      "bangkok%20post\n",
      "april%2017,%202007\n",
      "\n",
      "cost%20of%20new%20drugs%20must%20be%20stated\n",
      "\n",
      "fda:%20law%20will%20protect%20rights%20of%20consumers\n",
      "\n",
      "apiradee%20treerutkuarkul\n",
      "\n",
      "pharmaceutical%20firms%20will%20be%20required%20to%20declare%20the%20cost%20of%20each%20new%20drug\n",
      "listed%20for%20introduction%20in%20the%20country%20in%20a%20bid%20to%20protect%20consumer\n",
      "rights,%20food%20and%20drug%20administration%20(fda)%20secretary-general%20siriwat\n",
      "thiptaradol%20said.%20the%20declaration%20of%20production%20costs%20will%20be%20stipulated\n",
      "in%20a%20new%20drugs%20bill%20now%20being%20scrutinised%20by%20the%20council%20of%20state.\n",
      "\n",
      "the%20move,%20which%20is%20aimed%20at%20seeking%20a%20balance%20between%20the%20interests%20of\n",
      "patent%20holders%20and%20the%20public,%20might%20affect%20sales%20to%20some%20level,%20he%20said.\n",
      "\n",
      "however,%20he%20did%20not%20think%20it%20would%20mean%20a%20double%20standard%20for%20the%20makers\n",
      "of%20existing%20drugs.\n",
      "\n",
      "''drugs%20are%20a%20special%20product%20and%20the%20fda%20has%20a%20duty%20to%20ease%20the%20problems\n",
      "of%20drugs%20access%20while%20protecting%20consumers'%20rights.%20in%20the%20meantime,%20we\n",
      "also%20have%20to%20ensure%20the%20move%20will%20not%20severely%20hurt%20the%20benefits%20of%20drug\n",
      "companies,''%20he%20said.\n",
      "\n",
      "in%20february,%20the%20government%20announced%20a%20decision%20to%20adopt%20compulsory\n",
      "licensing%20for%20importing%20or%20producing%20copycat%20versions%20of%20costly%20aids%20and\n",
      "heart%20drugs%20efavirenz,%20kaletra%20and%20plavix.\n",
      "\n",
      "abbott%20laboratories,%20the%20patent%20holder%20of%20kaletra,%20rejected%20the%20move%20by\n",
      "withholding%20a%20plan%20to%20introduce%20new%20drugs%20_%20including%20aluvia,%20which%20is%20an\n",
      "upgraded%20formulation%20of%20kaletra%20_%20in%20thailand.\n",
      "\n",
      "however,%20the%20company%20earlier%20this%20month%20decided%20to%20cut%20the%20kaletra%20price\n",
      "to%203,488%20baht%20per%20month,%20down%2040%25%20from%20its%20previous%20proposal.%20the%20new\n",
      "price%20could%20be%20cheaper%20than%20the%20generic%20version%20of%20the%20anti-aids%20drug.\n",
      "\n",
      "but%20the%20public%20health%20ministry%20has%20yet%20to%20make%20a%20final%20decision%20on%20whether\n",
      "to%20accept%20the%20company's%20offer%20or%20maintain%20its%20previous%20plan%20to%20import\n",
      "generic%20versions%20of%20the%20drug.\n",
      "\n",
      "dr%20siriwat%20said%20he%20believed%20the%20new%20law%20would%20not%20cause%20other%20drug%20firms\n",
      "to%20withhold%20the%20introduction%20of%20new%20drugs%20in%20thailand%20as%20abbott%20did.\n",
      "\n",
      "''the%20drug%20price%20should%20be%20affordable%20for%20people%20in%20each%20country,%20but%20that\n",
      "is%20not%20always%20the%20case.%20for%20example,%20leukaemia%20drugs%20cost%20a%20patient%20nearly\n",
      "100,000%20baht%20a%20month,%20whereas%20the%20average%20monthly%20income%20of%20thai%20people%20is\n",
      "only%2010,000%20baht.%20as%20a%20result,%20some%20patients%20were%20almost%20bankrupted%20by%20the\n",
      "overpriced%20drugs%20necessary%20for%20treatment,''%20he%20said.\n",
      "\n",
      "apart%20from%20the%20issue%20of%20overpriced%20drugs,%20pharmaceutical%20officials%20will\n",
      "keep%20a%20close%20watch%20on%20the%20marketing%20and%20promotional%20tactics%20of%20drug%20firms,\n",
      "particularly%20the%20way%20they%20sponsor%20trips%20for%20health%20professionals%20to%20attend\n",
      "seminars%20and%20conferences%20abroad.\n",
      "\n",
      "jiraporn%20limpananont,%20an%20academic%20at%20chulalongkorn%20university's%20faculty%20of\n",
      "pharmaceutical%20sciences,%20said%20drug%20companies%20have%20invested%20heavily%20in\n",
      "marketing%20and%20promotional%20campaigns,%20and%20that%20made%20drugs%20too%20costly.\n",
      "\n",
      "this%20is%20unfair%20to%20consumers,%20she%20said.\n",
      "\n",
      "''it's%20necessary%20to%20seek%20a%20balance%20between%20the%20patent%20holders%20and%20the\n",
      "public.%20live-saving%20drugs%20should%20not%20be%20products%20that%20only%20the%20well-to-do\n",
      "can%20afford,''%20she%20said.\n",
      "\n",
      "ms%20jiraporn%20also%20questioned%20the%20proposed%20revision%20of%20the%20patent%20law%20by%20the\n",
      "department%20of%20intellectual%20property,%20which%20would%20allow%20opponents%20of\n",
      "patents%20to%20contest%20the%20process%20only%20after%20approval%20is%20given.\n",
      "\n",
      "without%20''pre-grant''%20opposition,%20local%20drug%20firms%20would%20not%20be%20able%20to\n",
      "produce%20generic%20versions%20of%20patented%20drugs%20until%20disputes%20were%20over,%20and\n",
      "that%20would%20mean%20thai%20consumers%20would%20be%20stripped%20of%20fair%20access%20to%20cheap\n",
      "drugs,%20she%20said.\n",
      "_______________________________________________\n",
      "ip-health%20mailing%20list\n",
      "ip-health@lists.essential.org\n",
      "http://lists.essential.org/mailman/listinfo/ip-health' with link or location/anchor > 255 characters since it exceeds Excel's limit for URLS\n",
      "  force_unicode(url))\n",
      "C:\\Users\\kunal\\Anaconda3\\lib\\site-packages\\xlsxwriter\\worksheet.py:830: UserWarning: Ignoring URL 'http://imagecloset.com/uimages/cqs1176820336u.png\n",
      "\n",
      "of%20course%20he%20talked%20that%20double%20talk%20to%20wall%20street%20about%20how%20mysterious%20it%20was%20to%20make%20a%20picture%20but%20father%20didn't%20know%20the%20abc's%20of%20dubbing%20or%20even%20cutting.' with link or location/anchor > 255 characters since it exceeds Excel's limit for URLS\n",
      "  force_unicode(url))\n",
      "C:\\Users\\kunal\\Anaconda3\\lib\\site-packages\\xlsxwriter\\worksheet.py:830: UserWarning: Ignoring URL 'http://271patent.blogspot.com/2007/04/what-hath-scotus-wrought-\n",
      "willful.html\n",
      "\n",
      "peter%20zura's%20271%20patent%20blog\n",
      "\n",
      "wednesday,%20april%2011,%202007\n",
      "what%20hath%20the%20scotus%20wrought?%20willful%20infringement%20in%20a%20post-ebay%20world\n",
      "\n",
      "in%20the%20case%20of%20paice%20llc%20v.%20toyota%20motor%20corporation,%20the%20e.d.%20texas\n",
      "found%20that%20toyota%20willfully%20infringed%20paice's%20patent.%20since%20ebay,\n",
      "permanent%20injunctions%20are%20no%20longer%20granted%20as%20a%20matter%20of%20course,\n",
      "and%20the%20district%20courts%20must%20use%20the%20four-factor%20test%20to%20determine%20a\n",
      "proper%20equitable%20remedy.\n",
      "\n",
      "in%20paice,%20the%20district%20court%20decided%20that,%20since%20paice%20did%20not\n",
      "produce%20products%20that%20competed%20with%20toyota,%20an%20injunction%20was%20not%20an\n",
      "appropriate%20remedy.%20instead,%20the%20court%20ordered%20that%20each%20future%20sale\n",
      "of%20a%20subject%20vehicle%20by%20toyota%20would%20require%20a%20$25%20per%20vehicle\n",
      "royalty%20to%20paice.%20this%20number%20was%20based%20off%20of%20a%20reasonable%20royalty\n",
      "that%20the%20jury%20determined%20would%20have%20been%20agreed%20upon%20by%20the%20parties\n",
      "in%20a%20hypothetical%20negotiation%20at%20a%20time%20just%20prior%20to%20first\n",
      "infringement.\n",
      "\n",
      "the%20problem%20here%20is%20that%20the%20ebay%20court%20provided%20no%20guidance%20on%20what\n",
      "types%20of%20remedies%20are%20appropriate%20for%20the%20court%20to%20consider,%20and%20how\n",
      "the%20remedies%20are%20applied.\n",
      "\n",
      "according%20to%20paice,%20the%20reasonable%20royalty%20may%20have%20been%20acceptable\n",
      "for%20%22regular%22%20infringement,%20but%20it%20is%20not%20appropriate%20for%20ongoing,\n",
      "willful%20infringement.%20since%20the%20district%20court's%20royalty%20is\n",
      "tantamount%20to%20a%20compulsory%20license,%20paice%20argues%20that%20such%20a%20remedy\n",
      "is%20contrary%20to%20judicial%20precedence%20and%2035%20u.s.c.%20§%20283.%20also,%20paice\n",
      "argues%20that%20since%20a%20compulsory%20license%20relates%20to%20damages,%20paice%20is\n",
      "entitled%20to%20a%20jury%20trial%20under%20the%207th%20amendment%20to%20determine%20the\n",
      "appropriate%20number%20for%20future%20damages:\n",
      "\n",
      "-------------\n",
      "\n",
      "%20%20%20%20%20toyota%20erroneously%20asserts%20that%20once%20paice%20made%20a%20request%20for\n",
      "equitable%20relief,%20the%20district%20court%20was%20free%20to%20fashion%20any%20remedy\n",
      "it%20chooses,%20including%20entry%20of%20a%20compulsory%20license%20for%20future\n",
      "infringement%20.%20.%20.%20if%20this%20position%20were%20correct,%20there%20would%20be%20no\n",
      "limitation%20on%20the%20remedies%20available%20because%20virtually%20all%20patent\n",
      "cases%20include%20a%20request%20for%20some%20equitable%20remedy.%20the%20right%20to%20a\n",
      "damages%20trial%20before%20a%20jury%20would%20not%20exist,%20and%20yet%20the%20law%20is%20clear\n",
      "that%20the%20seventh%20amendment%20requires%20that%20a%20district%20court%20submit\n",
      "damages%20to%20a%20jury.\n",
      "\n",
      "%20%20%20%20%20***\n",
      "\n",
      "%20%20%20%20%20toyota's%20argument%20assumes%20that%20paice%20is%20only%20entitled%20to%20the\n",
      "same%20reasonable%20royalty%20rate%20the%20jury%20calculated%20for%20past%20damages.\n",
      "that%20amount%20is%20what%20the%20jury%20found%20a%20willing%20licensor%20and%20willing\n",
      "licensee%20would%20have%20agreed%20upon%20in%20a%20hypothetical%20negotiation%20from\n",
      "the%20time%20infringement%20began%20to%20trial%20.%20.%20.%20it%20cannot,%20and%20should%20not,\n",
      "be%20used%20for%20calculating%20a%20future%20royalty%20rate%20in%20a%20prospective\n",
      "compulsory%20license.%20this%20standard%20fails%20to%20take%20into%20account%20the\n",
      "potential%20for%20future%20lost%20profits,%20loss%20of%20potential%20value%20in\n",
      "granting%20an%20exclusive%20license,%20and%20the%20ongoing%20willful%20infringement\n",
      "that%20would%20occur%20by%20toyota.%20though%20an%20injunction%20has%20not%20been\n",
      "entered,%20toyota's%20decision%20to%20commit%20ongoing%20willful%20infringement%20of\n",
      "a%20valid%20united%20states%20patent,%20because%20it%20is%20so%20essential%20to%20the\n",
      "success%20of%20its%20product,%20should%20be%20considered%20in%20setting%20a%20royalty\n",
      "rate.%20a%20district%20court%20may%20find%20that%20it%20should%20not%20permanently%20enjoin\n",
      "an%20adjudged%20infringer%20from%20selling%20infringing%20goods.%20however,%20the\n",
      "infringer%20should%20still%20have%20to%20account%20for%20its%20choice%20to%20continue\n",
      "willfully%20infringing%20if%20it%20chooses%20to%20do%20so.\n",
      "\n",
      "-------------\n",
      "\n",
      "in%20response,%20toyota%20argues%20that%20the%20license%20was%20appropriate%20under\n",
      "section%20283,%20which%20authorizes%20courts%20to%20award%20patentees%20prospective\n",
      "injunctive%20relief%20%22in%20accordance%20with%20the%20principles%20of%20equity%20.%20.%20.,\n",
      "on%20such%20terms%20as%20the%20court%20deems%20reasonable.%22%20since%20the%20equitable\n",
      "jurisdiction%20of%20the%20court%20was%20properly%20invoked%20for%20injunctive\n",
      "purposes,%20%22%5bt%5dhe%20court%20has%20the%20power%20to%20decide%20all%20relevant%20matters\n",
      "in%20dispute%20and%20to%20award%20complete%20relief%20even%20though%20the%20decree\n",
      "includes%20that%20which%20might%20be%20conferred%20by%20a%20court%20of%20law%20%5bi.e.,\n",
      "monetary%20damages%5d.%22\n",
      "\n",
      "because%20the%20prospective%20damages%20were%20awarded%20as%20part%20of%20the%20equitable\n",
      "jurisdiction%20of%20the%20court,%20toyota%20argues%20that%20paice%20is%20not%20entitled\n",
      "to%20a%20jury%20trial.\n",
      "\n",
      "oral%20arguments%20are%20scheduled%20for%20may%207,%202007%20(2006-1610)\n",
      "\n",
      "see%20paice's%20brief%20here.\n",
      "http://www.mediafire.com/?0mmvnhycmam\n",
      "\n",
      "see%20toyota's%20brief%20here.\n",
      "http://www.mediafire.com/?ajonint1mny\n",
      "\n",
      "posted%20by%20two-seventy-one%20patent%20blog%20at%208:11%20am\n",
      "\n",
      "\n",
      "----------------------------------------------\n",
      "james%20packard%20love\n",
      "knowledge%20ecology%20international\n",
      "http://www.keionline.org\n",
      "james.love@keionline.org\n",
      "washington,%20dc%20+1.202.332.2670\n",
      "\n",
      "%22if%20everyone%20thinks%20the%20same:%20no%20one%20thinks.%22%20bill%20walton%22\n",
      "\n",
      "\n",
      "\n",
      "_______________________________________________\n",
      "ip-health%20mailing%20list\n",
      "ip-health@lists.essential.org\n",
      "http://lists.essential.org/mailman/listinfo/ip-health' with link or location/anchor > 255 characters since it exceeds Excel's limit for URLS\n",
      "  force_unicode(url))\n"
     ]
    },
    {
     "name": "stderr",
     "output_type": "stream",
     "text": [
      "C:\\Users\\kunal\\Anaconda3\\lib\\site-packages\\xlsxwriter\\worksheet.py:830: UserWarning: Ignoring URL 'http://www.kaisernetwork.org/daily_reports/rep_index.cfm?dr_id=44254\n",
      "\n",
      "thailand%20will%20maintain%20compulsory%20licenses%20for%20kaletra,%20efavirenz,\n",
      "despite%20companies'%20drug%20price%20reductions,%20health%20minister%20says\n",
      "\n",
      "kaiser%20news%20network\n",
      "apr%2016,%202007\n",
      "\n",
      "thailand%20will%20maintain%20compulsory%20licenses%20for%20abbott%20laboratories'\n",
      "antiretroviral%20drug%20kaletra%20and%20merck's%20antiretroviral%20efavirenz,\n",
      "despite%20both%20companies'%20decision%20to%20reduce%20the%20cost%20of%20both%20drugs,%20thai\n",
      "health%20minister%20mongkol%20na%20songkhla%20said%20on%20thursday,%20reuters%20health\n",
      "reports%20(wong-anan,%20reuters%20health,%204/12).%20mongkol%20in%20january%20signed%20the\n",
      "compulsory%20license,%20which%20allows%20thailand%20to%20produce%20a%20lower-cost\n",
      "version%20of%20kaletra,%20into%20law.%20abbott%20in%20march%20announced%20that%20it%20had\n",
      "withdrawn%20applications%20to%20sell%20seven%20new%20drugs%20in%20thailand%20in%20response\n",
      "to%20the%20compulsory%20license.%20the%20company%20on%20tuesday%20said%20it%20plans%20to\n",
      "reduce%20the%20cost%20of%20kaletra%20in%20thailand%20and%20more%20than%2040%20low-%20and\n",
      "low-middle-income%20countries%20by%20more%20than%20half.%20the%20company%20said%20it%20will\n",
      "provide%20kaletra%20in%20the%20countries%20for%20$1,000%20per%20patient%20annually,%20which\n",
      "is%20less%20than%20the%20cost%20of%20generic%20versions%20of%20the%20drug,%20instead%20of%20the\n",
      "current%20price%20of%20$2,200.%20kaletra%20costs%20more%20than%20$7,500%20per%20patient\n",
      "annually%20in%20the%20u.s.,%20and%20abbott%20provides%20the%20drug%20at%20a%20cost%20of%20$500%20per\n",
      "patient%20annually%20in%2069%20of%20the%20poorest%20developing%20countries,%20including\n",
      "all%20of%20africa%20(kaiser%20daily%20hiv/aids%20report,%204/11).%20merck%20also%20offered\n",
      "to%20reduce%20the%20price%20of%20its%20antiretroviral%20efavirenz%20to%20$23%20per%20bottle,\n",
      "but%20the%20government%20can%20purchase%20a%20generic%20version%20of%20the%20drug%20from\n",
      "india-based%20drug%20makers%20for%20about%20$20%20per%20bottle%20(kaiser%20daily%20hiv/aids\n",
      "report,%203/28).%20many%20countries%20--%20including%20brazil,%20indonesia,%20malaysia,\n",
      "mozambique%20and%20zambia%20--%20have%20broken%20or%20have%20threatened%20to%20override\n",
      "patents%20on%20antiretrovirals%20and%20drugs%20for%20other%20infectious%20diseases,%20the\n",
      "international%20herald%20tribune%20reports.\n",
      "\n",
      "comments\n",
      "\n",
      "thai%20officials%20said%20wednesday%20that%20the%20government%20had%20not%20yet%20decided%20if\n",
      "the%20price%20reduction%20of%20kaletra%20would%20forestall%20compulsory%20licensing\n",
      "(fuller,%20international%20herald%20tribune,%204/11).%20%22compulsory%20licensing%20is\n",
      "the%20only%20way%20we%20could%20attract%20them%20to%20sit%20down%20and%20talk%20with%20us%20over\n",
      "price%20reduction,%22%20mongkol%20said,%20adding,%20%22we%20will%20continue%20to%20talk%20with\n",
      "them%20until%20we%20reach%20the%20point%20where%20we%20can%20optimize%20the%20accessibility%20of\n",
      "the%20drugs%20to%20the%20thai%20people%22%20(reuters%20health,%204/12).%20jennifer%20smoter,%20a\n",
      "spokesperson%20for%20abbott,%20said,%20%22thailand%20has%20chosen%20to%20break%20patents%20on\n",
      "numerous%20medicines,%20ignoring%20the%20patent%20system,%22%20adding,%20%22as%20such,%20we've\n",
      "elected%20not%20to%20introduce%20new%20medicines%20there%22%20(international%20herald\n",
      "tribune,%204/11).%20some%20aids%20advocates%20said%20abbott%20will%20have%20to%20go%20beyond\n",
      "its%20offer%20to%20reduce%20the%20price%20of%20kaletra%20to%20the%20governments%20of%20more%20than\n",
      "40%20low-%20and%20low-middle-income%20countries.%20paul%20cawthorne,%20head%20of%20mission\n",
      "of%20the%20medecins%20sans%20frontieres,%20said%20the%20company%20had%20not%20included%20in\n",
      "its%20offer%20an%20updated%20version%20of%20kaletra,%20called%20aluvia,%20which%20does%20not\n",
      "require%20refrigeration.%20%22abbott%20has%20to%20do%20more,%22%20cawthorne%20said,%20adding,\n",
      "%22what%20we%20need%20to%20see%20are%20these%20new%20heat%20stable%20aluvia%20tablets%20going%20into\n",
      "people's%20mouths,%20and%20then%20we%20will%20be%20happy%22%20(reuters%20health,%204/12).\n",
      "\n",
      "\n",
      "\n",
      "\n",
      "--\n",
      "mike%20palmedo\n",
      "research%20coordinator\n",
      "program%20on%20information%20justice%20and%20intellectual%20property\n",
      "american%20university,%20washington%20college%20of%20law\n",
      "4910%20massachutsetts%20ave.,%20nw%20washington,%20dc%2020016\n",
      "t%20-%20202-274-4442%20|%20f%20202-274-0659\n",
      "mpalmedo@wcl.american.edu\n",
      "\n",
      "\n",
      "_______________________________________________\n",
      "ip-health%20mailing%20list\n",
      "ip-health@lists.essential.org\n",
      "http://lists.essential.org/mailman/listinfo/ip-health' with link or location/anchor > 255 characters since it exceeds Excel's limit for URLS\n",
      "  force_unicode(url))\n",
      "C:\\Users\\kunal\\Anaconda3\\lib\\site-packages\\xlsxwriter\\worksheet.py:830: UserWarning: Ignoring URL 'http://www.theglobeandmail.com/servlet/story/rtgam.20070418.wxafrica18/\n",
      "bnstory/national/home\n",
      "\n",
      "red%20tape%20blocking%20medicine%20for%20africa\n",
      "organizations%20seek%20amendments%20to%20allow%20production%20of%20generic%20versions\n",
      "for%20export\n",
      "\n",
      "gloria%20galloway\n",
      "\n",
      "%20from%20wednesday's%20globe%20and%20mail\n",
      "\n",
      "ottawa%20—%20three%20years%20after%20jean%20chrétien%20said%20canada%20would%20allow\n",
      "generic%20drug%20makers%20to%20send%20copies%20of%20brand-name%20medicines%20to%20poor\n",
      "countries%20to%20combat%20diseases%20such%20as%20aids%20and%20malaria,%20groups%20that\n",
      "follow%20the%20issue%20say%20not%20a%20single%20pill%20has%20left%20canada.\n",
      "\n",
      "the%20roadblock,%20they%20say,%20is%20red%20tape%20and%20a%20powerful%20brand-name\n",
      "pharmaceutical%20industry%20that%20opposes%20the%20generic%20reproductions.\n",
      "\n",
      "but%20the%20groups%20argue%20that%20canada's%20access%20to%20medicines%20regime%20can%20be\n",
      "rewritten%20to%20get%20the%20drugs%20moving.\n",
      "\n",
      "the%20canadian%20hiv/aids%20legal%20network%20and%20doctors%20without%20borders%20will\n",
      "ask%20the%20commons%20industry,%20science%20and%20technology%20committee%20today%20to\n",
      "change%20the%20law%20to%20allow%20any%20pharmaceutical%20firm%20to%20produce%20generic\n",
      "versions%20of%20any%20drug%20patented%20in%20canada%20for%20export%20to%20any%20eligible\n",
      "developing%20country.\n",
      "\n",
      "%22we%20are%20giving%20them%20concrete%20amendments%20that%20they%20could%20enact,%20if%20they\n",
      "wanted%20to,%20to%20simplify%20the%20legislation%20and%20increase%20the%20chances%20of%20it\n",
      "working.%22%20richard%20elliott,%20the%20deputy%20director%20of%20the%20hiv/aids%20legal\n",
      "network,%20said%20yesterday.\n",
      "\n",
      "shortly%20after%20tony%20clement%20took%20over%20the%20federal%20health%20portfolio%20last\n",
      "year,%20he%20said%20he%20realized%20that%20mr.%20chrétien's%20so-called%20pledge%20to\n",
      "africa%20was%20not%20being%20fulfilled.%20the%20minister%20attributed%20this%20to%20a%20lack\n",
      "of%20%22take-up%22%20by%20developing%20countries,%20where%20aids%20claims%20nearly%208,000\n",
      "lives%20a%20day.\n",
      "\n",
      "but%20mr.%20elliott%20said%20the%20problem%20is%20not%20that%20simple.\n",
      "\n",
      "%22there%20were%20discussions%20when%20the%20legislation%20was%20first%20being%20drafted\n",
      "%5bby%20the%20liberal%20government%5d%20three%20years%20ago%20where%20we%20and%20a%20number%20of\n",
      "the%20other%20%5borganizations%5d%20raised%20concerns%20about%20the%20complexity%20of%20the\n",
      "process,%22%20mr.%20elliott%20said.\n",
      "\n",
      "the%20industry%20committee%20is%20conducting%20a%20mandatory%20review%20of%20the%20drug\n",
      "regime%20and%20must%20table%20a%20report%20in%20mid-may.%20%22so%20now%20is%20the%20time%20to%20go\n",
      "back%20to%20the%20drawing%20board%20and%20say%20this%20is%20too%20complicated,%22%20mr.%20elliott\n",
      "said.\n",
      "\n",
      "apotex,%20one%20of%20canada's%20best-known%20generic%20drug%20manufacturers,%20has\n",
      "developed%20a%20treatment%20for%20people%20with%20hiv%20that%20uses%20three\n",
      "patent-protected%20drugs:%20azt,%203tc%20and%20navirapin.\n",
      "\n",
      "canada's%20law%20requires%20that%20the%20brand-name%20manufacturers%20be%20consulted%20to\n",
      "see%20whether%20they%20will%20let%20the%20generic%20company%20violate%20their%20patents%20by\n",
      "selling%20it%20to%20developing%20countries.%20if%20they%20won't,%20apotex%20must%20obtain\n",
      "what%20is%20known%20as%20a%20%22compulsory%20licence%22%20that%20permits%20the%20sale%20of%20a\n",
      "specific%20quantity%20of%20the%20drug%20to%20a%20specific%20country%20for%20two%20years.\n",
      "\n",
      "that%20means%20that%20%22before%20there%20is%20any%20guarantee%20of%20actually%20being%20able\n",
      "to%20get%20that%20licence%20and%20therefore%20buy%20the%20product,%20the%20%5bdeveloping%5d\n",
      "country%20actually%20has%20to%20step%20forward%20and%20be%20identified,%22%20mr.%20elliott\n",
      "said.\n",
      "\n",
      "%22and%20we%20have%20seen%20over%20the%20last%20decade%20that,%20any%20time%20countries\n",
      "contemplate%20using%20compulsory%20licensing%20to%20override%20patents%20to%20get\n",
      "cheaper%20medicines%20from%20generic%20producers,%20there%20is%20a%20great%20deal%20of\n",
      "pressure%20brought%20to%20bear%20by%20the%20big%20multinational%20pharmaceutical\n",
      "industry,%20which%20doesn't%20want%20to%20see%20this%20happen,%20and%20by%20the%20u.s.\n",
      "government,%20which%20goes%20to%20bat%20for%20its%20pharmaceutical%20industry.%22\n",
      "\n",
      "typically,%20he%20said,%20if%20a%20country%20says%20it%20wants%20to%20buy%20the%20generic%20drugs\n",
      "using%20the%20compulsory%20licence,%20the%20united%20states%20will%20threaten%20to%20cut\n",
      "off%20trade.\n",
      "\n",
      "on%20the%20other%20hand,%20mr.%20elliott%20said,%20if%20a%20generic%20manufacturer%20is\n",
      "permitted%20to%20sell%20any%20quantity%20of%20a%20drug%20to%20any%20number%20of%20countries%20for\n",
      "an%20unlimited%20period,%20paying%20royalties%20to%20the%20brand-name%20company%20as%20is\n",
      "required,%20many%20of%20the%20barriers%20would%20come%20down.\n",
      "\n",
      "%22countries%20that%20want%20to%20do%20this%20will%20still%20have%20to%20stand%20up%20to%20the\n",
      "pressure%20that%20they%20are%20under,%22%20he%20said.%20%22but,%20at%20least%20with%20the%20process\n",
      "that%20we%20are%20describing,%20you%20could%20have%20any%20number%20of%20countries%20getting\n",
      "together%20and%20making%20a%20joint%20order%20for%20a%20large%20quantity%20of%20product%20from\n",
      "a%20generic%20manufacturer.%20that%20would%20bring%20the%20price%20down%20because%20it%20is\n",
      "achieving%20economies%20of%20scale%20and%20there%20would%20be%20a%20certain%20degree%20of\n",
      "safety%20in%20number.%22\n",
      "\n",
      "---------------------------------\n",
      "thiru%20balasubramaniam\n",
      "geneva%20representative\n",
      "knowledge%20ecology%20international%20(kei)\n",
      "voice%20+41.22.791.6727\n",
      "fax%20+41.22.723.2988\n",
      "mobile%20+41%2076%20508%200997\n",
      "thiru@keionline.org\n",
      "_______________________________________________\n",
      "ip-health%20mailing%20list\n",
      "ip-health@lists.essential.org\n",
      "http://lists.essential.org/mailman/listinfo/ip-health' with link or location/anchor > 255 characters since it exceeds Excel's limit for URLS\n",
      "  force_unicode(url))\n",
      "C:\\Users\\kunal\\Anaconda3\\lib\\site-packages\\xlsxwriter\\worksheet.py:830: UserWarning: Ignoring URL 'http://www.parrotcode.org/misc/parrotsketch.html\n",
      "\n",
      "\n",
      "*%20status%20reports.%20please%20have%20them%20ready%20to%20cut%20and%20paste%20to%20move%20the%20%20\n",
      "meeting%20along,%20thanks!\n",
      "\n",
      "*%200.4.11%20release\n",
      "**%20please%20start%20making%20sure%20news%20&%20changelog%20are%20up%20to%20date.\n",
      "\n",
      "*%20q&a\n",
      "**%20steve%20peter's%20%22class%22%20issue:%20http://xrl.us/vo86%20%5bgroups.google.com%5d\n",
      "**%20anything%20else?\n",
      "\n",
      "\n",
      "\n",
      "--\n",
      "will%20%22coke%22%20coleda\n",
      "will@coleda.com' with link or location/anchor > 255 characters since it exceeds Excel's limit for URLS\n",
      "  force_unicode(url))\n"
     ]
    }
   ],
   "source": [
    "#Save to excel \n",
    "excelwriter = pd.ExcelWriter('structured.xlsx', engine='xlsxwriter')\n",
    "\n",
    "df_new.to_excel(excelwriter, index=False)\n",
    "\n",
    "excelwriter.save()"
   ]
  },
  {
   "cell_type": "markdown",
   "metadata": {
    "colab": {
     "autoexec": {
      "startup": false,
      "wait_interval": 0
     }
    },
    "colab_type": "code",
    "collapsed": true,
    "id": "E3h1yHBHwD-x"
   },
   "source": [
    "Download to local if using Google Colab"
   ]
  },
  {
   "cell_type": "code",
   "execution_count": null,
   "metadata": {
    "colab": {
     "autoexec": {
      "startup": false,
      "wait_interval": 0
     }
    },
    "colab_type": "code",
    "id": "WMtWuar_wD-_"
   },
   "outputs": [],
   "source": [
    "from google.colab import files\n",
    "files.download('structured.xlsx')"
   ]
  }
 ],
 "metadata": {
  "colab": {
   "collapsed_sections": [],
   "default_view": {},
   "name": "Part 1 - Structuring data.ipynb",
   "provenance": [],
   "toc_visible": true,
   "version": "0.3.2",
   "views": {}
  },
  "kernelspec": {
   "display_name": "Python 3",
   "language": "python",
   "name": "python3"
  },
  "language_info": {
   "codemirror_mode": {
    "name": "ipython",
    "version": 3
   },
   "file_extension": ".py",
   "mimetype": "text/x-python",
   "name": "python",
   "nbconvert_exporter": "python",
   "pygments_lexer": "ipython3",
   "version": "3.6.4"
  }
 },
 "nbformat": 4,
 "nbformat_minor": 1
}
