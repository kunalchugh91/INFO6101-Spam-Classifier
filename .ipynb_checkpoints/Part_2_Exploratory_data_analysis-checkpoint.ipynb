{
 "cells": [
  {
   "cell_type": "markdown",
   "metadata": {},
   "source": [
    "The purpose of this part is to analyse and explore the data to find features that are likely indicators of spam or ham.\n",
    "\n",
    "Since, the body is the most significant field in an email and has the content that spammers use to exploit thier targets, we generate a word cloud from the body of all spam emails."
   ]
  },
  {
   "cell_type": "markdown",
   "metadata": {},
   "source": [
    "### If on Google Colab"
   ]
  },
  {
   "cell_type": "code",
   "execution_count": 85,
   "metadata": {
    "colab": {
     "autoexec": {
      "startup": false,
      "wait_interval": 0
     },
     "base_uri": "https://localhost:8080/",
     "height": 211
    },
    "colab_type": "code",
    "executionInfo": {
     "elapsed": 2571,
     "status": "ok",
     "timestamp": 1533666604805,
     "user": {
      "displayName": "Kunal Chugh",
      "photoUrl": "https://lh3.googleusercontent.com/a/default-user=s128",
      "userId": "105461112688777743201"
     },
     "user_tz": 240
    },
    "id": "l4InAqlgWMDA",
    "outputId": "ee5a6252-1a1f-47c2-bf56-566ff71d8910"
   },
   "outputs": [
    {
     "name": "stdout",
     "output_type": "stream",
     "text": [
      "Requirement already satisfied: PyDrive in /usr/local/lib/python3.6/dist-packages (1.3.1)\r\n",
      "Requirement already satisfied: PyYAML>=3.0 in /usr/local/lib/python3.6/dist-packages (from PyDrive) (3.13)\r\n",
      "Requirement already satisfied: google-api-python-client>=1.2 in /usr/local/lib/python3.6/dist-packages (from PyDrive) (1.6.7)\r\n",
      "Requirement already satisfied: oauth2client>=4.0.0 in /usr/local/lib/python3.6/dist-packages (from PyDrive) (4.1.2)\r\n",
      "Requirement already satisfied: httplib2<1dev,>=0.9.2 in /usr/local/lib/python3.6/dist-packages (from google-api-python-client>=1.2->PyDrive) (0.11.3)\r\n",
      "Requirement already satisfied: uritemplate<4dev,>=3.0.0 in /usr/local/lib/python3.6/dist-packages (from google-api-python-client>=1.2->PyDrive) (3.0.0)\r\n",
      "Requirement already satisfied: six<2dev,>=1.6.1 in /usr/local/lib/python3.6/dist-packages (from google-api-python-client>=1.2->PyDrive) (1.11.0)\r\n",
      "Requirement already satisfied: rsa>=3.1.4 in /usr/local/lib/python3.6/dist-packages (from oauth2client>=4.0.0->PyDrive) (3.4.2)\r\n",
      "Requirement already satisfied: pyasn1-modules>=0.0.5 in /usr/local/lib/python3.6/dist-packages (from oauth2client>=4.0.0->PyDrive) (0.2.2)\r\n",
      "Requirement already satisfied: pyasn1>=0.1.7 in /usr/local/lib/python3.6/dist-packages (from oauth2client>=4.0.0->PyDrive) (0.4.4)\r\n"
     ]
    }
   ],
   "source": [
    "!pip install PyDrive"
   ]
  },
  {
   "cell_type": "code",
   "execution_count": 86,
   "metadata": {
    "colab": {
     "autoexec": {
      "startup": false,
      "wait_interval": 0
     },
     "base_uri": "https://localhost:8080/",
     "height": 87
    },
    "colab_type": "code",
    "executionInfo": {
     "elapsed": 2861,
     "status": "ok",
     "timestamp": 1533666607944,
     "user": {
      "displayName": "Kunal Chugh",
      "photoUrl": "https://lh3.googleusercontent.com/a/default-user=s128",
      "userId": "105461112688777743201"
     },
     "user_tz": 240
    },
    "id": "dS094NlXX8Cm",
    "outputId": "ed7bc3c2-fad5-41da-9017-2910f9f94bec"
   },
   "outputs": [
    {
     "name": "stdout",
     "output_type": "stream",
     "text": [
      "Requirement already satisfied: wordcloud in /usr/local/lib/python3.6/dist-packages (1.5.0)\r\n",
      "Requirement already satisfied: numpy>=1.6.1 in /usr/local/lib/python3.6/dist-packages (from wordcloud) (1.14.5)\r\n",
      "Requirement already satisfied: pillow in /usr/local/lib/python3.6/dist-packages (from wordcloud) (4.0.0)\r\n",
      "Requirement already satisfied: olefile in /usr/local/lib/python3.6/dist-packages (from pillow->wordcloud) (0.45.1)\r\n"
     ]
    }
   ],
   "source": [
    "!pip install wordcloud"
   ]
  },
  {
   "cell_type": "code",
   "execution_count": 87,
   "metadata": {
    "colab": {
     "autoexec": {
      "startup": false,
      "wait_interval": 0
     },
     "base_uri": "https://localhost:8080/",
     "height": 35
    },
    "colab_type": "code",
    "executionInfo": {
     "elapsed": 2797,
     "status": "ok",
     "timestamp": 1533666611009,
     "user": {
      "displayName": "Kunal Chugh",
      "photoUrl": "https://lh3.googleusercontent.com/a/default-user=s128",
      "userId": "105461112688777743201"
     },
     "user_tz": 240
    },
    "id": "ghIano2RYngr",
    "outputId": "4ea80d30-74af-4262-d2f3-19d32b3128a6"
   },
   "outputs": [
    {
     "name": "stdout",
     "output_type": "stream",
     "text": [
      "Requirement already satisfied: xlrd in /usr/local/lib/python3.6/dist-packages (1.1.0)\r\n"
     ]
    }
   ],
   "source": [
    "!pip install xlrd"
   ]
  },
  {
   "cell_type": "code",
   "execution_count": 0,
   "metadata": {
    "colab": {
     "autoexec": {
      "startup": false,
      "wait_interval": 0
     }
    },
    "colab_type": "code",
    "collapsed": true,
    "id": "lI6H-LuqWM0G"
   },
   "outputs": [],
   "source": [
    "import os\n",
    "from pydrive.auth import GoogleAuth\n",
    "from pydrive.drive import GoogleDrive\n",
    "from google.colab import auth\n",
    "from oauth2client.client import GoogleCredentials"
   ]
  },
  {
   "cell_type": "code",
   "execution_count": 0,
   "metadata": {
    "colab": {
     "autoexec": {
      "startup": false,
      "wait_interval": 0
     }
    },
    "colab_type": "code",
    "collapsed": true,
    "id": "5Tv0wiOGWRv_"
   },
   "outputs": [],
   "source": [
    "auth.authenticate_user()\n",
    "gauth = GoogleAuth()\n",
    "gauth.credentials = GoogleCredentials.get_application_default()\n",
    "drive = GoogleDrive(gauth)"
   ]
  },
  {
   "cell_type": "code",
   "execution_count": 0,
   "metadata": {
    "colab": {
     "autoexec": {
      "startup": false,
      "wait_interval": 0
     }
    },
    "colab_type": "code",
    "collapsed": true,
    "id": "1FLVRGsloSc_"
   },
   "outputs": [],
   "source": [
    "!rm -rf structured.xlsx"
   ]
  },
  {
   "cell_type": "code",
   "execution_count": 0,
   "metadata": {
    "colab": {
     "autoexec": {
      "startup": false,
      "wait_interval": 0
     }
    },
    "colab_type": "code",
    "collapsed": true,
    "id": "-kijyC-gWV4v"
   },
   "outputs": [],
   "source": [
    "download = drive.CreateFile({'id': '1oh_fic0-1N1xh4OlTvGMQ5BTKjOmUYKi'})\n",
    "download.GetContentFile('structured.xlsx')"
   ]
  },
  {
   "cell_type": "code",
   "execution_count": 92,
   "metadata": {
    "colab": {
     "autoexec": {
      "startup": false,
      "wait_interval": 0
     },
     "base_uri": "https://localhost:8080/",
     "height": 104
    },
    "colab_type": "code",
    "executionInfo": {
     "elapsed": 659,
     "status": "ok",
     "timestamp": 1533666618709,
     "user": {
      "displayName": "Kunal Chugh",
      "photoUrl": "https://lh3.googleusercontent.com/a/default-user=s128",
      "userId": "105461112688777743201"
     },
     "user_tz": 240
    },
    "id": "6uHWF3dRVy8a",
    "outputId": "eb5ea09d-26a8-457d-cede-39c936a04f85"
   },
   "outputs": [
    {
     "name": "stdout",
     "output_type": "stream",
     "text": [
      "[nltk_data] Downloading package stopwords to /content/nltk_data...\n",
      "[nltk_data]   Package stopwords is already up-to-date!\n",
      "[nltk_data] Downloading package punkt to /content/nltk_data...\n",
      "[nltk_data]   Package punkt is already up-to-date!\n"
     ]
    },
    {
     "data": {
      "text/plain": [
       "True"
      ]
     },
     "execution_count": 92,
     "metadata": {
      "tags": []
     },
     "output_type": "execute_result"
    }
   ],
   "source": [
    "import nltk\n",
    "nltk.download('stopwords')\n",
    "nltk.download('punkt')"
   ]
  },
  {
   "cell_type": "markdown",
   "metadata": {},
   "source": [
    "### If not on Google Colab"
   ]
  },
  {
   "cell_type": "markdown",
   "metadata": {
    "colab_type": "text",
    "id": "nEdGCPQcVlk4"
   },
   "source": [
    "### Word Cloud"
   ]
  },
  {
   "cell_type": "markdown",
   "metadata": {
    "colab_type": "text",
    "id": "tz5Kszx4VllB"
   },
   "source": [
    "There are certain words that spammers' use very commonly in their email's to catch the attention of their targets. We try to find such words from the email body by constructing a word cloud from our spam dataset. Bigger words in the word cloud are one's that occur more frequently in the dataset."
   ]
  },
  {
   "cell_type": "code",
   "execution_count": 1,
   "metadata": {
    "colab": {
     "autoexec": {
      "startup": false,
      "wait_interval": 0
     }
    },
    "colab_type": "code",
    "id": "7DDSi9dPVllG"
   },
   "outputs": [],
   "source": [
    "import pandas as pd\n",
    "import numpy as np\n",
    "import matplotlib.pyplot as plt\n",
    "import wordcloud\n",
    "import re\n"
   ]
  },
  {
   "cell_type": "markdown",
   "metadata": {
    "colab_type": "text",
    "id": "Q9BSSHAEVlld"
   },
   "source": [
    "Importing the excel file we created in part-1 into a pandas dataframe. We use a converter to convert all empty cell values to np.NaN and non-empty cell values to string type."
   ]
  },
  {
   "cell_type": "code",
   "execution_count": 2,
   "metadata": {
    "colab": {
     "autoexec": {
      "startup": false,
      "wait_interval": 0
     }
    },
    "colab_type": "code",
    "id": "73na18nrVlli"
   },
   "outputs": [],
   "source": [
    "# converter\n",
    "def conv(content):\n",
    "    '''\n",
    "    convert datatype to string or np.NaN\n",
    "    '''\n",
    "    # check for NaN \n",
    "    if(content != content):\n",
    "        return np.NaN\n",
    "    # else convert to string\n",
    "    return str(content)\n",
    "    "
   ]
  },
  {
   "cell_type": "code",
   "execution_count": 3,
   "metadata": {
    "colab": {
     "autoexec": {
      "startup": false,
      "wait_interval": 0
     }
    },
    "colab_type": "code",
    "id": "jd9OIQVvVllz"
   },
   "outputs": [],
   "source": [
    "converters = {'Spam':conv, 'Body':conv, 'Subject':conv, 'From':conv, 'To':conv, 'X-UIDL':conv, 'Message-Id':conv, 'Sender':conv}"
   ]
  },
  {
   "cell_type": "code",
   "execution_count": 4,
   "metadata": {
    "colab": {
     "autoexec": {
      "startup": false,
      "wait_interval": 0
     }
    },
    "colab_type": "code",
    "id": "6bYN6p5iVlmG"
   },
   "outputs": [
    {
     "ename": "FileNotFoundError",
     "evalue": "[Errno 2] No such file or directory: 'structured.xlsx'",
     "output_type": "error",
     "traceback": [
      "\u001b[1;31m---------------------------------------------------------------------------\u001b[0m",
      "\u001b[1;31mFileNotFoundError\u001b[0m                         Traceback (most recent call last)",
      "\u001b[1;32m<ipython-input-4-aa08707b44e5>\u001b[0m in \u001b[0;36m<module>\u001b[1;34m()\u001b[0m\n\u001b[1;32m----> 1\u001b[1;33m \u001b[0mmails\u001b[0m \u001b[1;33m=\u001b[0m \u001b[0mpd\u001b[0m\u001b[1;33m.\u001b[0m\u001b[0mread_excel\u001b[0m\u001b[1;33m(\u001b[0m\u001b[1;34m'structured.xlsx'\u001b[0m\u001b[1;33m,\u001b[0m \u001b[0mindex_col\u001b[0m\u001b[1;33m=\u001b[0m\u001b[1;32mNone\u001b[0m\u001b[1;33m,\u001b[0m \u001b[0mconverters\u001b[0m\u001b[1;33m=\u001b[0m\u001b[0mconverters\u001b[0m \u001b[1;33m)\u001b[0m\u001b[1;33m\u001b[0m\u001b[0m\n\u001b[0m",
      "\u001b[1;32m~\\Anaconda3\\lib\\site-packages\\pandas\\util\\_decorators.py\u001b[0m in \u001b[0;36mwrapper\u001b[1;34m(*args, **kwargs)\u001b[0m\n\u001b[0;32m    176\u001b[0m                 \u001b[1;32melse\u001b[0m\u001b[1;33m:\u001b[0m\u001b[1;33m\u001b[0m\u001b[0m\n\u001b[0;32m    177\u001b[0m                     \u001b[0mkwargs\u001b[0m\u001b[1;33m[\u001b[0m\u001b[0mnew_arg_name\u001b[0m\u001b[1;33m]\u001b[0m \u001b[1;33m=\u001b[0m \u001b[0mnew_arg_value\u001b[0m\u001b[1;33m\u001b[0m\u001b[0m\n\u001b[1;32m--> 178\u001b[1;33m             \u001b[1;32mreturn\u001b[0m \u001b[0mfunc\u001b[0m\u001b[1;33m(\u001b[0m\u001b[1;33m*\u001b[0m\u001b[0margs\u001b[0m\u001b[1;33m,\u001b[0m \u001b[1;33m**\u001b[0m\u001b[0mkwargs\u001b[0m\u001b[1;33m)\u001b[0m\u001b[1;33m\u001b[0m\u001b[0m\n\u001b[0m\u001b[0;32m    179\u001b[0m         \u001b[1;32mreturn\u001b[0m \u001b[0mwrapper\u001b[0m\u001b[1;33m\u001b[0m\u001b[0m\n\u001b[0;32m    180\u001b[0m     \u001b[1;32mreturn\u001b[0m \u001b[0m_deprecate_kwarg\u001b[0m\u001b[1;33m\u001b[0m\u001b[0m\n",
      "\u001b[1;32m~\\Anaconda3\\lib\\site-packages\\pandas\\util\\_decorators.py\u001b[0m in \u001b[0;36mwrapper\u001b[1;34m(*args, **kwargs)\u001b[0m\n\u001b[0;32m    176\u001b[0m                 \u001b[1;32melse\u001b[0m\u001b[1;33m:\u001b[0m\u001b[1;33m\u001b[0m\u001b[0m\n\u001b[0;32m    177\u001b[0m                     \u001b[0mkwargs\u001b[0m\u001b[1;33m[\u001b[0m\u001b[0mnew_arg_name\u001b[0m\u001b[1;33m]\u001b[0m \u001b[1;33m=\u001b[0m \u001b[0mnew_arg_value\u001b[0m\u001b[1;33m\u001b[0m\u001b[0m\n\u001b[1;32m--> 178\u001b[1;33m             \u001b[1;32mreturn\u001b[0m \u001b[0mfunc\u001b[0m\u001b[1;33m(\u001b[0m\u001b[1;33m*\u001b[0m\u001b[0margs\u001b[0m\u001b[1;33m,\u001b[0m \u001b[1;33m**\u001b[0m\u001b[0mkwargs\u001b[0m\u001b[1;33m)\u001b[0m\u001b[1;33m\u001b[0m\u001b[0m\n\u001b[0m\u001b[0;32m    179\u001b[0m         \u001b[1;32mreturn\u001b[0m \u001b[0mwrapper\u001b[0m\u001b[1;33m\u001b[0m\u001b[0m\n\u001b[0;32m    180\u001b[0m     \u001b[1;32mreturn\u001b[0m \u001b[0m_deprecate_kwarg\u001b[0m\u001b[1;33m\u001b[0m\u001b[0m\n",
      "\u001b[1;32m~\\Anaconda3\\lib\\site-packages\\pandas\\io\\excel.py\u001b[0m in \u001b[0;36mread_excel\u001b[1;34m(io, sheet_name, header, names, index_col, usecols, squeeze, dtype, engine, converters, true_values, false_values, skiprows, nrows, na_values, parse_dates, date_parser, thousands, comment, skipfooter, convert_float, **kwds)\u001b[0m\n\u001b[0;32m    305\u001b[0m \u001b[1;33m\u001b[0m\u001b[0m\n\u001b[0;32m    306\u001b[0m     \u001b[1;32mif\u001b[0m \u001b[1;32mnot\u001b[0m \u001b[0misinstance\u001b[0m\u001b[1;33m(\u001b[0m\u001b[0mio\u001b[0m\u001b[1;33m,\u001b[0m \u001b[0mExcelFile\u001b[0m\u001b[1;33m)\u001b[0m\u001b[1;33m:\u001b[0m\u001b[1;33m\u001b[0m\u001b[0m\n\u001b[1;32m--> 307\u001b[1;33m         \u001b[0mio\u001b[0m \u001b[1;33m=\u001b[0m \u001b[0mExcelFile\u001b[0m\u001b[1;33m(\u001b[0m\u001b[0mio\u001b[0m\u001b[1;33m,\u001b[0m \u001b[0mengine\u001b[0m\u001b[1;33m=\u001b[0m\u001b[0mengine\u001b[0m\u001b[1;33m)\u001b[0m\u001b[1;33m\u001b[0m\u001b[0m\n\u001b[0m\u001b[0;32m    308\u001b[0m \u001b[1;33m\u001b[0m\u001b[0m\n\u001b[0;32m    309\u001b[0m     return io.parse(\n",
      "\u001b[1;32m~\\Anaconda3\\lib\\site-packages\\pandas\\io\\excel.py\u001b[0m in \u001b[0;36m__init__\u001b[1;34m(self, io, **kwds)\u001b[0m\n\u001b[0;32m    392\u001b[0m             \u001b[0mself\u001b[0m\u001b[1;33m.\u001b[0m\u001b[0mbook\u001b[0m \u001b[1;33m=\u001b[0m \u001b[0mxlrd\u001b[0m\u001b[1;33m.\u001b[0m\u001b[0mopen_workbook\u001b[0m\u001b[1;33m(\u001b[0m\u001b[0mfile_contents\u001b[0m\u001b[1;33m=\u001b[0m\u001b[0mdata\u001b[0m\u001b[1;33m)\u001b[0m\u001b[1;33m\u001b[0m\u001b[0m\n\u001b[0;32m    393\u001b[0m         \u001b[1;32melif\u001b[0m \u001b[0misinstance\u001b[0m\u001b[1;33m(\u001b[0m\u001b[0mself\u001b[0m\u001b[1;33m.\u001b[0m\u001b[0m_io\u001b[0m\u001b[1;33m,\u001b[0m \u001b[0mcompat\u001b[0m\u001b[1;33m.\u001b[0m\u001b[0mstring_types\u001b[0m\u001b[1;33m)\u001b[0m\u001b[1;33m:\u001b[0m\u001b[1;33m\u001b[0m\u001b[0m\n\u001b[1;32m--> 394\u001b[1;33m             \u001b[0mself\u001b[0m\u001b[1;33m.\u001b[0m\u001b[0mbook\u001b[0m \u001b[1;33m=\u001b[0m \u001b[0mxlrd\u001b[0m\u001b[1;33m.\u001b[0m\u001b[0mopen_workbook\u001b[0m\u001b[1;33m(\u001b[0m\u001b[0mself\u001b[0m\u001b[1;33m.\u001b[0m\u001b[0m_io\u001b[0m\u001b[1;33m)\u001b[0m\u001b[1;33m\u001b[0m\u001b[0m\n\u001b[0m\u001b[0;32m    395\u001b[0m         \u001b[1;32melse\u001b[0m\u001b[1;33m:\u001b[0m\u001b[1;33m\u001b[0m\u001b[0m\n\u001b[0;32m    396\u001b[0m             raise ValueError('Must explicitly set engine if not passing in'\n",
      "\u001b[1;32m~\\Anaconda3\\lib\\site-packages\\xlrd\\__init__.py\u001b[0m in \u001b[0;36mopen_workbook\u001b[1;34m(filename, logfile, verbosity, use_mmap, file_contents, encoding_override, formatting_info, on_demand, ragged_rows)\u001b[0m\n\u001b[0;32m    114\u001b[0m         \u001b[0mpeek\u001b[0m \u001b[1;33m=\u001b[0m \u001b[0mfile_contents\u001b[0m\u001b[1;33m[\u001b[0m\u001b[1;33m:\u001b[0m\u001b[0mpeeksz\u001b[0m\u001b[1;33m]\u001b[0m\u001b[1;33m\u001b[0m\u001b[0m\n\u001b[0;32m    115\u001b[0m     \u001b[1;32melse\u001b[0m\u001b[1;33m:\u001b[0m\u001b[1;33m\u001b[0m\u001b[0m\n\u001b[1;32m--> 116\u001b[1;33m         \u001b[1;32mwith\u001b[0m \u001b[0mopen\u001b[0m\u001b[1;33m(\u001b[0m\u001b[0mfilename\u001b[0m\u001b[1;33m,\u001b[0m \u001b[1;34m\"rb\"\u001b[0m\u001b[1;33m)\u001b[0m \u001b[1;32mas\u001b[0m \u001b[0mf\u001b[0m\u001b[1;33m:\u001b[0m\u001b[1;33m\u001b[0m\u001b[0m\n\u001b[0m\u001b[0;32m    117\u001b[0m             \u001b[0mpeek\u001b[0m \u001b[1;33m=\u001b[0m \u001b[0mf\u001b[0m\u001b[1;33m.\u001b[0m\u001b[0mread\u001b[0m\u001b[1;33m(\u001b[0m\u001b[0mpeeksz\u001b[0m\u001b[1;33m)\u001b[0m\u001b[1;33m\u001b[0m\u001b[0m\n\u001b[0;32m    118\u001b[0m     \u001b[1;32mif\u001b[0m \u001b[0mpeek\u001b[0m \u001b[1;33m==\u001b[0m \u001b[1;34mb\"PK\\x03\\x04\"\u001b[0m\u001b[1;33m:\u001b[0m \u001b[1;31m# a ZIP file\u001b[0m\u001b[1;33m\u001b[0m\u001b[0m\n",
      "\u001b[1;31mFileNotFoundError\u001b[0m: [Errno 2] No such file or directory: 'structured.xlsx'"
     ]
    }
   ],
   "source": [
    "mails = pd.read_excel('structured.xlsx', index_col=None, converters=converters )"
   ]
  },
  {
   "cell_type": "code",
   "execution_count": null,
   "metadata": {
    "colab": {
     "autoexec": {
      "startup": false,
      "wait_interval": 0
     },
     "base_uri": "https://localhost:8080/",
     "height": 395
    },
    "colab_type": "code",
    "executionInfo": {
     "elapsed": 1164,
     "status": "ok",
     "timestamp": 1533666628893,
     "user": {
      "displayName": "Kunal Chugh",
      "photoUrl": "https://lh3.googleusercontent.com/a/default-user=s128",
      "userId": "105461112688777743201"
     },
     "user_tz": 240
    },
    "id": "_vQk2cW0VlmZ",
    "outputId": "a788ef69-c804-4fb4-c6d7-93c2fc147b6f"
   },
   "outputs": [],
   "source": [
    "mails.head()"
   ]
  },
  {
   "cell_type": "code",
   "execution_count": null,
   "metadata": {
    "colab": {
     "autoexec": {
      "startup": false,
      "wait_interval": 0
     }
    },
    "colab_type": "code",
    "id": "S9AVfFkNVlm7"
   },
   "outputs": [],
   "source": []
  },
  {
   "cell_type": "markdown",
   "metadata": {
    "colab_type": "text",
    "id": "w2YqOQ0iVlnL"
   },
   "source": [
    "To filter out meaningless words and generate a cleaner word cloud, we use the nltk package to: \n",
    "1. remove all punctuation using regex & convert to lower case\n",
    "2. Tokenize, stem (Porter stemmer) & remove stop words"
   ]
  },
  {
   "cell_type": "code",
   "execution_count": null,
   "metadata": {
    "colab": {
     "autoexec": {
      "startup": false,
      "wait_interval": 0
     }
    },
    "colab_type": "code",
    "id": "zZSC9_unVlnR"
   },
   "outputs": [],
   "source": [
    "from nltk.tokenize import word_tokenize\n",
    "from nltk.stem import PorterStemmer\n",
    "from nltk.corpus import stopwords"
   ]
  },
  {
   "cell_type": "code",
   "execution_count": null,
   "metadata": {
    "colab": {
     "autoexec": {
      "startup": false,
      "wait_interval": 0
     }
    },
    "colab_type": "code",
    "id": "MZZC98N_Vlnk"
   },
   "outputs": [],
   "source": [
    "def transformBody(body):\n",
    "    '''\n",
    "    data preprocessing steps\n",
    "    '''\n",
    "    # removing ' character (eg. dollar's -> dollars)\n",
    "    # remove other puctuation\n",
    "    body = str(body).replace(\"'\", \"\")\n",
    "    body = re.sub(r\"[^\\w\\s]|_\", \"\", body)\n",
    "    #body = re.sub(\"[\\s+]\", \" \", body)\n",
    "\n",
    "    # to lower case\n",
    "    bodylower = body.lower()\n",
    "    \n",
    "    # tokenize, stem and remove stop words\n",
    "    bodylist = word_tokenize(bodylower)\n",
    "    stemmer = PorterStemmer()\n",
    "    stemmedlist = [stemmer.stem(word) for word in bodylist]\n",
    "    sw = stopwords.words('english')\n",
    "    finalist = [word for word in bodylist if(word not in sw)]\n",
    "    return finalist"
   ]
  },
  {
   "cell_type": "markdown",
   "metadata": {
    "colab": {
     "autoexec": {
      "startup": false,
      "wait_interval": 0
     }
    },
    "colab_type": "code",
    "collapsed": true,
    "id": "o5Q2gNDbVln9"
   },
   "source": [
    "Filtering out body column for spam rows "
   ]
  },
  {
   "cell_type": "code",
   "execution_count": null,
   "metadata": {
    "colab": {
     "autoexec": {
      "startup": false,
      "wait_interval": 0
     }
    },
    "colab_type": "code",
    "id": "G51b3Ob3VloM"
   },
   "outputs": [],
   "source": [
    "spamBodies = mails[mails['Spam'] == 'Spam']['Body']"
   ]
  },
  {
   "cell_type": "code",
   "execution_count": null,
   "metadata": {
    "colab": {
     "autoexec": {
      "startup": false,
      "wait_interval": 0
     }
    },
    "colab_type": "code",
    "id": "IaTiAzcTVloh"
   },
   "outputs": [],
   "source": []
  },
  {
   "cell_type": "markdown",
   "metadata": {
    "colab": {
     "autoexec": {
      "startup": false,
      "wait_interval": 0
     }
    },
    "colab_type": "code",
    "collapsed": true,
    "id": "rcdqE362Vlou"
   },
   "source": [
    "Preprocess spam body"
   ]
  },
  {
   "cell_type": "code",
   "execution_count": null,
   "metadata": {
    "colab": {
     "autoexec": {
      "startup": false,
      "wait_interval": 0
     }
    },
    "colab_type": "code",
    "id": "PXIiK7tKVlo8"
   },
   "outputs": [],
   "source": [
    "spamBodies2 = spamBodies.map(transformBody)"
   ]
  },
  {
   "cell_type": "code",
   "execution_count": null,
   "metadata": {
    "colab": {
     "autoexec": {
      "startup": false,
      "wait_interval": 0
     }
    },
    "colab_type": "code",
    "id": "NNGtEXPvVlpa"
   },
   "outputs": [],
   "source": []
  },
  {
   "cell_type": "code",
   "execution_count": null,
   "metadata": {
    "colab": {
     "autoexec": {
      "startup": false,
      "wait_interval": 0
     }
    },
    "colab_type": "code",
    "id": "J4Z9rb-0Vlpp"
   },
   "outputs": [],
   "source": []
  },
  {
   "cell_type": "markdown",
   "metadata": {
    "colab": {
     "autoexec": {
      "startup": false,
      "wait_interval": 0
     }
    },
    "colab_type": "code",
    "collapsed": true,
    "id": "ymJf-vypVlp4"
   },
   "source": [
    "Aggregating all spam rows to generate wordcloud"
   ]
  },
  {
   "cell_type": "code",
   "execution_count": null,
   "metadata": {
    "colab": {
     "autoexec": {
      "startup": false,
      "wait_interval": 0
     }
    },
    "colab_type": "code",
    "id": "SldHDbOBVlqK"
   },
   "outputs": [],
   "source": [
    "spam_words = ' '.join(np.concatenate(spamBodies2.values.tolist()).tolist())"
   ]
  },
  {
   "cell_type": "code",
   "execution_count": null,
   "metadata": {
    "colab": {
     "autoexec": {
      "startup": false,
      "wait_interval": 0
     }
    },
    "colab_type": "code",
    "id": "1Ra1rhlJVlqY"
   },
   "outputs": [],
   "source": []
  },
  {
   "cell_type": "markdown",
   "metadata": {
    "colab_type": "text",
    "id": "p8kj2oRHVlqp"
   },
   "source": [
    "Using wordcloud package to generate the wordcloud."
   ]
  },
  {
   "cell_type": "code",
   "execution_count": null,
   "metadata": {
    "colab": {
     "autoexec": {
      "startup": false,
      "wait_interval": 0
     },
     "base_uri": "https://localhost:8080/",
     "height": 607
    },
    "colab_type": "code",
    "executionInfo": {
     "elapsed": 6562,
     "status": "ok",
     "timestamp": 1533666688888,
     "user": {
      "displayName": "Kunal Chugh",
      "photoUrl": "https://lh3.googleusercontent.com/a/default-user=s128",
      "userId": "105461112688777743201"
     },
     "user_tz": 240
    },
    "id": "BhZTI0dsVlqu",
    "outputId": "8e48a80d-ad38-4e15-e9be-b927ac285b38"
   },
   "outputs": [],
   "source": [
    "spam_wc = wordcloud.WordCloud(width=768, height=768).generate(spam_words)\n",
    "plt.figure(figsize=(10,8), facecolor='k')\n",
    "plt.imshow(spam_wc)\n",
    "plt.axis('off')\n",
    "plt.tight_layout(pad=0)\n",
    "plt.show()\n"
   ]
  },
  {
   "cell_type": "markdown",
   "metadata": {
    "colab": {
     "autoexec": {
      "startup": false,
      "wait_interval": 0
     }
    },
    "colab_type": "code",
    "collapsed": true,
    "id": "FBtyXu82VlrG"
   },
   "source": [
    "### Wordcloud inference:\n",
    "\n",
    "Words like mailing, list, retail, price, per, item, posting are frequently found in spam emails. They indicate that the spammer wants to sell an item or send spams after user is subscribed to a mailing list or job posting."
   ]
  },
  {
   "cell_type": "code",
   "execution_count": null,
   "metadata": {
    "colab": {
     "autoexec": {
      "startup": false,
      "wait_interval": 0
     }
    },
    "colab_type": "code",
    "id": "IHL5wwkTVlro"
   },
   "outputs": [],
   "source": [
    "#spamBodies['whereHTML'] = spamBodies['Body'].apply(lambda x: x[x.find('tm3')-30:] if(str(x).find('tm3') != -1) else np.NaN)"
   ]
  },
  {
   "cell_type": "code",
   "execution_count": null,
   "metadata": {
    "colab": {
     "autoexec": {
      "startup": false,
      "wait_interval": 0
     }
    },
    "colab_type": "code",
    "id": "UKhQIHTZVlr1"
   },
   "outputs": [],
   "source": [
    "#spamBodies[spamBodies['whereHTML'].notna()]['whereHTML']"
   ]
  },
  {
   "cell_type": "code",
   "execution_count": null,
   "metadata": {
    "colab": {
     "autoexec": {
      "startup": false,
      "wait_interval": 0
     }
    },
    "colab_type": "code",
    "id": "F2Arbe6GVlsE"
   },
   "outputs": [],
   "source": [
    "#print(spamBodies.ix[41]['Body'])"
   ]
  },
  {
   "cell_type": "markdown",
   "metadata": {
    "colab": {
     "autoexec": {
      "startup": false,
      "wait_interval": 0
     }
    },
    "colab_type": "code",
    "collapsed": true,
    "id": "xRa8jU2bVlsU"
   },
   "source": [
    "## Engineering features from Email Headers"
   ]
  },
  {
   "cell_type": "markdown",
   "metadata": {
    "colab": {
     "autoexec": {
      "startup": false,
      "wait_interval": 0
     }
    },
    "colab_type": "code",
    "collapsed": true,
    "id": "jApYy44RVlsj"
   },
   "source": [
    "Email headers show the route an email has taken before arriving at its recipient. It contains important information like sender, recipient, message-id, date and time, subject etc. "
   ]
  },
  {
   "cell_type": "markdown",
   "metadata": {
    "colab": {
     "autoexec": {
      "startup": false,
      "wait_interval": 0
     }
    },
    "colab_type": "code",
    "collapsed": true,
    "id": "aued4pmTVlsx"
   },
   "source": [
    "There are two reasons why spammers try to malform email headers.<br/>\n",
    "    1.They try to conceil their identity and real source of the email.<br/>\n",
    "    2.They try to conceil the fact that the email was part of a mass mailing effort."
   ]
  },
  {
   "cell_type": "markdown",
   "metadata": {
    "colab": {
     "autoexec": {
      "startup": false,
      "wait_interval": 0
     }
    },
    "colab_type": "code",
    "collapsed": true,
    "id": "-xELB2IsVltC"
   },
   "source": [
    "FEATURE1: Spammers will sometimes enter all recipients in the Bcc field, and the address in the 'From' field is used in the 'To' field. Creating a new column 'Feature1' where 1 indicates 'From' field is the same as 'To' field, 0 indicates otherwise."
   ]
  },
  {
   "cell_type": "code",
   "execution_count": null,
   "metadata": {
    "colab": {
     "autoexec": {
      "startup": false,
      "wait_interval": 0
     }
    },
    "colab_type": "code",
    "id": "No2f25X2VltX"
   },
   "outputs": [],
   "source": [
    "df_final = mails"
   ]
  },
  {
   "cell_type": "code",
   "execution_count": null,
   "metadata": {
    "colab": {
     "autoexec": {
      "startup": false,
      "wait_interval": 0
     },
     "base_uri": "https://localhost:8080/",
     "height": 173
    },
    "colab_type": "code",
    "executionInfo": {
     "elapsed": 555,
     "status": "ok",
     "timestamp": 1533666700389,
     "user": {
      "displayName": "Kunal Chugh",
      "photoUrl": "https://lh3.googleusercontent.com/a/default-user=s128",
      "userId": "105461112688777743201"
     },
     "user_tz": 240
    },
    "id": "nj2BGA7vVltm",
    "outputId": "6bcd62bd-9668-49f8-9630-4d10a4202d4e"
   },
   "outputs": [],
   "source": [
    "# Feature1 -> From same as To. If yes -> 1, else 0\n",
    "df_final['Feature1'] = 0\n",
    "df_final.loc[df_final['From'] == df_final['To'], 'Feature1'] = 1\n",
    "df_final['Feature1'].describe()"
   ]
  },
  {
   "cell_type": "markdown",
   "metadata": {},
   "source": [
    "FEATURE2: Again, because spammers send out emails by filling the 'Bcc' field, they sometimes leave the 'To' field empty or with an invalid string. Creating a new column 'Feature2' where 1 indicates invalid or NaN 'To' field, 0 indicates otherwise."
   ]
  },
  {
   "cell_type": "markdown",
   "metadata": {},
   "source": [
    "The method defined below splits the passed string around the ',' character, to get individual email addresses, \n",
    "which are stripped off of the new line chars. Method can handle email address strings like \n",
    "`\"Tomas Jacobs\" <RickyAmes@aol.com>` also. Regex is then used to check format correctness"
   ]
  },
  {
   "cell_type": "code",
   "execution_count": null,
   "metadata": {
    "colab": {
     "autoexec": {
      "startup": false,
      "wait_interval": 0
     }
    },
    "colab_type": "code",
    "id": "kqwd5VpJVlt6"
   },
   "outputs": [],
   "source": [
    "import re\n",
    "def isValidEmailFormat(emails):\n",
    "    '''\n",
    "    regex to check valid email addresses where 0 is valid and 1 is invalid\n",
    "    '''\n",
    "    for email in str(emails).split(','):\n",
    "        if(email.isspace() or len(email) == 0):\n",
    "            continue\n",
    "            \n",
    "        email = re.sub(r'(\\n+)', r' ', str(email)).strip()\n",
    "        print(email)\n",
    "        \n",
    "        if(re.match(r\"(.+)<(.+)>|<(.+)>\", email)):\n",
    "            email = email[email.find(\"<\")+1:-1]\n",
    "            print(0, email)\n",
    "            \n",
    "        if(len(email) > 7):\n",
    "            if(re.match(\"^.+@([?)[a-zA-Z0-9-.]+.([a-zA-Z]{2,3}|[0-9]{1,3})(]?))$\", email) != None):\n",
    "                print('continue')\n",
    "                continue\n",
    "            else:\n",
    "                print('1')\n",
    "                return 1\n",
    "        else:\n",
    "            return 1\n",
    "        \n",
    "    return 0"
   ]
  },
  {
   "cell_type": "code",
   "execution_count": null,
   "metadata": {
    "colab": {
     "autoexec": {
      "startup": false,
      "wait_interval": 0
     },
     "base_uri": "https://localhost:8080/",
     "height": 231150
    },
    "colab_type": "code",
    "executionInfo": {
     "elapsed": 3492,
     "status": "ok",
     "timestamp": 1533666705708,
     "user": {
      "displayName": "Kunal Chugh",
      "photoUrl": "https://lh3.googleusercontent.com/a/default-user=s128",
      "userId": "105461112688777743201"
     },
     "user_tz": 240
    },
    "id": "Ihsl_A6mVluN",
    "outputId": "abaf4f6f-e03e-4b23-e153-b8d34f3baf9f"
   },
   "outputs": [],
   "source": [
    "# Feature2 -> is the To column na or invalid ? 1->invalid, 0->valid\n",
    "df_final['Feature2'] = 0\n",
    "df_final['Feature2'] = df_final['To'].map(isValidEmailFormat)\n",
    "df_final.loc[df_final['To'].isna(),'Feature2'] = 1\n",
    "df_final[df_final['Feature2'] == 1][['Feature2','To']].head()"
   ]
  },
  {
   "cell_type": "markdown",
   "metadata": {},
   "source": [
    "FEATURE3: Since the 'Message-Id' contains information about where the email is coming from, in spam mails, it is typically missing or malformed. Message-Ids are of the form xxx@domain.com. The method below checks the correctness of the Message-Id format. Creating a new column 'Feature3' where 1 indicates Message-ID malformed or missing, 0 indicates otherwise. "
   ]
  },
  {
   "cell_type": "code",
   "execution_count": null,
   "metadata": {
    "colab": {
     "autoexec": {
      "startup": false,
      "wait_interval": 0
     }
    },
    "colab_type": "code",
    "id": "SldXlJOeVluh"
   },
   "outputs": [],
   "source": [
    "import re\n",
    "def isValidMessageID(mid):\n",
    "    '''\n",
    "    checks for valid domain in message id where 0 is valid and 1 is invalid\n",
    "    '''\n",
    "    for email in str(mid).split('\\n'):\n",
    "        if(email.isspace() or len(email) == 0 or email.find('@') < 0):\n",
    "            continue\n",
    "            \n",
    "        email = email.strip()\n",
    "        print(email)\n",
    "        \n",
    "        if(re.match(r\"(.+)?<<(.+)@(.+)>>(.+)?\", email)):\n",
    "            email = email[email.find(\"<<\")+1:email.rfind(\">>\")]\n",
    "            print(0, email)\n",
    "        \n",
    "        if(re.match(r\"(.+)?<(.+)@(.+)>(.+)?\", email)):\n",
    "            email = email[email.find(\"<\")+1:email.rfind(\">\")]\n",
    "            print(0, email)\n",
    "            \n",
    "        if(len(email) > 7):\n",
    "            if(re.match(\"^.+@([?)[a-zA-Z0-9-.]+.([a-zA-Z]{2,3}|[0-9]{1,3})(]?))$\", email) != None):\n",
    "                return 0\n",
    "            else:\n",
    "                continue\n",
    "        else:\n",
    "            continue\n",
    "        \n",
    "    return 1"
   ]
  },
  {
   "cell_type": "markdown",
   "metadata": {},
   "source": [
    "Displaying Message-Id values that are malformed."
   ]
  },
  {
   "cell_type": "code",
   "execution_count": null,
   "metadata": {
    "colab": {
     "autoexec": {
      "startup": false,
      "wait_interval": 0
     },
     "base_uri": "https://localhost:8080/",
     "height": 176047
    },
    "colab_type": "code",
    "executionInfo": {
     "elapsed": 3182,
     "status": "ok",
     "timestamp": 1533666724391,
     "user": {
      "displayName": "Kunal Chugh",
      "photoUrl": "https://lh3.googleusercontent.com/a/default-user=s128",
      "userId": "105461112688777743201"
     },
     "user_tz": 240
    },
    "id": "9_cz1Gc8Vlu2",
    "outputId": "a23edcca-4feb-49ec-c354-3becc60c39f6"
   },
   "outputs": [],
   "source": [
    "# Feature3 -> is the Message-Id column na or invalid ? 1->invalid, 0->valid\n",
    "df_final['Feature3'] = 0\n",
    "df_final['Feature3'] = df_final['Message-Id'].map(isValidMessageID)\n",
    "df_final.loc[df_final['Message-Id'].isna(),'Feature3'] = 1\n",
    "df_final.loc[df_final['Feature3'] == 1][['Feature3','Message-Id']].head()"
   ]
  },
  {
   "cell_type": "markdown",
   "metadata": {},
   "source": [
    "FEATURE4: The 'X-UIDL' header is intended to stop the recepient's mail server from downloading multiple copies of the mail once the mail is received. Normally, X-UIDL is stripped once the mail is received. Spammers' intentionally add the X-UIDL, so that mail servers download multiple copies of the mail, increasing chances of it being read. Creating a new column 'Feature4', where 1 indicates X-UIDL not empty, 0 indicates otherwise."
   ]
  },
  {
   "cell_type": "markdown",
   "metadata": {},
   "source": [
    "Displaying rows where X-UIDL is not empty."
   ]
  },
  {
   "cell_type": "code",
   "execution_count": null,
   "metadata": {
    "colab": {
     "autoexec": {
      "startup": false,
      "wait_interval": 0
     },
     "base_uri": "https://localhost:8080/",
     "height": 225
    },
    "colab_type": "code",
    "executionInfo": {
     "elapsed": 945,
     "status": "ok",
     "timestamp": 1533666742578,
     "user": {
      "displayName": "Kunal Chugh",
      "photoUrl": "https://lh3.googleusercontent.com/a/default-user=s128",
      "userId": "105461112688777743201"
     },
     "user_tz": 240
    },
    "id": "6HKPY8xPVlvN",
    "outputId": "24de0b6c-5dd2-4f4e-8bb4-2486743decbc"
   },
   "outputs": [],
   "source": [
    "# Feature4, is the X-UIDL header not empty or na ? 1->not empty, 0->empty \n",
    "df_final['Feature4'] = 0\n",
    "df_final.loc[df_final['X-UIDL'].notna(), 'Feature4'] = 1\n",
    "df_final.loc[df_final['X-UIDL'].isna(), 'Feature4'] = 0\n",
    "df_final.loc[df_final['Feature4']==1]['X-UIDL'].head()"
   ]
  },
  {
   "cell_type": "markdown",
   "metadata": {},
   "source": [
    "Count analysis for feature 1"
   ]
  },
  {
   "cell_type": "code",
   "execution_count": null,
   "metadata": {
    "colab": {
     "autoexec": {
      "startup": false,
      "wait_interval": 0
     },
     "base_uri": "https://localhost:8080/",
     "height": 87
    },
    "colab_type": "code",
    "executionInfo": {
     "elapsed": 437,
     "status": "ok",
     "timestamp": 1533666747852,
     "user": {
      "displayName": "Kunal Chugh",
      "photoUrl": "https://lh3.googleusercontent.com/a/default-user=s128",
      "userId": "105461112688777743201"
     },
     "user_tz": 240
    },
    "id": "mmFRCAvnVlwC",
    "outputId": "b6cc57bb-b739-470f-e21a-c3d30ecc90a3"
   },
   "outputs": [],
   "source": [
    "s = df_final[df_final['Spam'] == 'Ham']['Feature1']\n",
    "s0 = s[s == 0]\n",
    "s1 = s[s == 1]\n",
    "print('Count of Ham emails that have a Different From and To', s0.count())\n",
    "ham_feature1 = s1.count()\n",
    "print('Count of Ham emails that have a Same From and To', ham_feature1)\n",
    "\n",
    "s = df_final[df_final['Spam'] == 'Spam']['Feature1']\n",
    "s0 = s[s == 0]\n",
    "s1 = s[s == 1]\n",
    "print('Count of Spam emails that have a Different From and To', s0.count())\n",
    "spam_feature1 = s1.count()\n",
    "print('Count of Spam emails that have a Same From and To', spam_feature1)"
   ]
  },
  {
   "cell_type": "markdown",
   "metadata": {},
   "source": [
    "Count analysis for feature 2"
   ]
  },
  {
   "cell_type": "code",
   "execution_count": null,
   "metadata": {
    "colab": {
     "autoexec": {
      "startup": false,
      "wait_interval": 0
     },
     "base_uri": "https://localhost:8080/",
     "height": 87
    },
    "colab_type": "code",
    "executionInfo": {
     "elapsed": 797,
     "status": "ok",
     "timestamp": 1533666744090,
     "user": {
      "displayName": "Kunal Chugh",
      "photoUrl": "https://lh3.googleusercontent.com/a/default-user=s128",
      "userId": "105461112688777743201"
     },
     "user_tz": 240
    },
    "id": "6O_8qGixVlva",
    "outputId": "da1fa615-a833-48b0-ba65-2f94d41724c4"
   },
   "outputs": [],
   "source": [
    "s = df_final[df_final['Spam'] == 'Ham']['Feature2']\n",
    "s0 = s[s == 0]\n",
    "s1 = s[s == 1]\n",
    "print('Count of Ham emails that have a valid To field', s0.count())\n",
    "ham_feature2 = s1.count()\n",
    "print('Count of Ham emails that have an inValid To field', ham_feature2)\n",
    "\n",
    "s = df_final[df_final['Spam'] == 'Spam']['Feature2']\n",
    "s0 = s[s == 0]\n",
    "s1 = s[s == 1]\n",
    "print('Count of spam emails that have a valid To field', s0.count())\n",
    "spam_feature2 = s1.count()\n",
    "print('Count of spam emails that have an inValid To field', spam_feature2)"
   ]
  },
  {
   "cell_type": "markdown",
   "metadata": {},
   "source": [
    "Count analysis for feature 3"
   ]
  },
  {
   "cell_type": "code",
   "execution_count": null,
   "metadata": {
    "colab": {
     "autoexec": {
      "startup": false,
      "wait_interval": 0
     },
     "base_uri": "https://localhost:8080/",
     "height": 87
    },
    "colab_type": "code",
    "executionInfo": {
     "elapsed": 587,
     "status": "ok",
     "timestamp": 1533666745453,
     "user": {
      "displayName": "Kunal Chugh",
      "photoUrl": "https://lh3.googleusercontent.com/a/default-user=s128",
      "userId": "105461112688777743201"
     },
     "user_tz": 240
    },
    "id": "5_0HxtYFVlvl",
    "outputId": "8326cc19-3d31-40db-829e-5ca95b19f7a2"
   },
   "outputs": [],
   "source": [
    "s = df_final[df_final['Spam'] == 'Ham']['Feature3']\n",
    "s0 = s[s == 0]\n",
    "s1 = s[s == 1]\n",
    "print('Count of Ham emails that have a Valid Message-Id field', s0.count())\n",
    "ham_feature3 = s1.count()\n",
    "print('Count of Ham emails that have an InValid Message-Id field', ham_feature3)\n",
    "\n",
    "s = df_final[df_final['Spam'] == 'Spam']['Feature3']\n",
    "s0 = s[s == 0]\n",
    "s1 = s[s == 1]\n",
    "print('Count of Spam emails that have a Valid Message-Id field', s0.count())\n",
    "spam_feature3 = s1.count()\n",
    "print('Count of Spam emails that have an InValid Message-Id field', spam_feature3)"
   ]
  },
  {
   "cell_type": "markdown",
   "metadata": {},
   "source": [
    "Count analysis for feature 4"
   ]
  },
  {
   "cell_type": "code",
   "execution_count": null,
   "metadata": {
    "colab": {
     "autoexec": {
      "startup": false,
      "wait_interval": 0
     },
     "base_uri": "https://localhost:8080/",
     "height": 87
    },
    "colab_type": "code",
    "executionInfo": {
     "elapsed": 569,
     "status": "ok",
     "timestamp": 1533666746681,
     "user": {
      "displayName": "Kunal Chugh",
      "photoUrl": "https://lh3.googleusercontent.com/a/default-user=s128",
      "userId": "105461112688777743201"
     },
     "user_tz": 240
    },
    "id": "yqmCjZUaVlv1",
    "outputId": "a609054d-2fdc-4c25-b8df-b8c695db1315"
   },
   "outputs": [],
   "source": [
    "s = df_final[df_final['Spam'] == 'Ham']['Feature4']\n",
    "s0 = s[s == 0]\n",
    "s1 = s[s == 1]\n",
    "print('Count of Ham emails that have an empty X-UIDL field', s0.count())\n",
    "ham_feature4 = s1.count()\n",
    "print('Count of Ham emails that do not have an empty X-UIDL field', ham_feature4)\n",
    "\n",
    "s = df_final[df_final['Spam'] == 'Spam']['Feature4']\n",
    "s0 = s[s == 0]\n",
    "s1 = s[s == 1]\n",
    "print('Count of Spam emails that have an empty X-UIDL field', s0.count())\n",
    "spam_feature4 = s1.count()\n",
    "print('Count of Spam emails that do not have an empty X-UIDL field', spam_feature4)"
   ]
  },
  {
   "cell_type": "markdown",
   "metadata": {},
   "source": [
    "x_data indicates number of bars in the chart displayed below later <br>\n",
    "y_data is a numpy array of counts of all features calculated above <br>\n",
    "y_sum is sum of spam and ham for y"
   ]
  },
  {
   "cell_type": "code",
   "execution_count": null,
   "metadata": {
    "colab": {
     "autoexec": {
      "startup": false,
      "wait_interval": 0
     },
     "base_uri": "https://localhost:8080/",
     "height": 35
    },
    "colab_type": "code",
    "executionInfo": {
     "elapsed": 619,
     "status": "ok",
     "timestamp": 1533667188216,
     "user": {
      "displayName": "Kunal Chugh",
      "photoUrl": "https://lh3.googleusercontent.com/a/default-user=s128",
      "userId": "105461112688777743201"
     },
     "user_tz": 240
    },
    "id": "JgV7XjDvVlwu",
    "outputId": "0241bb09-cc47-49c4-95f2-766926cd34dc"
   },
   "outputs": [],
   "source": [
    "x_data = (1,2,3,4)\n",
    "y_data = np.array([[spam_feature1,spam_feature2,spam_feature3,spam_feature4],[ham_feature1,ham_feature2,ham_feature3,ham_feature4]])\n",
    "y_sum = y_data[0]+y_data[1]\n"
   ]
  },
  {
   "cell_type": "markdown",
   "metadata": {},
   "source": [
    "## Plot data"
   ]
  },
  {
   "cell_type": "code",
   "execution_count": null,
   "metadata": {
    "colab": {
     "autoexec": {
      "startup": false,
      "wait_interval": 0
     },
     "base_uri": "https://localhost:8080/",
     "height": 363
    },
    "colab_type": "code",
    "executionInfo": {
     "elapsed": 1283,
     "status": "ok",
     "timestamp": 1533667617899,
     "user": {
      "displayName": "Kunal Chugh",
      "photoUrl": "https://lh3.googleusercontent.com/a/default-user=s128",
      "userId": "105461112688777743201"
     },
     "user_tz": 240
    },
    "id": "cF6iXNMxVlxc",
    "outputId": "6a228891-7cc0-40d8-d16b-35d74571b896"
   },
   "outputs": [],
   "source": [
    "p1 = plt.bar(x_data,y_data[0],color='r',align='center',label=['f1','f2','f3','f4'], width=0.35)\n",
    "p2 = plt.bar(x_data,y_data[1],color='g',bottom=y_data[0],align='center',label=['f1','f2','f3','f4'], width=0.35)\n",
    "plt.ylabel('Number of mails')\n",
    "plt.title('Stacked bar plot')\n",
    "plt.xticks(x_data, ('Same From & To','Invalid To','Malformed Message-Id','X-UIDL exists'))\n",
    "plt.yticks(np.arange(0,np.max(y_sum)+10,10))\n",
    "plt.legend((p1[0],p2[0]),('Spam','Ham'),loc = 'upper right')\n",
    "\n",
    "plt.text(1.20,1,spam_feature1)\n",
    "plt.text(1.20,spam_feature1-1,ham_feature1)\n",
    "plt.text(1.20,spam_feature1+ham_feature1+8,y_sum[0])\n",
    "\n",
    "plt.text(2.20,1,spam_feature2)\n",
    "plt.text(2.20,spam_feature2-1,ham_feature2)\n",
    "plt.text(2.20,spam_feature2+ham_feature2+8,y_sum[1])\n",
    "\n",
    "plt.text(3.20,1,spam_feature3)\n",
    "plt.text(3.20,spam_feature3-1,ham_feature3)\n",
    "plt.text(3.20,spam_feature3+ham_feature3+8,y_sum[2])\n",
    "\n",
    "plt.text(4.20,1,spam_feature4)\n",
    "plt.text(4.20,spam_feature4-1,ham_feature4)\n",
    "plt.text(4.20,spam_feature4+ham_feature4+8,y_sum[3])\n",
    "\n",
    "fig = plt.gcf()\n",
    "fig.set_size_inches(11,8)\n",
    "plt.show()"
   ]
  },
  {
   "cell_type": "markdown",
   "metadata": {},
   "source": [
    "### Plot Inference"
   ]
  },
  {
   "cell_type": "markdown",
   "metadata": {
    "colab": {
     "autoexec": {
      "startup": false,
      "wait_interval": 0
     }
    },
    "colab_type": "code",
    "collapsed": true,
    "id": "ah4y18GWVlyC"
   },
   "source": [
    "The above chart depicts our 4 email header features on the x-axis. Notice that the red bars (spam) are longer than the green (ham). This indicates that spam emails are more likely to exhibit these 4 features than ham emails.   "
   ]
  },
  {
   "cell_type": "markdown",
   "metadata": {
    "colab": {
     "autoexec": {
      "startup": false,
      "wait_interval": 0
     }
    },
    "colab_type": "code",
    "collapsed": true,
    "id": "FrtSrOXKVlyM"
   },
   "source": [
    "Also, 'Same From & To' & 'X-UIDL exists' do indicate spam, but they are weak indicators of spam mail. (Because it is possible that you may want to send an email to yourself) "
   ]
  },
  {
   "cell_type": "code",
   "execution_count": null,
   "metadata": {
    "colab": {
     "autoexec": {
      "startup": false,
      "wait_interval": 0
     }
    },
    "colab_type": "code",
    "id": "XmAZSoN1VlyX"
   },
   "outputs": [],
   "source": []
  },
  {
   "cell_type": "code",
   "execution_count": null,
   "metadata": {
    "colab": {
     "autoexec": {
      "startup": false,
      "wait_interval": 0
     }
    },
    "colab_type": "code",
    "id": "PShgeqdPVlye"
   },
   "outputs": [],
   "source": []
  },
  {
   "cell_type": "code",
   "execution_count": null,
   "metadata": {
    "colab": {
     "autoexec": {
      "startup": false,
      "wait_interval": 0
     }
    },
    "colab_type": "code",
    "id": "xT9aQgVoVlyn"
   },
   "outputs": [],
   "source": []
  }
 ],
 "metadata": {
  "accelerator": "GPU",
  "colab": {
   "collapsed_sections": [],
   "default_view": {},
   "name": "Part 2 - Exploratory data analysis.ipynb",
   "provenance": [],
   "version": "0.3.2",
   "views": {}
  },
  "kernelspec": {
   "display_name": "Python 3",
   "language": "python",
   "name": "python3"
  },
  "language_info": {
   "codemirror_mode": {
    "name": "ipython",
    "version": 3
   },
   "file_extension": ".py",
   "mimetype": "text/x-python",
   "name": "python",
   "nbconvert_exporter": "python",
   "pygments_lexer": "ipython3",
   "version": "3.6.4"
  }
 },
 "nbformat": 4,
 "nbformat_minor": 1
}
